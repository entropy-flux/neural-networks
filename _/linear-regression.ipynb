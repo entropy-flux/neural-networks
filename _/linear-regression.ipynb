{
 "cells": [
  {
   "cell_type": "code",
   "execution_count": 1,
   "id": "f0e89171",
   "metadata": {},
   "outputs": [],
   "source": [
    "from torch import Tensor\n",
    "from torch.nn import Module\n",
    "from torch.nn import Linear \n",
    "from torch.nn import Identity\n",
    "\n",
    "class Neuron(Module):\n",
    "    \"\"\"\n",
    "    Represents a single neuron capable of aggregating inputs and applying an activation function.\n",
    "    A neuron is capable of learning linear relationships in data.\n",
    "\n",
    "    Args:\n",
    "        input_features (int): Number of input features.\n",
    "        activation (Module, optional): Activation function to apply after the linear transformation. \n",
    "                                       Defaults to Identity (no activation).\n",
    "    \"\"\"\n",
    "    def __init__(self, connections: int, activation: Module | None = None):\n",
    "        super().__init__()\n",
    "        self.transformation = Linear(connections, 1) \n",
    "        self.activation = activation or Identity()\n",
    "\n",
    "    def forward(self, signals: Tensor):\n",
    "        return self.activation(self.transformation(signals))"
   ]
  },
  {
   "cell_type": "code",
   "execution_count": 2,
   "id": "f9e93fca",
   "metadata": {},
   "outputs": [],
   "source": [
    "from torch.optim import Optimizer\n",
    "\n",
    "class GD(Optimizer):\n",
    "    def __init__(self, params, lr: float):\n",
    "        if lr < 0.0:\n",
    "            raise ValueError(f\"Invalid learning rate: {lr}\")\n",
    "        defaults = dict(lr=lr)\n",
    "        super().__init__(params, defaults)\n",
    "\n",
    "\n",
    "    def step(self): \n",
    "        \"\"\"Performs a single optimization step (no closure support).\"\"\"\n",
    "        for group in self.param_groups:\n",
    "            lr = group['lr']\n",
    "            \n",
    "            for param in group['params']:\n",
    "                if param.grad is None:\n",
    "                    continue\n",
    "                 \n",
    "                param.data -= lr * param.grad.data"
   ]
  },
  {
   "cell_type": "code",
   "execution_count": 3,
   "id": "b9957168",
   "metadata": {},
   "outputs": [],
   "source": [
    "from torch import Tensor\n",
    "from torch import from_numpy\n",
    "from torch.utils.data import Dataset\n",
    "from numpy import float32\n",
    "from sklearn.datasets import make_regression\n",
    "\n",
    "class Hyperplane(Dataset):\n",
    "    \"\"\"\n",
    "    Represents a dataset of points in a hyperplane.\n",
    "\n",
    "    Args:\n",
    "        dimension (int): Number of dimensions of the hyperplane.<\n",
    "        samples (int): Number of samples to generate.\n",
    "        noise (float): Standard deviation of the Gaussian noise added to the targets.\n",
    "        random_state (int, optional): Random seed for reproducibility. Defaults to 42.\n",
    "    \"\"\"\n",
    "    def __init__(self, dimension: int, samples: int, noise: float, random_state: int = 42): \n",
    "        self.features, self.targets = make_regression(samples, dimension, noise=noise, random_state=random_state)  \n",
    "        self.features, self.targets = from_numpy(self.features.astype(float32)), from_numpy(self.targets.astype(float32).reshape(-1, 1))\n",
    "\n",
    "    def __len__(self) :\n",
    "        return len(self.features)\n",
    "    \n",
    "    def __getitem__(self, index: int) -> tuple[Tensor, Tensor]:\n",
    "        return self.features[index], self.targets[index]"
   ]
  },
  {
   "cell_type": "code",
   "execution_count": 4,
   "id": "53098d9f",
   "metadata": {},
   "outputs": [],
   "source": [
    "from torchsystem.services import Consumer, event\n",
    "from torchsystem.depends import Depends\n",
    "\n",
    "consumer = Consumer()\n",
    "\n",
    "def train(model: Neuron, criterion: Module, optimizer: Optimizer, dataset: Hyperplane):\n",
    "    model.train()\n",
    "    optimizer.zero_grad()\n",
    "    outputs = model(dataset.features)\n",
    "    loss = criterion(outputs, dataset.targets)\n",
    "    loss.backward()\n",
    "    optimizer.step()\n",
    "    consumer.consume(Trained(model, loss))\n",
    "\n",
    "@event\n",
    "class Trained:\n",
    "    model: Neuron\n",
    "    loss: Tensor\n",
    "\n",
    "def store() -> dict[str, list]:\n",
    "    ...\n",
    "\n",
    "@consumer.handler\n",
    "def handle_history(event: Trained, store: dict[str, list] = Depends(store)):\n",
    "    store['loss'].append(event.loss.item())\n",
    "    store['bias'].append(event.model.transformation.bias.item())\n",
    "    store['weight'].append(event.model.transformation.weight.item())"
   ]
  },
  {
   "cell_type": "code",
   "execution_count": 5,
   "id": "f29edb70",
   "metadata": {},
   "outputs": [],
   "source": [
    "from torch import Tensor\n",
    "from torch import linspace\n",
    "from plotly.graph_objects import Figure, Scatter  \n",
    "\n",
    "def plot_linear_samples(features: Tensor, targets: Tensor, figure: Figure | None = None) -> Figure:\n",
    "    figure = figure or Figure()\n",
    "    figure.add_trace(\n",
    "        Scatter(\n",
    "            x=features.flatten(),\n",
    "            y=targets.flatten(),\n",
    "            mode='markers',\n",
    "            name='Samples',\n",
    "            marker=dict(\n",
    "                size=8,\n",
    "                color='blue',\n",
    "                opacity=0.7\n",
    "            )\n",
    "        )\n",
    "    )\n",
    "\n",
    "    figure.update_layout(\n",
    "        title='Linear Samples',\n",
    "        xaxis_title='X',\n",
    "        yaxis_title='Y',\n",
    "        showlegend=True\n",
    "    )\n",
    "    return figure\n",
    "\n",
    "\n",
    "def plot_line(slope: float, intercept: float, figure: Figure | None = None) -> Figure:\n",
    "    figure = figure or Figure()\n",
    "    x = linspace(-4, 4, 100) \n",
    "    y = slope * x + intercept\n",
    "    figure.add_trace(\n",
    "        Scatter(\n",
    "            x=x,\n",
    "            y=y,\n",
    "            mode='lines',\n",
    "            name=f'y = {slope:.2f}x + {intercept:.2f}',\n",
    "            line=dict(\n",
    "                color='red',\n",
    "                width=3\n",
    "            )\n",
    "        )\n",
    "    )\n",
    "     \n",
    "    figure.add_trace(\n",
    "        Scatter(\n",
    "            x=[0],\n",
    "            y=[intercept],\n",
    "            mode='markers',\n",
    "            name=f'Intercept (0, {intercept:.2f})',\n",
    "            marker=dict(\n",
    "                color='green',\n",
    "                size=10\n",
    "            )\n",
    "        )\n",
    "    )\n",
    "    \n",
    "    figure.update_layout(\n",
    "        title=f'Linear Function: y = {slope:.2f}x + {intercept:.2f}',\n",
    "        xaxis_title='X',\n",
    "        yaxis_title='Y',\n",
    "        showlegend=True\n",
    "    )\n",
    "    \n",
    "    return figure"
   ]
  },
  {
   "cell_type": "code",
   "execution_count": 6,
   "id": "ae7ff639",
   "metadata": {},
   "outputs": [],
   "source": [
    "from torch import meshgrid\n",
    "from torch import linspace\n",
    "from torch import mean\n",
    "from torch import zeros\n",
    "\n",
    "from plotly.graph_objects import Figure\n",
    "from plotly.graph_objects import Surface\n",
    "\n",
    "def plot_loss_surface(features: Tensor, targets: Tensor, figure: Figure | None = None):\n",
    "    weights = linspace(-10, 60, 100) \n",
    "    biases = linspace(-50, 50, 100) \n",
    "    losses = zeros((len(weights), len(biases)))\n",
    "    for i, weight in enumerate(weights):\n",
    "        for j, bias in enumerate(biases):\n",
    "            predictions = features * weight + bias\n",
    "            losses[i, j] = mean((predictions - targets)**2)\n",
    "    \n",
    "    \n",
    "    weights_grid, biases_grid = meshgrid(weights, biases, indexing='ij')\n",
    "\n",
    "    figure = figure or Figure()\n",
    "    figure.add_trace(Surface(\n",
    "        x=weights_grid,\n",
    "        y=biases_grid,\n",
    "        z=losses,\n",
    "        colorscale='Viridis',\n",
    "        name='Loss surface'\n",
    "    ))\n",
    "     \n",
    "    figure.update_layout(\n",
    "        title='Loss Surface',\n",
    "        scene=dict(\n",
    "            xaxis_title='Weights',\n",
    "            yaxis_title='Biases',\n",
    "            zaxis_title='Loss',\n",
    "            camera=dict(\n",
    "                eye=dict(x=1.5, y=1.5, z=0.8)  # Adjust camera view\n",
    "            )\n",
    "        ),\n",
    "        margin=dict(l=0, r=0, b=0, t=30)\n",
    "    )\n",
    "    return figure    "
   ]
  },
  {
   "cell_type": "code",
   "execution_count": 7,
   "id": "5f6a4eaa",
   "metadata": {},
   "outputs": [],
   "source": [
    "from plotly.graph_objects import Scatter3d\n",
    "\n",
    "def plot_training_history(history: dict[str, list], figure: Figure | None = None):\n",
    "    figure = figure or Figure()\n",
    "    figure.add_trace(Scatter3d(\n",
    "        x=history['weight'],\n",
    "        y=history['bias'],\n",
    "        z=history['loss'],\n",
    "        mode='lines+markers',\n",
    "        marker=dict(\n",
    "            size=4,\n",
    "            color=history['loss'],  \n",
    "            colorscale='reds', \n",
    "        ),\n",
    "        line=dict(\n",
    "            color='red',\n",
    "            width=2\n",
    "        ),\n",
    "        name='Training path'\n",
    "    ))\n",
    "     \n",
    "    return figure"
   ]
  },
  {
   "cell_type": "code",
   "execution_count": 8,
   "id": "98d8dedb",
   "metadata": {},
   "outputs": [],
   "source": [
    "from torch.nn import MSELoss\n",
    "\n",
    "model = Neuron(connections=1)\n",
    "criterion = MSELoss()\n",
    "optimizer = GD(model.parameters(), lr=0.01)\n",
    "dataset = Hyperplane(1, 100, noise=20)  \n",
    "history = {\n",
    "    'loss': [],\n",
    "    'bias': [],\n",
    "    'weight': []\n",
    "}\n",
    "consumer.override(store, lambda: history)\n",
    "\n",
    "for epoch in range(1000):\n",
    "    train(model, criterion, optimizer, dataset)"
   ]
  },
  {
   "cell_type": "code",
   "execution_count": 9,
   "id": "5c5ceffb",
   "metadata": {},
   "outputs": [
    {
     "data": {
      "application/vnd.plotly.v1+json": {
       "config": {
        "plotlyServerURL": "https://plot.ly"
       },
       "data": [
        {
         "marker": {
          "color": "blue",
          "opacity": 0.7,
          "size": 8
         },
         "mode": "markers",
         "name": "Samples",
         "type": "scatter",
         "x": {
          "bdata": "YGhuP7xFsj0SY4e/B+WgPlNW9b7rziU/FUXtvjflCj/Rlhw/xHOAPzRoUj9i3sQ/JQw9P6vxYL5w+U6/E+27PXjW+r9/ZQM/y/eDP+epJ8BRUf4+mNDGPSF07r7LV2o/PkbIP2Gauz91wxm/U74SvXIJGr9MHZm/dde2Pn5bwD4JqYU+XZ4Hv0R0aL/+lUk+fheZvlsouT5OklI/4liVvtgIuT7DSi2/pPLCP1utBL/nxW++ZsLIvkMqmr6RJiW/EVKoPlfgVT5Vw6e+yY6nO5nBb76iK70/gSnFvr3urz5cm6k+Yx0+vpw3cL6oaP6/Vu6lPucxZ75inI2/wLkzv3VUu78e+Xc/HMrcv17m9L8T8g+/mnZEP7EBUD9exrS/NUC9v5tEnL/21la/pSPKP1O9eT/1xHc+FJ2XPqtcC79Nq+G/YivjPSt7Lz4AAqq/yE+HPwLZ7L3yXvC+dyNdvHOkgb8olQ2+wlOTv0aZrT86TIo9JnMAv9jY6750F+0/Jl62v7ZHOL8LepO9FlGevg==",
          "dtype": "f4"
         },
         "y": {
          "bdata": "sr96QqIcvsF/fs3BdPf9QKCbd8E3YBBCQy0jwisrLcFSUatBlGO2Qb3lFEJfIrNCWzQmQu5KcEGIgHfCtjqrQRo4ssJpbpVBY79jQWFo/cJIK01BluTIP80qHcK9mJdBxz2oQszyh0IsGUJAXNHfQDTqKsJCiZTC41LNQQ9zLUJ6LiM/dS+qwZ2VRcIR7IHBBFXfwRNtkj2b7ohC/rt6QXXg80Et+wrCxAFxQhkQnsGNM6/AtWuRQCiYfMFyJUbCaxAFQtZqDkEfmO4/aKZmQbPgSMI2wehChtYKQoHhDELhcNFBuSwTQbYn/sCqgq/CrjgjQuglGcFfuyrCNGoZwvXch8Ld9FxCA16qwnsHscJQIrvBc3NwQlWcW0Icw4bC+vWKwkXzBcK7qxDBUDo8Qp0fgkL8WEJBMiPFwF/rGMLEP3zCJ76gQWJAMsE21SnC1P1cQn2t8kA5vZ/BoekmweziAsJa3TjBHCmAwuQ5pkIuUZFBbBOtwVbm0sFDtZ1Cze6kwoMHP8Kl8jpBkf/xwQ==",
          "dtype": "f4"
         }
        },
        {
         "line": {
          "color": "red",
          "width": 3
         },
         "mode": "lines",
         "name": "y = 47.13x + 2.33",
         "type": "scatter",
         "x": {
          "bdata": "AACAwArUesAVqHXAH3xwwClQa8A0JGbAPvhgwEjMW8BToFbAXXRRwGdITMByHEfAfPBBwIbEPMCRmDfAm2wywKZALcCwFCjAuugiwMW8HcDPkBjA2WQTwOQ4DsDuDAnA+OADwAVq/b8aEvO/L7rov0Ni3r9YCtS/bbLJv4Fav7+WArW/q6qqv79SoL/U+pW/6aKLv/1Kgb8k5m2/TjZZv3eGRL+g1i+/yiYbv/N2Br85juO+jC66vt7OkL5i3k6+ED74vbZ+Jb22fiU9ED74PWLeTj7ezpA+jC66PjmO4z7zdgY/yiYbP6DWLz93hkQ/TjZZPyTmbT/9SoE/6aKLP9T6lT+/UqA/q6qqP5YCtT+BWr8/bbLJP1gK1D9DYt4/L7roPxoS8z8Fav0/+OADQO4MCUDkOA5A2WQTQM+QGEDFvB1AuugiQLAUKECmQC1Am2wyQJGYN0CGxDxAfPBBQHIcR0BnSExAXXRRQFOgVkBIzFtAPvhgQDQkZkApUGtAH3xwQBWodUAK1HpAAACAQA==",
          "dtype": "f4"
         },
         "y": {
          "bdata": "yTM6w79kNsO2lTLDrcYuw6P3KsOaKCfDkFkjw4eKH8N+uxvDdOwXw2sdFMNiThDDWH8Mw06wCMNF4QTDPBIBw2WG+sJS6PLCP0rrwi2s48IaDtzCBnDUwvTRzMLhM8XCzpW9wrv3tcKpWa7ClrumwoMdn8Jwf5fCXeGPwkpDiMI4pYDCSw5ywiTSYsL/lVPC2llEwrMdNcKO4SXCaaUWwkNpB8I6WvDB7+HRwaNps8FY8ZTBGfJswYIBMMHWIebAVYFYwCgI2j6wgYdAb7EAQQWiPUGcknpBmcGbQeQ5ukEvsthBeyr3QWPRCkKJDRpCr0kpQtSFOEL5wUdCIP5WQkU6ZkJqdnVCSVmCQlz3iUJulZFCgTOZQpTRoEKnb6hCug2wQs2rt0LfSb9C8ufGQgWGzkIYJNZCKsLdQj5g5UJR/uxCY5z0QnY6/EJE7AFDTrsFQ1eKCUNgWQ1DaigRQ3T3FEN9xhhDhpUcQ5BkIEOZMyRDogIoQ6zRK0O1oC9Dv28zQ8g+N0PRDTtD29w+Qw==",
          "dtype": "f4"
         }
        },
        {
         "marker": {
          "color": "green",
          "size": 10
         },
         "mode": "markers",
         "name": "Intercept (0, 2.33)",
         "type": "scatter",
         "x": [
          0
         ],
         "y": [
          2.330212354660034
         ]
        }
       ],
       "layout": {
        "showlegend": true,
        "template": {
         "data": {
          "bar": [
           {
            "error_x": {
             "color": "#2a3f5f"
            },
            "error_y": {
             "color": "#2a3f5f"
            },
            "marker": {
             "line": {
              "color": "#E5ECF6",
              "width": 0.5
             },
             "pattern": {
              "fillmode": "overlay",
              "size": 10,
              "solidity": 0.2
             }
            },
            "type": "bar"
           }
          ],
          "barpolar": [
           {
            "marker": {
             "line": {
              "color": "#E5ECF6",
              "width": 0.5
             },
             "pattern": {
              "fillmode": "overlay",
              "size": 10,
              "solidity": 0.2
             }
            },
            "type": "barpolar"
           }
          ],
          "carpet": [
           {
            "aaxis": {
             "endlinecolor": "#2a3f5f",
             "gridcolor": "white",
             "linecolor": "white",
             "minorgridcolor": "white",
             "startlinecolor": "#2a3f5f"
            },
            "baxis": {
             "endlinecolor": "#2a3f5f",
             "gridcolor": "white",
             "linecolor": "white",
             "minorgridcolor": "white",
             "startlinecolor": "#2a3f5f"
            },
            "type": "carpet"
           }
          ],
          "choropleth": [
           {
            "colorbar": {
             "outlinewidth": 0,
             "ticks": ""
            },
            "type": "choropleth"
           }
          ],
          "contour": [
           {
            "colorbar": {
             "outlinewidth": 0,
             "ticks": ""
            },
            "colorscale": [
             [
              0,
              "#0d0887"
             ],
             [
              0.1111111111111111,
              "#46039f"
             ],
             [
              0.2222222222222222,
              "#7201a8"
             ],
             [
              0.3333333333333333,
              "#9c179e"
             ],
             [
              0.4444444444444444,
              "#bd3786"
             ],
             [
              0.5555555555555556,
              "#d8576b"
             ],
             [
              0.6666666666666666,
              "#ed7953"
             ],
             [
              0.7777777777777778,
              "#fb9f3a"
             ],
             [
              0.8888888888888888,
              "#fdca26"
             ],
             [
              1,
              "#f0f921"
             ]
            ],
            "type": "contour"
           }
          ],
          "contourcarpet": [
           {
            "colorbar": {
             "outlinewidth": 0,
             "ticks": ""
            },
            "type": "contourcarpet"
           }
          ],
          "heatmap": [
           {
            "colorbar": {
             "outlinewidth": 0,
             "ticks": ""
            },
            "colorscale": [
             [
              0,
              "#0d0887"
             ],
             [
              0.1111111111111111,
              "#46039f"
             ],
             [
              0.2222222222222222,
              "#7201a8"
             ],
             [
              0.3333333333333333,
              "#9c179e"
             ],
             [
              0.4444444444444444,
              "#bd3786"
             ],
             [
              0.5555555555555556,
              "#d8576b"
             ],
             [
              0.6666666666666666,
              "#ed7953"
             ],
             [
              0.7777777777777778,
              "#fb9f3a"
             ],
             [
              0.8888888888888888,
              "#fdca26"
             ],
             [
              1,
              "#f0f921"
             ]
            ],
            "type": "heatmap"
           }
          ],
          "histogram": [
           {
            "marker": {
             "pattern": {
              "fillmode": "overlay",
              "size": 10,
              "solidity": 0.2
             }
            },
            "type": "histogram"
           }
          ],
          "histogram2d": [
           {
            "colorbar": {
             "outlinewidth": 0,
             "ticks": ""
            },
            "colorscale": [
             [
              0,
              "#0d0887"
             ],
             [
              0.1111111111111111,
              "#46039f"
             ],
             [
              0.2222222222222222,
              "#7201a8"
             ],
             [
              0.3333333333333333,
              "#9c179e"
             ],
             [
              0.4444444444444444,
              "#bd3786"
             ],
             [
              0.5555555555555556,
              "#d8576b"
             ],
             [
              0.6666666666666666,
              "#ed7953"
             ],
             [
              0.7777777777777778,
              "#fb9f3a"
             ],
             [
              0.8888888888888888,
              "#fdca26"
             ],
             [
              1,
              "#f0f921"
             ]
            ],
            "type": "histogram2d"
           }
          ],
          "histogram2dcontour": [
           {
            "colorbar": {
             "outlinewidth": 0,
             "ticks": ""
            },
            "colorscale": [
             [
              0,
              "#0d0887"
             ],
             [
              0.1111111111111111,
              "#46039f"
             ],
             [
              0.2222222222222222,
              "#7201a8"
             ],
             [
              0.3333333333333333,
              "#9c179e"
             ],
             [
              0.4444444444444444,
              "#bd3786"
             ],
             [
              0.5555555555555556,
              "#d8576b"
             ],
             [
              0.6666666666666666,
              "#ed7953"
             ],
             [
              0.7777777777777778,
              "#fb9f3a"
             ],
             [
              0.8888888888888888,
              "#fdca26"
             ],
             [
              1,
              "#f0f921"
             ]
            ],
            "type": "histogram2dcontour"
           }
          ],
          "mesh3d": [
           {
            "colorbar": {
             "outlinewidth": 0,
             "ticks": ""
            },
            "type": "mesh3d"
           }
          ],
          "parcoords": [
           {
            "line": {
             "colorbar": {
              "outlinewidth": 0,
              "ticks": ""
             }
            },
            "type": "parcoords"
           }
          ],
          "pie": [
           {
            "automargin": true,
            "type": "pie"
           }
          ],
          "scatter": [
           {
            "fillpattern": {
             "fillmode": "overlay",
             "size": 10,
             "solidity": 0.2
            },
            "type": "scatter"
           }
          ],
          "scatter3d": [
           {
            "line": {
             "colorbar": {
              "outlinewidth": 0,
              "ticks": ""
             }
            },
            "marker": {
             "colorbar": {
              "outlinewidth": 0,
              "ticks": ""
             }
            },
            "type": "scatter3d"
           }
          ],
          "scattercarpet": [
           {
            "marker": {
             "colorbar": {
              "outlinewidth": 0,
              "ticks": ""
             }
            },
            "type": "scattercarpet"
           }
          ],
          "scattergeo": [
           {
            "marker": {
             "colorbar": {
              "outlinewidth": 0,
              "ticks": ""
             }
            },
            "type": "scattergeo"
           }
          ],
          "scattergl": [
           {
            "marker": {
             "colorbar": {
              "outlinewidth": 0,
              "ticks": ""
             }
            },
            "type": "scattergl"
           }
          ],
          "scattermap": [
           {
            "marker": {
             "colorbar": {
              "outlinewidth": 0,
              "ticks": ""
             }
            },
            "type": "scattermap"
           }
          ],
          "scattermapbox": [
           {
            "marker": {
             "colorbar": {
              "outlinewidth": 0,
              "ticks": ""
             }
            },
            "type": "scattermapbox"
           }
          ],
          "scatterpolar": [
           {
            "marker": {
             "colorbar": {
              "outlinewidth": 0,
              "ticks": ""
             }
            },
            "type": "scatterpolar"
           }
          ],
          "scatterpolargl": [
           {
            "marker": {
             "colorbar": {
              "outlinewidth": 0,
              "ticks": ""
             }
            },
            "type": "scatterpolargl"
           }
          ],
          "scatterternary": [
           {
            "marker": {
             "colorbar": {
              "outlinewidth": 0,
              "ticks": ""
             }
            },
            "type": "scatterternary"
           }
          ],
          "surface": [
           {
            "colorbar": {
             "outlinewidth": 0,
             "ticks": ""
            },
            "colorscale": [
             [
              0,
              "#0d0887"
             ],
             [
              0.1111111111111111,
              "#46039f"
             ],
             [
              0.2222222222222222,
              "#7201a8"
             ],
             [
              0.3333333333333333,
              "#9c179e"
             ],
             [
              0.4444444444444444,
              "#bd3786"
             ],
             [
              0.5555555555555556,
              "#d8576b"
             ],
             [
              0.6666666666666666,
              "#ed7953"
             ],
             [
              0.7777777777777778,
              "#fb9f3a"
             ],
             [
              0.8888888888888888,
              "#fdca26"
             ],
             [
              1,
              "#f0f921"
             ]
            ],
            "type": "surface"
           }
          ],
          "table": [
           {
            "cells": {
             "fill": {
              "color": "#EBF0F8"
             },
             "line": {
              "color": "white"
             }
            },
            "header": {
             "fill": {
              "color": "#C8D4E3"
             },
             "line": {
              "color": "white"
             }
            },
            "type": "table"
           }
          ]
         },
         "layout": {
          "annotationdefaults": {
           "arrowcolor": "#2a3f5f",
           "arrowhead": 0,
           "arrowwidth": 1
          },
          "autotypenumbers": "strict",
          "coloraxis": {
           "colorbar": {
            "outlinewidth": 0,
            "ticks": ""
           }
          },
          "colorscale": {
           "diverging": [
            [
             0,
             "#8e0152"
            ],
            [
             0.1,
             "#c51b7d"
            ],
            [
             0.2,
             "#de77ae"
            ],
            [
             0.3,
             "#f1b6da"
            ],
            [
             0.4,
             "#fde0ef"
            ],
            [
             0.5,
             "#f7f7f7"
            ],
            [
             0.6,
             "#e6f5d0"
            ],
            [
             0.7,
             "#b8e186"
            ],
            [
             0.8,
             "#7fbc41"
            ],
            [
             0.9,
             "#4d9221"
            ],
            [
             1,
             "#276419"
            ]
           ],
           "sequential": [
            [
             0,
             "#0d0887"
            ],
            [
             0.1111111111111111,
             "#46039f"
            ],
            [
             0.2222222222222222,
             "#7201a8"
            ],
            [
             0.3333333333333333,
             "#9c179e"
            ],
            [
             0.4444444444444444,
             "#bd3786"
            ],
            [
             0.5555555555555556,
             "#d8576b"
            ],
            [
             0.6666666666666666,
             "#ed7953"
            ],
            [
             0.7777777777777778,
             "#fb9f3a"
            ],
            [
             0.8888888888888888,
             "#fdca26"
            ],
            [
             1,
             "#f0f921"
            ]
           ],
           "sequentialminus": [
            [
             0,
             "#0d0887"
            ],
            [
             0.1111111111111111,
             "#46039f"
            ],
            [
             0.2222222222222222,
             "#7201a8"
            ],
            [
             0.3333333333333333,
             "#9c179e"
            ],
            [
             0.4444444444444444,
             "#bd3786"
            ],
            [
             0.5555555555555556,
             "#d8576b"
            ],
            [
             0.6666666666666666,
             "#ed7953"
            ],
            [
             0.7777777777777778,
             "#fb9f3a"
            ],
            [
             0.8888888888888888,
             "#fdca26"
            ],
            [
             1,
             "#f0f921"
            ]
           ]
          },
          "colorway": [
           "#636efa",
           "#EF553B",
           "#00cc96",
           "#ab63fa",
           "#FFA15A",
           "#19d3f3",
           "#FF6692",
           "#B6E880",
           "#FF97FF",
           "#FECB52"
          ],
          "font": {
           "color": "#2a3f5f"
          },
          "geo": {
           "bgcolor": "white",
           "lakecolor": "white",
           "landcolor": "#E5ECF6",
           "showlakes": true,
           "showland": true,
           "subunitcolor": "white"
          },
          "hoverlabel": {
           "align": "left"
          },
          "hovermode": "closest",
          "mapbox": {
           "style": "light"
          },
          "paper_bgcolor": "white",
          "plot_bgcolor": "#E5ECF6",
          "polar": {
           "angularaxis": {
            "gridcolor": "white",
            "linecolor": "white",
            "ticks": ""
           },
           "bgcolor": "#E5ECF6",
           "radialaxis": {
            "gridcolor": "white",
            "linecolor": "white",
            "ticks": ""
           }
          },
          "scene": {
           "xaxis": {
            "backgroundcolor": "#E5ECF6",
            "gridcolor": "white",
            "gridwidth": 2,
            "linecolor": "white",
            "showbackground": true,
            "ticks": "",
            "zerolinecolor": "white"
           },
           "yaxis": {
            "backgroundcolor": "#E5ECF6",
            "gridcolor": "white",
            "gridwidth": 2,
            "linecolor": "white",
            "showbackground": true,
            "ticks": "",
            "zerolinecolor": "white"
           },
           "zaxis": {
            "backgroundcolor": "#E5ECF6",
            "gridcolor": "white",
            "gridwidth": 2,
            "linecolor": "white",
            "showbackground": true,
            "ticks": "",
            "zerolinecolor": "white"
           }
          },
          "shapedefaults": {
           "line": {
            "color": "#2a3f5f"
           }
          },
          "ternary": {
           "aaxis": {
            "gridcolor": "white",
            "linecolor": "white",
            "ticks": ""
           },
           "baxis": {
            "gridcolor": "white",
            "linecolor": "white",
            "ticks": ""
           },
           "bgcolor": "#E5ECF6",
           "caxis": {
            "gridcolor": "white",
            "linecolor": "white",
            "ticks": ""
           }
          },
          "title": {
           "x": 0.05
          },
          "xaxis": {
           "automargin": true,
           "gridcolor": "white",
           "linecolor": "white",
           "ticks": "",
           "title": {
            "standoff": 15
           },
           "zerolinecolor": "white",
           "zerolinewidth": 2
          },
          "yaxis": {
           "automargin": true,
           "gridcolor": "white",
           "linecolor": "white",
           "ticks": "",
           "title": {
            "standoff": 15
           },
           "zerolinecolor": "white",
           "zerolinewidth": 2
          }
         }
        },
        "title": {
         "text": "Linear Function: y = 47.13x + 2.33"
        },
        "xaxis": {
         "title": {
          "text": "X"
         }
        },
        "yaxis": {
         "title": {
          "text": "Y"
         }
        }
       }
      }
     },
     "metadata": {},
     "output_type": "display_data"
    },
    {
     "data": {
      "application/vnd.plotly.v1+json": {
       "config": {
        "plotlyServerURL": "https://plot.ly"
       },
       "data": [
        {
         "colorscale": [
          [
           0,
           "#440154"
          ],
          [
           0.1111111111111111,
           "#482878"
          ],
          [
           0.2222222222222222,
           "#3e4989"
          ],
          [
           0.3333333333333333,
           "#31688e"
          ],
          [
           0.4444444444444444,
           "#26828e"
          ],
          [
           0.5555555555555556,
           "#1f9e89"
          ],
          [
           0.6666666666666666,
           "#35b779"
          ],
          [
           0.7777777777777778,
           "#6ece58"
          ],
          [
           0.8888888888888888,
           "#b5de2b"
          ],
          [
           1,
           "#fde725"
          ]
         ],
         "name": "Loss surface",
         "type": "surface",
         "x": {
          "bdata": "AAAgwQAAIMEAACDBAAAgwQAAIMEAACDBAAAgwQAAIMEAACDBAAAgwQAAIMEAACDBAAAgwQAAIMEAACDBAAAgwQAAIMEAACDBAAAgwQAAIMEAACDBAAAgwQAAIMEAACDBAAAgwQAAIMEAACDBAAAgwQAAIMEAACDBAAAgwQAAIMEAACDBAAAgwQAAIMEAACDBAAAgwQAAIMEAACDBAAAgwQAAIMEAACDBAAAgwQAAIMEAACDBAAAgwQAAIMEAACDBAAAgwQAAIMEAACDBAAAgwQAAIMEAACDBAAAgwQAAIMEAACDBAAAgwQAAIMEAACDBAAAgwQAAIMEAACDBAAAgwQAAIMEAACDBAAAgwQAAIMEAACDBAAAgwQAAIMEAACDBAAAgwQAAIMEAACDBAAAgwQAAIMEAACDBAAAgwQAAIMEAACDBAAAgwQAAIMEAACDBAAAgwQAAIMEAACDBAAAgwQAAIMEAACDBAAAgwQAAIMEAACDBAAAgwQAAIMEAACDBAAAgwQAAIMEAACDBAAAgwdevFMHXrxTB168UwdevFMHXrxTB168UwdevFMHXrxTB168UwdevFMHXrxTB168UwdevFMHXrxTB168UwdevFMHXrxTB168UwdevFMHXrxTB168UwdevFMHXrxTB168UwdevFMHXrxTB168UwdevFMHXrxTB168UwdevFMHXrxTB168UwdevFMHXrxTB168UwdevFMHXrxTB168UwdevFMHXrxTB168UwdevFMHXrxTB168UwdevFMHXrxTB168UwdevFMHXrxTB168UwdevFMHXrxTB168UwdevFMHXrxTB168UwdevFMHXrxTB168UwdevFMHXrxTB168UwdevFMHXrxTB168UwdevFMHXrxTB168UwdevFMHXrxTB168UwdevFMHXrxTB168UwdevFMHXrxTB168UwdevFMHXrxTB168UwdevFMHXrxTB168UwdevFMHXrxTB168UwdevFMHXrxTB168UwdevFMHXrxTB168UwdevFMHXrxTB168UwdevFMHXrxTB168UwdevFMGtXwnBrV8Jwa1fCcGtXwnBrV8Jwa1fCcGtXwnBrV8Jwa1fCcGtXwnBrV8Jwa1fCcGtXwnBrV8Jwa1fCcGtXwnBrV8Jwa1fCcGtXwnBrV8Jwa1fCcGtXwnBrV8Jwa1fCcGtXwnBrV8Jwa1fCcGtXwnBrV8Jwa1fCcGtXwnBrV8Jwa1fCcGtXwnBrV8Jwa1fCcGtXwnBrV8Jwa1fCcGtXwnBrV8Jwa1fCcGtXwnBrV8Jwa1fCcGtXwnBrV8Jwa1fCcGtXwnBrV8Jwa1fCcGtXwnBrV8Jwa1fCcGtXwnBrV8Jwa1fCcGtXwnBrV8Jwa1fCcGtXwnBrV8Jwa1fCcGtXwnBrV8Jwa1fCcGtXwnBrV8Jwa1fCcGtXwnBrV8Jwa1fCcGtXwnBrV8Jwa1fCcGtXwnBrV8Jwa1fCcGtXwnBrV8Jwa1fCcGtXwnBrV8Jwa1fCcGtXwnBrV8Jwa1fCcGtXwnBrV8Jwa1fCcGtXwnBrV8Jwa1fCcGtXwnBrV8Jwa1fCcGtXwnBrV8Jwa1fCcGtXwnBCB/8wAgf/MAIH/zACB/8wAgf/MAIH/zACB/8wAgf/MAIH/zACB/8wAgf/MAIH/zACB/8wAgf/MAIH/zACB/8wAgf/MAIH/zACB/8wAgf/MAIH/zACB/8wAgf/MAIH/zACB/8wAgf/MAIH/zACB/8wAgf/MAIH/zACB/8wAgf/MAIH/zACB/8wAgf/MAIH/zACB/8wAgf/MAIH/zACB/8wAgf/MAIH/zACB/8wAgf/MAIH/zACB/8wAgf/MAIH/zACB/8wAgf/MAIH/zACB/8wAgf/MAIH/zACB/8wAgf/MAIH/zACB/8wAgf/MAIH/zACB/8wAgf/MAIH/zACB/8wAgf/MAIH/zACB/8wAgf/MAIH/zACB/8wAgf/MAIH/zACB/8wAgf/MAIH/zACB/8wAgf/MAIH/zACB/8wAgf/MAIH/zACB/8wAgf/MAIH/zACB/8wAgf/MAIH/zACB/8wAgf/MAIH/zACB/8wAgf/MAIH/zACB/8wAgf/MAIH/zACB/8wAgf/MAIH/zACB/8wLV+5cC1fuXAtX7lwLV+5cC1fuXAtX7lwLV+5cC1fuXAtX7lwLV+5cC1fuXAtX7lwLV+5cC1fuXAtX7lwLV+5cC1fuXAtX7lwLV+5cC1fuXAtX7lwLV+5cC1fuXAtX7lwLV+5cC1fuXAtX7lwLV+5cC1fuXAtX7lwLV+5cC1fuXAtX7lwLV+5cC1fuXAtX7lwLV+5cC1fuXAtX7lwLV+5cC1fuXAtX7lwLV+5cC1fuXAtX7lwLV+5cC1fuXAtX7lwLV+5cC1fuXAtX7lwLV+5cC1fuXAtX7lwLV+5cC1fuXAtX7lwLV+5cC1fuXAtX7lwLV+5cC1fuXAtX7lwLV+5cC1fuXAtX7lwLV+5cC1fuXAtX7lwLV+5cC1fuXAtX7lwLV+5cC1fuXAtX7lwLV+5cC1fuXAtX7lwLV+5cC1fuXAtX7lwLV+5cC1fuXAtX7lwLV+5cC1fuXAtX7lwLV+5cC1fuXAtX7lwLV+5cC1fuXAtX7lwLV+5cC1fuXAtX7lwLV+5cC1fuXAtX7lwLV+5cBi3s7AYt7OwGLezsBi3s7AYt7OwGLezsBi3s7AYt7OwGLezsBi3s7AYt7OwGLezsBi3s7AYt7OwGLezsBi3s7AYt7OwGLezsBi3s7AYt7OwGLezsBi3s7AYt7OwGLezsBi3s7AYt7OwGLezsBi3s7AYt7OwGLezsBi3s7AYt7OwGLezsBi3s7AYt7OwGLezsBi3s7AYt7OwGLezsBi3s7AYt7OwGLezsBi3s7AYt7OwGLezsBi3s7AYt7OwGLezsBi3s7AYt7OwGLezsBi3s7AYt7OwGLezsBi3s7AYt7OwGLezsBi3s7AYt7OwGLezsBi3s7AYt7OwGLezsBi3s7AYt7OwGLezsBi3s7AYt7OwGLezsBi3s7AYt7OwGLezsBi3s7AYt7OwGLezsBi3s7AYt7OwGLezsBi3s7AYt7OwGLezsBi3s7AYt7OwGLezsBi3s7AYt7OwGLezsBi3s7AYt7OwGLezsBi3s7AYt7OwGLezsBi3s7AYt7OwGLezsBi3s7AYt7OwGLezsBi3s7AED64wBA+uMAQPrjAED64wBA+uMAQPrjAED64wBA+uMAQPrjAED64wBA+uMAQPrjAED64wBA+uMAQPrjAED64wBA+uMAQPrjAED64wBA+uMAQPrjAED64wBA+uMAQPrjAED64wBA+uMAQPrjAED64wBA+uMAQPrjAED64wBA+uMAQPrjAED64wBA+uMAQPrjAED64wBA+uMAQPrjAED64wBA+uMAQPrjAED64wBA+uMAQPrjAED64wBA+uMAQPrjAED64wBA+uMAQPrjAED64wBA+uMAQPrjAED64wBA+uMAQPrjAED64wBA+uMAQPrjAED64wBA+uMAQPrjAED64wBA+uMAQPrjAED64wBA+uMAQPrjAED64wBA+uMAQPrjAED64wBA+uMAQPrjAED64wBA+uMAQPrjAED64wBA+uMAQPrjAED64wBA+uMAQPrjAED64wBA+uMAQPrjAED64wBA+uMAQPrjAED64wBA+uMAQPrjAED64wBA+uMAQPrjAED64wBA+uMAQPrjAED64wL2docC9naHAvZ2hwL2docC9naHAvZ2hwL2docC9naHAvZ2hwL2docC9naHAvZ2hwL2docC9naHAvZ2hwL2docC9naHAvZ2hwL2docC9naHAvZ2hwL2docC9naHAvZ2hwL2docC9naHAvZ2hwL2docC9naHAvZ2hwL2docC9naHAvZ2hwL2docC9naHAvZ2hwL2docC9naHAvZ2hwL2docC9naHAvZ2hwL2docC9naHAvZ2hwL2docC9naHAvZ2hwL2docC9naHAvZ2hwL2docC9naHAvZ2hwL2docC9naHAvZ2hwL2docC9naHAvZ2hwL2docC9naHAvZ2hwL2docC9naHAvZ2hwL2docC9naHAvZ2hwL2docC9naHAvZ2hwL2docC9naHAvZ2hwL2docC9naHAvZ2hwL2docC9naHAvZ2hwL2docC9naHAvZ2hwL2docC9naHAvZ2hwL2docC9naHAvZ2hwL2docC9naHAvZ2hwL2docC9naHAvZ2hwL2docC9naHAvZ2hwL2docBq/YrAav2KwGr9isBq/YrAav2KwGr9isBq/YrAav2KwGr9isBq/YrAav2KwGr9isBq/YrAav2KwGr9isBq/YrAav2KwGr9isBq/YrAav2KwGr9isBq/YrAav2KwGr9isBq/YrAav2KwGr9isBq/YrAav2KwGr9isBq/YrAav2KwGr9isBq/YrAav2KwGr9isBq/YrAav2KwGr9isBq/YrAav2KwGr9isBq/YrAav2KwGr9isBq/YrAav2KwGr9isBq/YrAav2KwGr9isBq/YrAav2KwGr9isBq/YrAav2KwGr9isBq/YrAav2KwGr9isBq/YrAav2KwGr9isBq/YrAav2KwGr9isBq/YrAav2KwGr9isBq/YrAav2KwGr9isBq/YrAav2KwGr9isBq/YrAav2KwGr9isBq/YrAav2KwGr9isBq/YrAav2KwGr9isBq/YrAav2KwGr9isBq/YrAav2KwGr9isBq/YrAav2KwGr9isBq/YrAav2KwGr9isBq/YrAav2KwGr9isBq/YrALrpowC66aMAuumjALrpowC66aMAuumjALrpowC66aMAuumjALrpowC66aMAuumjALrpowC66aMAuumjALrpowC66aMAuumjALrpowC66aMAuumjALrpowC66aMAuumjALrpowC66aMAuumjALrpowC66aMAuumjALrpowC66aMAuumjALrpowC66aMAuumjALrpowC66aMAuumjALrpowC66aMAuumjALrpowC66aMAuumjALrpowC66aMAuumjALrpowC66aMAuumjALrpowC66aMAuumjALrpowC66aMAuumjALrpowC66aMAuumjALrpowC66aMAuumjALrpowC66aMAuumjALrpowC66aMAuumjALrpowC66aMAuumjALrpowC66aMAuumjALrpowC66aMAuumjALrpowC66aMAuumjALrpowC66aMAuumjALrpowC66aMAuumjALrpowC66aMAuumjALrpowC66aMAuumjALrpowC66aMAuumjALrpowC66aMAuumjALrpowIl5O8CJeTvAiXk7wIl5O8CJeTvAiXk7wIl5O8CJeTvAiXk7wIl5O8CJeTvAiXk7wIl5O8CJeTvAiXk7wIl5O8CJeTvAiXk7wIl5O8CJeTvAiXk7wIl5O8CJeTvAiXk7wIl5O8CJeTvAiXk7wIl5O8CJeTvAiXk7wIl5O8CJeTvAiXk7wIl5O8CJeTvAiXk7wIl5O8CJeTvAiXk7wIl5O8CJeTvAiXk7wIl5O8CJeTvAiXk7wIl5O8CJeTvAiXk7wIl5O8CJeTvAiXk7wIl5O8CJeTvAiXk7wIl5O8CJeTvAiXk7wIl5O8CJeTvAiXk7wIl5O8CJeTvAiXk7wIl5O8CJeTvAiXk7wIl5O8CJeTvAiXk7wIl5O8CJeTvAiXk7wIl5O8CJeTvAiXk7wIl5O8CJeTvAiXk7wIl5O8CJeTvAiXk7wIl5O8CJeTvAiXk7wIl5O8CJeTvAiXk7wIl5O8CJeTvAiXk7wIl5O8CJeTvAiXk7wIl5O8CJeTvAiXk7wIl5O8CJeTvAiXk7wIl5O8DkOA7A5DgOwOQ4DsDkOA7A5DgOwOQ4DsDkOA7A5DgOwOQ4DsDkOA7A5DgOwOQ4DsDkOA7A5DgOwOQ4DsDkOA7A5DgOwOQ4DsDkOA7A5DgOwOQ4DsDkOA7A5DgOwOQ4DsDkOA7A5DgOwOQ4DsDkOA7A5DgOwOQ4DsDkOA7A5DgOwOQ4DsDkOA7A5DgOwOQ4DsDkOA7A5DgOwOQ4DsDkOA7A5DgOwOQ4DsDkOA7A5DgOwOQ4DsDkOA7A5DgOwOQ4DsDkOA7A5DgOwOQ4DsDkOA7A5DgOwOQ4DsDkOA7A5DgOwOQ4DsDkOA7A5DgOwOQ4DsDkOA7A5DgOwOQ4DsDkOA7A5DgOwOQ4DsDkOA7A5DgOwOQ4DsDkOA7A5DgOwOQ4DsDkOA7A5DgOwOQ4DsDkOA7A5DgOwOQ4DsDkOA7A5DgOwOQ4DsDkOA7A5DgOwOQ4DsDkOA7A5DgOwOQ4DsDkOA7A5DgOwOQ4DsDkOA7A5DgOwOQ4DsDkOA7A5DgOwOQ4DsDkOA7A5DgOwOQ4DsDkOA7AfPDBv3zwwb988MG/fPDBv3zwwb988MG/fPDBv3zwwb988MG/fPDBv3zwwb988MG/fPDBv3zwwb988MG/fPDBv3zwwb988MG/fPDBv3zwwb988MG/fPDBv3zwwb988MG/fPDBv3zwwb988MG/fPDBv3zwwb988MG/fPDBv3zwwb988MG/fPDBv3zwwb988MG/fPDBv3zwwb988MG/fPDBv3zwwb988MG/fPDBv3zwwb988MG/fPDBv3zwwb988MG/fPDBv3zwwb988MG/fPDBv3zwwb988MG/fPDBv3zwwb988MG/fPDBv3zwwb988MG/fPDBv3zwwb988MG/fPDBv3zwwb988MG/fPDBv3zwwb988MG/fPDBv3zwwb988MG/fPDBv3zwwb988MG/fPDBv3zwwb988MG/fPDBv3zwwb988MG/fPDBv3zwwb988MG/fPDBv3zwwb988MG/fPDBv3zwwb988MG/fPDBv3zwwb988MG/fPDBv3zwwb988MG/fPDBv3zwwb988MG/fPDBv2LeTr9i3k6/Yt5Ov2LeTr9i3k6/Yt5Ov2LeTr9i3k6/Yt5Ov2LeTr9i3k6/Yt5Ov2LeTr9i3k6/Yt5Ov2LeTr9i3k6/Yt5Ov2LeTr9i3k6/Yt5Ov2LeTr9i3k6/Yt5Ov2LeTr9i3k6/Yt5Ov2LeTr9i3k6/Yt5Ov2LeTr9i3k6/Yt5Ov2LeTr9i3k6/Yt5Ov2LeTr9i3k6/Yt5Ov2LeTr9i3k6/Yt5Ov2LeTr9i3k6/Yt5Ov2LeTr9i3k6/Yt5Ov2LeTr9i3k6/Yt5Ov2LeTr9i3k6/Yt5Ov2LeTr9i3k6/Yt5Ov2LeTr9i3k6/Yt5Ov2LeTr9i3k6/Yt5Ov2LeTr9i3k6/Yt5Ov2LeTr9i3k6/Yt5Ov2LeTr9i3k6/Yt5Ov2LeTr9i3k6/Yt5Ov2LeTr9i3k6/Yt5Ov2LeTr9i3k6/Yt5Ov2LeTr9i3k6/Yt5Ov2LeTr9i3k6/Yt5Ov2LeTr9i3k6/Yt5Ov2LeTr9i3k6/Yt5Ov2LeTr9i3k6/Yt5Ov2LeTr9i3k6/Yt5Ov2LeTr9g3s69YN7OvWDezr1g3s69YN7OvWDezr1g3s69YN7OvWDezr1g3s69YN7OvWDezr1g3s69YN7OvWDezr1g3s69YN7OvWDezr1g3s69YN7OvWDezr1g3s69YN7OvWDezr1g3s69YN7OvWDezr1g3s69YN7OvWDezr1g3s69YN7OvWDezr1g3s69YN7OvWDezr1g3s69YN7OvWDezr1g3s69YN7OvWDezr1g3s69YN7OvWDezr1g3s69YN7OvWDezr1g3s69YN7OvWDezr1g3s69YN7OvWDezr1g3s69YN7OvWDezr1g3s69YN7OvWDezr1g3s69YN7OvWDezr1g3s69YN7OvWDezr1g3s69YN7OvWDezr1g3s69YN7OvWDezr1g3s69YN7OvWDezr1g3s69YN7OvWDezr1g3s69YN7OvWDezr1g3s69YN7OvWDezr1g3s69YN7OvWDezr1g3s69YN7OvWDezr1g3s69YN7OvWDezr1g3s69YN7OvWDezr1g3s69YN7OvWDezr1g3s69yiYbP8omGz/KJhs/yiYbP8omGz/KJhs/yiYbP8omGz/KJhs/yiYbP8omGz/KJhs/yiYbP8omGz/KJhs/yiYbP8omGz/KJhs/yiYbP8omGz/KJhs/yiYbP8omGz/KJhs/yiYbP8omGz/KJhs/yiYbP8omGz/KJhs/yiYbP8omGz/KJhs/yiYbP8omGz/KJhs/yiYbP8omGz/KJhs/yiYbP8omGz/KJhs/yiYbP8omGz/KJhs/yiYbP8omGz/KJhs/yiYbP8omGz/KJhs/yiYbP8omGz/KJhs/yiYbP8omGz/KJhs/yiYbP8omGz/KJhs/yiYbP8omGz/KJhs/yiYbP8omGz/KJhs/yiYbP8omGz/KJhs/yiYbP8omGz/KJhs/yiYbP8omGz/KJhs/yiYbP8omGz/KJhs/yiYbP8omGz/KJhs/yiYbP8omGz/KJhs/yiYbP8omGz/KJhs/yiYbP8omGz/KJhs/yiYbP8omGz/KJhs/yiYbP8omGz/KJhs/yiYbP8omGz/KJhs/yiYbP7AUqD+wFKg/sBSoP7AUqD+wFKg/sBSoP7AUqD+wFKg/sBSoP7AUqD+wFKg/sBSoP7AUqD+wFKg/sBSoP7AUqD+wFKg/sBSoP7AUqD+wFKg/sBSoP7AUqD+wFKg/sBSoP7AUqD+wFKg/sBSoP7AUqD+wFKg/sBSoP7AUqD+wFKg/sBSoP7AUqD+wFKg/sBSoP7AUqD+wFKg/sBSoP7AUqD+wFKg/sBSoP7AUqD+wFKg/sBSoP7AUqD+wFKg/sBSoP7AUqD+wFKg/sBSoP7AUqD+wFKg/sBSoP7AUqD+wFKg/sBSoP7AUqD+wFKg/sBSoP7AUqD+wFKg/sBSoP7AUqD+wFKg/sBSoP7AUqD+wFKg/sBSoP7AUqD+wFKg/sBSoP7AUqD+wFKg/sBSoP7AUqD+wFKg/sBSoP7AUqD+wFKg/sBSoP7AUqD+wFKg/sBSoP7AUqD+wFKg/sBSoP7AUqD+wFKg/sBSoP7AUqD+wFKg/sBSoP7AUqD+wFKg/sBSoP7AUqD+wFKg/sBSoP7AUqD/+SgFA/koBQP5KAUD+SgFA/koBQP5KAUD+SgFA/koBQP5KAUD+SgFA/koBQP5KAUD+SgFA/koBQP5KAUD+SgFA/koBQP5KAUD+SgFA/koBQP5KAUD+SgFA/koBQP5KAUD+SgFA/koBQP5KAUD+SgFA/koBQP5KAUD+SgFA/koBQP5KAUD+SgFA/koBQP5KAUD+SgFA/koBQP5KAUD+SgFA/koBQP5KAUD+SgFA/koBQP5KAUD+SgFA/koBQP5KAUD+SgFA/koBQP5KAUD+SgFA/koBQP5KAUD+SgFA/koBQP5KAUD+SgFA/koBQP5KAUD+SgFA/koBQP5KAUD+SgFA/koBQP5KAUD+SgFA/koBQP5KAUD+SgFA/koBQP5KAUD+SgFA/koBQP5KAUD+SgFA/koBQP5KAUD+SgFA/koBQP5KAUD+SgFA/koBQP5KAUD+SgFA/koBQP5KAUD+SgFA/koBQP5KAUD+SgFA/koBQP5KAUD+SgFA/koBQP5KAUD+SgFA/koBQP5KAUD+SgFAo4suQKOLLkCjiy5Ao4suQKOLLkCjiy5Ao4suQKOLLkCjiy5Ao4suQKOLLkCjiy5Ao4suQKOLLkCjiy5Ao4suQKOLLkCjiy5Ao4suQKOLLkCjiy5Ao4suQKOLLkCjiy5Ao4suQKOLLkCjiy5Ao4suQKOLLkCjiy5Ao4suQKOLLkCjiy5Ao4suQKOLLkCjiy5Ao4suQKOLLkCjiy5Ao4suQKOLLkCjiy5Ao4suQKOLLkCjiy5Ao4suQKOLLkCjiy5Ao4suQKOLLkCjiy5Ao4suQKOLLkCjiy5Ao4suQKOLLkCjiy5Ao4suQKOLLkCjiy5Ao4suQKOLLkCjiy5Ao4suQKOLLkCjiy5Ao4suQKOLLkCjiy5Ao4suQKOLLkCjiy5Ao4suQKOLLkCjiy5Ao4suQKOLLkCjiy5Ao4suQKOLLkCjiy5Ao4suQKOLLkCjiy5Ao4suQKOLLkCjiy5Ao4suQKOLLkCjiy5Ao4suQKOLLkCjiy5Ao4suQKOLLkCjiy5Ao4suQKOLLkCjiy5Ao4suQEjMW0BIzFtASMxbQEjMW0BIzFtASMxbQEjMW0BIzFtASMxbQEjMW0BIzFtASMxbQEjMW0BIzFtASMxbQEjMW0BIzFtASMxbQEjMW0BIzFtASMxbQEjMW0BIzFtASMxbQEjMW0BIzFtASMxbQEjMW0BIzFtASMxbQEjMW0BIzFtASMxbQEjMW0BIzFtASMxbQEjMW0BIzFtASMxbQEjMW0BIzFtASMxbQEjMW0BIzFtASMxbQEjMW0BIzFtASMxbQEjMW0BIzFtASMxbQEjMW0BIzFtASMxbQEjMW0BIzFtASMxbQEjMW0BIzFtASMxbQEjMW0BIzFtASMxbQEjMW0BIzFtASMxbQEjMW0BIzFtASMxbQEjMW0BIzFtASMxbQEjMW0BIzFtASMxbQEjMW0BIzFtASMxbQEjMW0BIzFtASMxbQEjMW0BIzFtASMxbQEjMW0BIzFtASMxbQEjMW0BIzFtASMxbQEjMW0BIzFtASMxbQEjMW0BIzFtASMxbQEjMW0BIzFtASMxbQEjMW0B3hoRAd4aEQHeGhEB3hoRAd4aEQHeGhEB3hoRAd4aEQHeGhEB3hoRAd4aEQHeGhEB3hoRAd4aEQHeGhEB3hoRAd4aEQHeGhEB3hoRAd4aEQHeGhEB3hoRAd4aEQHeGhEB3hoRAd4aEQHeGhEB3hoRAd4aEQHeGhEB3hoRAd4aEQHeGhEB3hoRAd4aEQHeGhEB3hoRAd4aEQHeGhEB3hoRAd4aEQHeGhEB3hoRAd4aEQHeGhEB3hoRAd4aEQHeGhEB3hoRAd4aEQHeGhEB3hoRAd4aEQHeGhEB3hoRAd4aEQHeGhEB3hoRAd4aEQHeGhEB3hoRAd4aEQHeGhEB3hoRAd4aEQHeGhEB3hoRAd4aEQHeGhEB3hoRAd4aEQHeGhEB3hoRAd4aEQHeGhEB3hoRAd4aEQHeGhEB3hoRAd4aEQHeGhEB3hoRAd4aEQHeGhEB3hoRAd4aEQHeGhEB3hoRAd4aEQHeGhEB3hoRAd4aEQHeGhEB3hoRAd4aEQHeGhEB3hoRAd4aEQHeGhEB3hoRAyiabQMomm0DKJptAyiabQMomm0DKJptAyiabQMomm0DKJptAyiabQMomm0DKJptAyiabQMomm0DKJptAyiabQMomm0DKJptAyiabQMomm0DKJptAyiabQMomm0DKJptAyiabQMomm0DKJptAyiabQMomm0DKJptAyiabQMomm0DKJptAyiabQMomm0DKJptAyiabQMomm0DKJptAyiabQMomm0DKJptAyiabQMomm0DKJptAyiabQMomm0DKJptAyiabQMomm0DKJptAyiabQMomm0DKJptAyiabQMomm0DKJptAyiabQMomm0DKJptAyiabQMomm0DKJptAyiabQMomm0DKJptAyiabQMomm0DKJptAyiabQMomm0DKJptAyiabQMomm0DKJptAyiabQMomm0DKJptAyiabQMomm0DKJptAyiabQMomm0DKJptAyiabQMomm0DKJptAyiabQMomm0DKJptAyiabQMomm0DKJptAyiabQMomm0DKJptAyiabQMomm0DKJptAyiabQBzHsUAcx7FAHMexQBzHsUAcx7FAHMexQBzHsUAcx7FAHMexQBzHsUAcx7FAHMexQBzHsUAcx7FAHMexQBzHsUAcx7FAHMexQBzHsUAcx7FAHMexQBzHsUAcx7FAHMexQBzHsUAcx7FAHMexQBzHsUAcx7FAHMexQBzHsUAcx7FAHMexQBzHsUAcx7FAHMexQBzHsUAcx7FAHMexQBzHsUAcx7FAHMexQBzHsUAcx7FAHMexQBzHsUAcx7FAHMexQBzHsUAcx7FAHMexQBzHsUAcx7FAHMexQBzHsUAcx7FAHMexQBzHsUAcx7FAHMexQBzHsUAcx7FAHMexQBzHsUAcx7FAHMexQBzHsUAcx7FAHMexQBzHsUAcx7FAHMexQBzHsUAcx7FAHMexQBzHsUAcx7FAHMexQBzHsUAcx7FAHMexQBzHsUAcx7FAHMexQBzHsUAcx7FAHMexQBzHsUAcx7FAHMexQBzHsUAcx7FAHMexQBzHsUAcx7FAHMexQBzHsUAcx7FAHMexQBzHsUBvZ8hAb2fIQG9nyEBvZ8hAb2fIQG9nyEBvZ8hAb2fIQG9nyEBvZ8hAb2fIQG9nyEBvZ8hAb2fIQG9nyEBvZ8hAb2fIQG9nyEBvZ8hAb2fIQG9nyEBvZ8hAb2fIQG9nyEBvZ8hAb2fIQG9nyEBvZ8hAb2fIQG9nyEBvZ8hAb2fIQG9nyEBvZ8hAb2fIQG9nyEBvZ8hAb2fIQG9nyEBvZ8hAb2fIQG9nyEBvZ8hAb2fIQG9nyEBvZ8hAb2fIQG9nyEBvZ8hAb2fIQG9nyEBvZ8hAb2fIQG9nyEBvZ8hAb2fIQG9nyEBvZ8hAb2fIQG9nyEBvZ8hAb2fIQG9nyEBvZ8hAb2fIQG9nyEBvZ8hAb2fIQG9nyEBvZ8hAb2fIQG9nyEBvZ8hAb2fIQG9nyEBvZ8hAb2fIQG9nyEBvZ8hAb2fIQG9nyEBvZ8hAb2fIQG9nyEBvZ8hAb2fIQG9nyEBvZ8hAb2fIQG9nyEBvZ8hAb2fIQG9nyEBvZ8hAb2fIQG9nyEBvZ8hAb2fIQG9nyEBvZ8hAwgffQMIH30DCB99AwgffQMIH30DCB99AwgffQMIH30DCB99AwgffQMIH30DCB99AwgffQMIH30DCB99AwgffQMIH30DCB99AwgffQMIH30DCB99AwgffQMIH30DCB99AwgffQMIH30DCB99AwgffQMIH30DCB99AwgffQMIH30DCB99AwgffQMIH30DCB99AwgffQMIH30DCB99AwgffQMIH30DCB99AwgffQMIH30DCB99AwgffQMIH30DCB99AwgffQMIH30DCB99AwgffQMIH30DCB99AwgffQMIH30DCB99AwgffQMIH30DCB99AwgffQMIH30DCB99AwgffQMIH30DCB99AwgffQMIH30DCB99AwgffQMIH30DCB99AwgffQMIH30DCB99AwgffQMIH30DCB99AwgffQMIH30DCB99AwgffQMIH30DCB99AwgffQMIH30DCB99AwgffQMIH30DCB99AwgffQMIH30DCB99AwgffQMIH30DCB99AwgffQMIH30DCB99AwgffQBWo9UAVqPVAFaj1QBWo9UAVqPVAFaj1QBWo9UAVqPVAFaj1QBWo9UAVqPVAFaj1QBWo9UAVqPVAFaj1QBWo9UAVqPVAFaj1QBWo9UAVqPVAFaj1QBWo9UAVqPVAFaj1QBWo9UAVqPVAFaj1QBWo9UAVqPVAFaj1QBWo9UAVqPVAFaj1QBWo9UAVqPVAFaj1QBWo9UAVqPVAFaj1QBWo9UAVqPVAFaj1QBWo9UAVqPVAFaj1QBWo9UAVqPVAFaj1QBWo9UAVqPVAFaj1QBWo9UAVqPVAFaj1QBWo9UAVqPVAFaj1QBWo9UAVqPVAFaj1QBWo9UAVqPVAFaj1QBWo9UAVqPVAFaj1QBWo9UAVqPVAFaj1QBWo9UAVqPVAFaj1QBWo9UAVqPVAFaj1QBWo9UAVqPVAFaj1QBWo9UAVqPVAFaj1QBWo9UAVqPVAFaj1QBWo9UAVqPVAFaj1QBWo9UAVqPVAFaj1QBWo9UAVqPVAFaj1QBWo9UAVqPVAFaj1QBWo9UAVqPVAFaj1QBWo9UA0JAZBNCQGQTQkBkE0JAZBNCQGQTQkBkE0JAZBNCQGQTQkBkE0JAZBNCQGQTQkBkE0JAZBNCQGQTQkBkE0JAZBNCQGQTQkBkE0JAZBNCQGQTQkBkE0JAZBNCQGQTQkBkE0JAZBNCQGQTQkBkE0JAZBNCQGQTQkBkE0JAZBNCQGQTQkBkE0JAZBNCQGQTQkBkE0JAZBNCQGQTQkBkE0JAZBNCQGQTQkBkE0JAZBNCQGQTQkBkE0JAZBNCQGQTQkBkE0JAZBNCQGQTQkBkE0JAZBNCQGQTQkBkE0JAZBNCQGQTQkBkE0JAZBNCQGQTQkBkE0JAZBNCQGQTQkBkE0JAZBNCQGQTQkBkE0JAZBNCQGQTQkBkE0JAZBNCQGQTQkBkE0JAZBNCQGQTQkBkE0JAZBNCQGQTQkBkE0JAZBNCQGQTQkBkE0JAZBNCQGQTQkBkE0JAZBNCQGQTQkBkE0JAZBNCQGQTQkBkE0JAZBNCQGQTQkBkE0JAZBNCQGQTQkBkE0JAZBNCQGQTQkBkE0JAZBXXQRQV10EUFddBFBXXQRQV10EUFddBFBXXQRQV10EUFddBFBXXQRQV10EUFddBFBXXQRQV10EUFddBFBXXQRQV10EUFddBFBXXQRQV10EUFddBFBXXQRQV10EUFddBFBXXQRQV10EUFddBFBXXQRQV10EUFddBFBXXQRQV10EUFddBFBXXQRQV10EUFddBFBXXQRQV10EUFddBFBXXQRQV10EUFddBFBXXQRQV10EUFddBFBXXQRQV10EUFddBFBXXQRQV10EUFddBFBXXQRQV10EUFddBFBXXQRQV10EUFddBFBXXQRQV10EUFddBFBXXQRQV10EUFddBFBXXQRQV10EUFddBFBXXQRQV10EUFddBFBXXQRQV10EUFddBFBXXQRQV10EUFddBFBXXQRQV10EUFddBFBXXQRQV10EUFddBFBXXQRQV10EUFddBFBXXQRQV10EUFddBFBXXQRQV10EUFddBFBXXQRQV10EUFddBFBXXQRQV10EUFddBFBXXQRQV10EUFddBFBXXQRQYbEHEGGxBxBhsQcQYbEHEGGxBxBhsQcQYbEHEGGxBxBhsQcQYbEHEGGxBxBhsQcQYbEHEGGxBxBhsQcQYbEHEGGxBxBhsQcQYbEHEGGxBxBhsQcQYbEHEGGxBxBhsQcQYbEHEGGxBxBhsQcQYbEHEGGxBxBhsQcQYbEHEGGxBxBhsQcQYbEHEGGxBxBhsQcQYbEHEGGxBxBhsQcQYbEHEGGxBxBhsQcQYbEHEGGxBxBhsQcQYbEHEGGxBxBhsQcQYbEHEGGxBxBhsQcQYbEHEGGxBxBhsQcQYbEHEGGxBxBhsQcQYbEHEGGxBxBhsQcQYbEHEGGxBxBhsQcQYbEHEGGxBxBhsQcQYbEHEGGxBxBhsQcQYbEHEGGxBxBhsQcQYbEHEGGxBxBhsQcQYbEHEGGxBxBhsQcQYbEHEGGxBxBhsQcQYbEHEGGxBxBhsQcQYbEHEGGxBxBhsQcQYbEHEGGxBxBhsQcQYbEHEGGxBxBhsQcQYbEHEGGxBxBhsQcQYbEHEGGxBxBhsQcQYbEHEGwFChBsBQoQbAUKEGwFChBsBQoQbAUKEGwFChBsBQoQbAUKEGwFChBsBQoQbAUKEGwFChBsBQoQbAUKEGwFChBsBQoQbAUKEGwFChBsBQoQbAUKEGwFChBsBQoQbAUKEGwFChBsBQoQbAUKEGwFChBsBQoQbAUKEGwFChBsBQoQbAUKEGwFChBsBQoQbAUKEGwFChBsBQoQbAUKEGwFChBsBQoQbAUKEGwFChBsBQoQbAUKEGwFChBsBQoQbAUKEGwFChBsBQoQbAUKEGwFChBsBQoQbAUKEGwFChBsBQoQbAUKEGwFChBsBQoQbAUKEGwFChBsBQoQbAUKEGwFChBsBQoQbAUKEGwFChBsBQoQbAUKEGwFChBsBQoQbAUKEGwFChBsBQoQbAUKEGwFChBsBQoQbAUKEGwFChBsBQoQbAUKEGwFChBsBQoQbAUKEGwFChBsBQoQbAUKEGwFChBsBQoQbAUKEGwFChBsBQoQbAUKEGwFChBsBQoQbAUKEGwFChBsBQoQbAUKEGwFChB2WQzQdlkM0HZZDNB2WQzQdlkM0HZZDNB2WQzQdlkM0HZZDNB2WQzQdlkM0HZZDNB2WQzQdlkM0HZZDNB2WQzQdlkM0HZZDNB2WQzQdlkM0HZZDNB2WQzQdlkM0HZZDNB2WQzQdlkM0HZZDNB2WQzQdlkM0HZZDNB2WQzQdlkM0HZZDNB2WQzQdlkM0HZZDNB2WQzQdlkM0HZZDNB2WQzQdlkM0HZZDNB2WQzQdlkM0HZZDNB2WQzQdlkM0HZZDNB2WQzQdlkM0HZZDNB2WQzQdlkM0HZZDNB2WQzQdlkM0HZZDNB2WQzQdlkM0HZZDNB2WQzQdlkM0HZZDNB2WQzQdlkM0HZZDNB2WQzQdlkM0HZZDNB2WQzQdlkM0HZZDNB2WQzQdlkM0HZZDNB2WQzQdlkM0HZZDNB2WQzQdlkM0HZZDNB2WQzQdlkM0HZZDNB2WQzQdlkM0HZZDNB2WQzQdlkM0HZZDNB2WQzQdlkM0HZZDNB2WQzQdlkM0HZZDNB2WQzQdlkM0HZZDNB2WQzQQO1PkEDtT5BA7U+QQO1PkEDtT5BA7U+QQO1PkEDtT5BA7U+QQO1PkEDtT5BA7U+QQO1PkEDtT5BA7U+QQO1PkEDtT5BA7U+QQO1PkEDtT5BA7U+QQO1PkEDtT5BA7U+QQO1PkEDtT5BA7U+QQO1PkEDtT5BA7U+QQO1PkEDtT5BA7U+QQO1PkEDtT5BA7U+QQO1PkEDtT5BA7U+QQO1PkEDtT5BA7U+QQO1PkEDtT5BA7U+QQO1PkEDtT5BA7U+QQO1PkEDtT5BA7U+QQO1PkEDtT5BA7U+QQO1PkEDtT5BA7U+QQO1PkEDtT5BA7U+QQO1PkEDtT5BA7U+QQO1PkEDtT5BA7U+QQO1PkEDtT5BA7U+QQO1PkEDtT5BA7U+QQO1PkEDtT5BA7U+QQO1PkEDtT5BA7U+QQO1PkEDtT5BA7U+QQO1PkEDtT5BA7U+QQO1PkEDtT5BA7U+QQO1PkEDtT5BA7U+QQO1PkEDtT5BA7U+QQO1PkEDtT5BA7U+QQO1PkEDtT5BA7U+QQO1PkEsBUpBLAVKQSwFSkEsBUpBLAVKQSwFSkEsBUpBLAVKQSwFSkEsBUpBLAVKQSwFSkEsBUpBLAVKQSwFSkEsBUpBLAVKQSwFSkEsBUpBLAVKQSwFSkEsBUpBLAVKQSwFSkEsBUpBLAVKQSwFSkEsBUpBLAVKQSwFSkEsBUpBLAVKQSwFSkEsBUpBLAVKQSwFSkEsBUpBLAVKQSwFSkEsBUpBLAVKQSwFSkEsBUpBLAVKQSwFSkEsBUpBLAVKQSwFSkEsBUpBLAVKQSwFSkEsBUpBLAVKQSwFSkEsBUpBLAVKQSwFSkEsBUpBLAVKQSwFSkEsBUpBLAVKQSwFSkEsBUpBLAVKQSwFSkEsBUpBLAVKQSwFSkEsBUpBLAVKQSwFSkEsBUpBLAVKQSwFSkEsBUpBLAVKQSwFSkEsBUpBLAVKQSwFSkEsBUpBLAVKQSwFSkEsBUpBLAVKQSwFSkEsBUpBLAVKQSwFSkEsBUpBLAVKQSwFSkEsBUpBLAVKQSwFSkEsBUpBLAVKQSwFSkEsBUpBVVVVQVVVVUFVVVVBVVVVQVVVVUFVVVVBVVVVQVVVVUFVVVVBVVVVQVVVVUFVVVVBVVVVQVVVVUFVVVVBVVVVQVVVVUFVVVVBVVVVQVVVVUFVVVVBVVVVQVVVVUFVVVVBVVVVQVVVVUFVVVVBVVVVQVVVVUFVVVVBVVVVQVVVVUFVVVVBVVVVQVVVVUFVVVVBVVVVQVVVVUFVVVVBVVVVQVVVVUFVVVVBVVVVQVVVVUFVVVVBVVVVQVVVVUFVVVVBVVVVQVVVVUFVVVVBVVVVQVVVVUFVVVVBVVVVQVVVVUFVVVVBVVVVQVVVVUFVVVVBVVVVQVVVVUFVVVVBVVVVQVVVVUFVVVVBVVVVQVVVVUFVVVVBVVVVQVVVVUFVVVVBVVVVQVVVVUFVVVVBVVVVQVVVVUFVVVVBVVVVQVVVVUFVVVVBVVVVQVVVVUFVVVVBVVVVQVVVVUFVVVVBVVVVQVVVVUFVVVVBVVVVQVVVVUFVVVVBVVVVQVVVVUFVVVVBVVVVQVVVVUFVVVVBVVVVQX+lYEF/pWBBf6VgQX+lYEF/pWBBf6VgQX+lYEF/pWBBf6VgQX+lYEF/pWBBf6VgQX+lYEF/pWBBf6VgQX+lYEF/pWBBf6VgQX+lYEF/pWBBf6VgQX+lYEF/pWBBf6VgQX+lYEF/pWBBf6VgQX+lYEF/pWBBf6VgQX+lYEF/pWBBf6VgQX+lYEF/pWBBf6VgQX+lYEF/pWBBf6VgQX+lYEF/pWBBf6VgQX+lYEF/pWBBf6VgQX+lYEF/pWBBf6VgQX+lYEF/pWBBf6VgQX+lYEF/pWBBf6VgQX+lYEF/pWBBf6VgQX+lYEF/pWBBf6VgQX+lYEF/pWBBf6VgQX+lYEF/pWBBf6VgQX+lYEF/pWBBf6VgQX+lYEF/pWBBf6VgQX+lYEF/pWBBf6VgQX+lYEF/pWBBf6VgQX+lYEF/pWBBf6VgQX+lYEF/pWBBf6VgQX+lYEF/pWBBf6VgQX+lYEF/pWBBf6VgQX+lYEF/pWBBf6VgQX+lYEF/pWBBf6VgQX+lYEF/pWBBf6VgQX+lYEGo9WtBqPVrQaj1a0Go9WtBqPVrQaj1a0Go9WtBqPVrQaj1a0Go9WtBqPVrQaj1a0Go9WtBqPVrQaj1a0Go9WtBqPVrQaj1a0Go9WtBqPVrQaj1a0Go9WtBqPVrQaj1a0Go9WtBqPVrQaj1a0Go9WtBqPVrQaj1a0Go9WtBqPVrQaj1a0Go9WtBqPVrQaj1a0Go9WtBqPVrQaj1a0Go9WtBqPVrQaj1a0Go9WtBqPVrQaj1a0Go9WtBqPVrQaj1a0Go9WtBqPVrQaj1a0Go9WtBqPVrQaj1a0Go9WtBqPVrQaj1a0Go9WtBqPVrQaj1a0Go9WtBqPVrQaj1a0Go9WtBqPVrQaj1a0Go9WtBqPVrQaj1a0Go9WtBqPVrQaj1a0Go9WtBqPVrQaj1a0Go9WtBqPVrQaj1a0Go9WtBqPVrQaj1a0Go9WtBqPVrQaj1a0Go9WtBqPVrQaj1a0Go9WtBqPVrQaj1a0Go9WtBqPVrQaj1a0Go9WtBqPVrQaj1a0Go9WtBqPVrQaj1a0Go9WtB0kV3QdJFd0HSRXdB0kV3QdJFd0HSRXdB0kV3QdJFd0HSRXdB0kV3QdJFd0HSRXdB0kV3QdJFd0HSRXdB0kV3QdJFd0HSRXdB0kV3QdJFd0HSRXdB0kV3QdJFd0HSRXdB0kV3QdJFd0HSRXdB0kV3QdJFd0HSRXdB0kV3QdJFd0HSRXdB0kV3QdJFd0HSRXdB0kV3QdJFd0HSRXdB0kV3QdJFd0HSRXdB0kV3QdJFd0HSRXdB0kV3QdJFd0HSRXdB0kV3QdJFd0HSRXdB0kV3QdJFd0HSRXdB0kV3QdJFd0HSRXdB0kV3QdJFd0HSRXdB0kV3QdJFd0HSRXdB0kV3QdJFd0HSRXdB0kV3QdJFd0HSRXdB0kV3QdJFd0HSRXdB0kV3QdJFd0HSRXdB0kV3QdJFd0HSRXdB0kV3QdJFd0HSRXdB0kV3QdJFd0HSRXdB0kV3QdJFd0HSRXdB0kV3QdJFd0HSRXdB0kV3QdJFd0HSRXdB0kV3QdJFd0HSRXdB0kV3QdJFd0HSRXdB0kV3Qf1KgUH9SoFB/UqBQf1KgUH9SoFB/UqBQf1KgUH9SoFB/UqBQf1KgUH9SoFB/UqBQf1KgUH9SoFB/UqBQf1KgUH9SoFB/UqBQf1KgUH9SoFB/UqBQf1KgUH9SoFB/UqBQf1KgUH9SoFB/UqBQf1KgUH9SoFB/UqBQf1KgUH9SoFB/UqBQf1KgUH9SoFB/UqBQf1KgUH9SoFB/UqBQf1KgUH9SoFB/UqBQf1KgUH9SoFB/UqBQf1KgUH9SoFB/UqBQf1KgUH9SoFB/UqBQf1KgUH9SoFB/UqBQf1KgUH9SoFB/UqBQf1KgUH9SoFB/UqBQf1KgUH9SoFB/UqBQf1KgUH9SoFB/UqBQf1KgUH9SoFB/UqBQf1KgUH9SoFB/UqBQf1KgUH9SoFB/UqBQf1KgUH9SoFB/UqBQf1KgUH9SoFB/UqBQf1KgUH9SoFB/UqBQf1KgUH9SoFB/UqBQf1KgUH9SoFB/UqBQf1KgUH9SoFB/UqBQf1KgUH9SoFB/UqBQf1KgUH9SoFB/UqBQf1KgUES84ZBEvOGQRLzhkES84ZBEvOGQRLzhkES84ZBEvOGQRLzhkES84ZBEvOGQRLzhkES84ZBEvOGQRLzhkES84ZBEvOGQRLzhkES84ZBEvOGQRLzhkES84ZBEvOGQRLzhkES84ZBEvOGQRLzhkES84ZBEvOGQRLzhkES84ZBEvOGQRLzhkES84ZBEvOGQRLzhkES84ZBEvOGQRLzhkES84ZBEvOGQRLzhkES84ZBEvOGQRLzhkES84ZBEvOGQRLzhkES84ZBEvOGQRLzhkES84ZBEvOGQRLzhkES84ZBEvOGQRLzhkES84ZBEvOGQRLzhkES84ZBEvOGQRLzhkES84ZBEvOGQRLzhkES84ZBEvOGQRLzhkES84ZBEvOGQRLzhkES84ZBEvOGQRLzhkES84ZBEvOGQRLzhkES84ZBEvOGQRLzhkES84ZBEvOGQRLzhkES84ZBEvOGQRLzhkES84ZBEvOGQRLzhkES84ZBEvOGQRLzhkES84ZBEvOGQRLzhkES84ZBEvOGQRLzhkES84ZBJ5uMQSebjEEnm4xBJ5uMQSebjEEnm4xBJ5uMQSebjEEnm4xBJ5uMQSebjEEnm4xBJ5uMQSebjEEnm4xBJ5uMQSebjEEnm4xBJ5uMQSebjEEnm4xBJ5uMQSebjEEnm4xBJ5uMQSebjEEnm4xBJ5uMQSebjEEnm4xBJ5uMQSebjEEnm4xBJ5uMQSebjEEnm4xBJ5uMQSebjEEnm4xBJ5uMQSebjEEnm4xBJ5uMQSebjEEnm4xBJ5uMQSebjEEnm4xBJ5uMQSebjEEnm4xBJ5uMQSebjEEnm4xBJ5uMQSebjEEnm4xBJ5uMQSebjEEnm4xBJ5uMQSebjEEnm4xBJ5uMQSebjEEnm4xBJ5uMQSebjEEnm4xBJ5uMQSebjEEnm4xBJ5uMQSebjEEnm4xBJ5uMQSebjEEnm4xBJ5uMQSebjEEnm4xBJ5uMQSebjEEnm4xBJ5uMQSebjEEnm4xBJ5uMQSebjEEnm4xBJ5uMQSebjEEnm4xBJ5uMQSebjEEnm4xBJ5uMQSebjEEnm4xBJ5uMQTxDkkE8Q5JBPEOSQTxDkkE8Q5JBPEOSQTxDkkE8Q5JBPEOSQTxDkkE8Q5JBPEOSQTxDkkE8Q5JBPEOSQTxDkkE8Q5JBPEOSQTxDkkE8Q5JBPEOSQTxDkkE8Q5JBPEOSQTxDkkE8Q5JBPEOSQTxDkkE8Q5JBPEOSQTxDkkE8Q5JBPEOSQTxDkkE8Q5JBPEOSQTxDkkE8Q5JBPEOSQTxDkkE8Q5JBPEOSQTxDkkE8Q5JBPEOSQTxDkkE8Q5JBPEOSQTxDkkE8Q5JBPEOSQTxDkkE8Q5JBPEOSQTxDkkE8Q5JBPEOSQTxDkkE8Q5JBPEOSQTxDkkE8Q5JBPEOSQTxDkkE8Q5JBPEOSQTxDkkE8Q5JBPEOSQTxDkkE8Q5JBPEOSQTxDkkE8Q5JBPEOSQTxDkkE8Q5JBPEOSQTxDkkE8Q5JBPEOSQTxDkkE8Q5JBPEOSQTxDkkE8Q5JBPEOSQTxDkkE8Q5JBPEOSQTxDkkE8Q5JBPEOSQTxDkkE8Q5JBPEOSQTxDkkE8Q5JBPEOSQTxDkkFQ65dBUOuXQVDrl0FQ65dBUOuXQVDrl0FQ65dBUOuXQVDrl0FQ65dBUOuXQVDrl0FQ65dBUOuXQVDrl0FQ65dBUOuXQVDrl0FQ65dBUOuXQVDrl0FQ65dBUOuXQVDrl0FQ65dBUOuXQVDrl0FQ65dBUOuXQVDrl0FQ65dBUOuXQVDrl0FQ65dBUOuXQVDrl0FQ65dBUOuXQVDrl0FQ65dBUOuXQVDrl0FQ65dBUOuXQVDrl0FQ65dBUOuXQVDrl0FQ65dBUOuXQVDrl0FQ65dBUOuXQVDrl0FQ65dBUOuXQVDrl0FQ65dBUOuXQVDrl0FQ65dBUOuXQVDrl0FQ65dBUOuXQVDrl0FQ65dBUOuXQVDrl0FQ65dBUOuXQVDrl0FQ65dBUOuXQVDrl0FQ65dBUOuXQVDrl0FQ65dBUOuXQVDrl0FQ65dBUOuXQVDrl0FQ65dBUOuXQVDrl0FQ65dBUOuXQVDrl0FQ65dBUOuXQVDrl0FQ65dBUOuXQVDrl0FQ65dBUOuXQVDrl0FQ65dBZZOdQWWTnUFlk51BZZOdQWWTnUFlk51BZZOdQWWTnUFlk51BZZOdQWWTnUFlk51BZZOdQWWTnUFlk51BZZOdQWWTnUFlk51BZZOdQWWTnUFlk51BZZOdQWWTnUFlk51BZZOdQWWTnUFlk51BZZOdQWWTnUFlk51BZZOdQWWTnUFlk51BZZOdQWWTnUFlk51BZZOdQWWTnUFlk51BZZOdQWWTnUFlk51BZZOdQWWTnUFlk51BZZOdQWWTnUFlk51BZZOdQWWTnUFlk51BZZOdQWWTnUFlk51BZZOdQWWTnUFlk51BZZOdQWWTnUFlk51BZZOdQWWTnUFlk51BZZOdQWWTnUFlk51BZZOdQWWTnUFlk51BZZOdQWWTnUFlk51BZZOdQWWTnUFlk51BZZOdQWWTnUFlk51BZZOdQWWTnUFlk51BZZOdQWWTnUFlk51BZZOdQWWTnUFlk51BZZOdQWWTnUFlk51BZZOdQWWTnUFlk51BZZOdQWWTnUFlk51BZZOdQWWTnUFlk51BZZOdQXo7o0F6O6NBejujQXo7o0F6O6NBejujQXo7o0F6O6NBejujQXo7o0F6O6NBejujQXo7o0F6O6NBejujQXo7o0F6O6NBejujQXo7o0F6O6NBejujQXo7o0F6O6NBejujQXo7o0F6O6NBejujQXo7o0F6O6NBejujQXo7o0F6O6NBejujQXo7o0F6O6NBejujQXo7o0F6O6NBejujQXo7o0F6O6NBejujQXo7o0F6O6NBejujQXo7o0F6O6NBejujQXo7o0F6O6NBejujQXo7o0F6O6NBejujQXo7o0F6O6NBejujQXo7o0F6O6NBejujQXo7o0F6O6NBejujQXo7o0F6O6NBejujQXo7o0F6O6NBejujQXo7o0F6O6NBejujQXo7o0F6O6NBejujQXo7o0F6O6NBejujQXo7o0F6O6NBejujQXo7o0F6O6NBejujQXo7o0F6O6NBejujQXo7o0F6O6NBejujQXo7o0F6O6NBejujQXo7o0F6O6NBejujQXo7o0F6O6NBejujQXo7o0GO46hBjuOoQY7jqEGO46hBjuOoQY7jqEGO46hBjuOoQY7jqEGO46hBjuOoQY7jqEGO46hBjuOoQY7jqEGO46hBjuOoQY7jqEGO46hBjuOoQY7jqEGO46hBjuOoQY7jqEGO46hBjuOoQY7jqEGO46hBjuOoQY7jqEGO46hBjuOoQY7jqEGO46hBjuOoQY7jqEGO46hBjuOoQY7jqEGO46hBjuOoQY7jqEGO46hBjuOoQY7jqEGO46hBjuOoQY7jqEGO46hBjuOoQY7jqEGO46hBjuOoQY7jqEGO46hBjuOoQY7jqEGO46hBjuOoQY7jqEGO46hBjuOoQY7jqEGO46hBjuOoQY7jqEGO46hBjuOoQY7jqEGO46hBjuOoQY7jqEGO46hBjuOoQY7jqEGO46hBjuOoQY7jqEGO46hBjuOoQY7jqEGO46hBjuOoQY7jqEGO46hBjuOoQY7jqEGO46hBjuOoQY7jqEGO46hBjuOoQY7jqEGO46hBjuOoQY7jqEGO46hBjuOoQY7jqEGO46hBo4uuQaOLrkGji65Bo4uuQaOLrkGji65Bo4uuQaOLrkGji65Bo4uuQaOLrkGji65Bo4uuQaOLrkGji65Bo4uuQaOLrkGji65Bo4uuQaOLrkGji65Bo4uuQaOLrkGji65Bo4uuQaOLrkGji65Bo4uuQaOLrkGji65Bo4uuQaOLrkGji65Bo4uuQaOLrkGji65Bo4uuQaOLrkGji65Bo4uuQaOLrkGji65Bo4uuQaOLrkGji65Bo4uuQaOLrkGji65Bo4uuQaOLrkGji65Bo4uuQaOLrkGji65Bo4uuQaOLrkGji65Bo4uuQaOLrkGji65Bo4uuQaOLrkGji65Bo4uuQaOLrkGji65Bo4uuQaOLrkGji65Bo4uuQaOLrkGji65Bo4uuQaOLrkGji65Bo4uuQaOLrkGji65Bo4uuQaOLrkGji65Bo4uuQaOLrkGji65Bo4uuQaOLrkGji65Bo4uuQaOLrkGji65Bo4uuQaOLrkGji65Bo4uuQaOLrkGji65Bo4uuQaOLrkGji65Bo4uuQbgztEG4M7RBuDO0QbgztEG4M7RBuDO0QbgztEG4M7RBuDO0QbgztEG4M7RBuDO0QbgztEG4M7RBuDO0QbgztEG4M7RBuDO0QbgztEG4M7RBuDO0QbgztEG4M7RBuDO0QbgztEG4M7RBuDO0QbgztEG4M7RBuDO0QbgztEG4M7RBuDO0QbgztEG4M7RBuDO0QbgztEG4M7RBuDO0QbgztEG4M7RBuDO0QbgztEG4M7RBuDO0QbgztEG4M7RBuDO0QbgztEG4M7RBuDO0QbgztEG4M7RBuDO0QbgztEG4M7RBuDO0QbgztEG4M7RBuDO0QbgztEG4M7RBuDO0QbgztEG4M7RBuDO0QbgztEG4M7RBuDO0QbgztEG4M7RBuDO0QbgztEG4M7RBuDO0QbgztEG4M7RBuDO0QbgztEG4M7RBuDO0QbgztEG4M7RBuDO0QbgztEG4M7RBuDO0QbgztEG4M7RBuDO0QbgztEG4M7RBuDO0QbgztEG4M7RBuDO0QbgztEG4M7RBuDO0QbgztEHM27lBzNu5QczbuUHM27lBzNu5QczbuUHM27lBzNu5QczbuUHM27lBzNu5QczbuUHM27lBzNu5QczbuUHM27lBzNu5QczbuUHM27lBzNu5QczbuUHM27lBzNu5QczbuUHM27lBzNu5QczbuUHM27lBzNu5QczbuUHM27lBzNu5QczbuUHM27lBzNu5QczbuUHM27lBzNu5QczbuUHM27lBzNu5QczbuUHM27lBzNu5QczbuUHM27lBzNu5QczbuUHM27lBzNu5QczbuUHM27lBzNu5QczbuUHM27lBzNu5QczbuUHM27lBzNu5QczbuUHM27lBzNu5QczbuUHM27lBzNu5QczbuUHM27lBzNu5QczbuUHM27lBzNu5QczbuUHM27lBzNu5QczbuUHM27lBzNu5QczbuUHM27lBzNu5QczbuUHM27lBzNu5QczbuUHM27lBzNu5QczbuUHM27lBzNu5QczbuUHM27lBzNu5QczbuUHM27lBzNu5QczbuUHM27lBzNu5QczbuUHM27lB4YO/QeGDv0Hhg79B4YO/QeGDv0Hhg79B4YO/QeGDv0Hhg79B4YO/QeGDv0Hhg79B4YO/QeGDv0Hhg79B4YO/QeGDv0Hhg79B4YO/QeGDv0Hhg79B4YO/QeGDv0Hhg79B4YO/QeGDv0Hhg79B4YO/QeGDv0Hhg79B4YO/QeGDv0Hhg79B4YO/QeGDv0Hhg79B4YO/QeGDv0Hhg79B4YO/QeGDv0Hhg79B4YO/QeGDv0Hhg79B4YO/QeGDv0Hhg79B4YO/QeGDv0Hhg79B4YO/QeGDv0Hhg79B4YO/QeGDv0Hhg79B4YO/QeGDv0Hhg79B4YO/QeGDv0Hhg79B4YO/QeGDv0Hhg79B4YO/QeGDv0Hhg79B4YO/QeGDv0Hhg79B4YO/QeGDv0Hhg79B4YO/QeGDv0Hhg79B4YO/QeGDv0Hhg79B4YO/QeGDv0Hhg79B4YO/QeGDv0Hhg79B4YO/QeGDv0Hhg79B4YO/QeGDv0Hhg79B4YO/QeGDv0Hhg79B4YO/QeGDv0Hhg79B4YO/QfYrxUH2K8VB9ivFQfYrxUH2K8VB9ivFQfYrxUH2K8VB9ivFQfYrxUH2K8VB9ivFQfYrxUH2K8VB9ivFQfYrxUH2K8VB9ivFQfYrxUH2K8VB9ivFQfYrxUH2K8VB9ivFQfYrxUH2K8VB9ivFQfYrxUH2K8VB9ivFQfYrxUH2K8VB9ivFQfYrxUH2K8VB9ivFQfYrxUH2K8VB9ivFQfYrxUH2K8VB9ivFQfYrxUH2K8VB9ivFQfYrxUH2K8VB9ivFQfYrxUH2K8VB9ivFQfYrxUH2K8VB9ivFQfYrxUH2K8VB9ivFQfYrxUH2K8VB9ivFQfYrxUH2K8VB9ivFQfYrxUH2K8VB9ivFQfYrxUH2K8VB9ivFQfYrxUH2K8VB9ivFQfYrxUH2K8VB9ivFQfYrxUH2K8VB9ivFQfYrxUH2K8VB9ivFQfYrxUH2K8VB9ivFQfYrxUH2K8VB9ivFQfYrxUH2K8VB9ivFQfYrxUH2K8VB9ivFQfYrxUH2K8VB9ivFQfYrxUH2K8VB9ivFQfYrxUEK1MpBCtTKQQrUykEK1MpBCtTKQQrUykEK1MpBCtTKQQrUykEK1MpBCtTKQQrUykEK1MpBCtTKQQrUykEK1MpBCtTKQQrUykEK1MpBCtTKQQrUykEK1MpBCtTKQQrUykEK1MpBCtTKQQrUykEK1MpBCtTKQQrUykEK1MpBCtTKQQrUykEK1MpBCtTKQQrUykEK1MpBCtTKQQrUykEK1MpBCtTKQQrUykEK1MpBCtTKQQrUykEK1MpBCtTKQQrUykEK1MpBCtTKQQrUykEK1MpBCtTKQQrUykEK1MpBCtTKQQrUykEK1MpBCtTKQQrUykEK1MpBCtTKQQrUykEK1MpBCtTKQQrUykEK1MpBCtTKQQrUykEK1MpBCtTKQQrUykEK1MpBCtTKQQrUykEK1MpBCtTKQQrUykEK1MpBCtTKQQrUykEK1MpBCtTKQQrUykEK1MpBCtTKQQrUykEK1MpBCtTKQQrUykEK1MpBCtTKQQrUykEK1MpBCtTKQQrUykEK1MpBCtTKQQrUykEK1MpBH3zQQR980EEffNBBH3zQQR980EEffNBBH3zQQR980EEffNBBH3zQQR980EEffNBBH3zQQR980EEffNBBH3zQQR980EEffNBBH3zQQR980EEffNBBH3zQQR980EEffNBBH3zQQR980EEffNBBH3zQQR980EEffNBBH3zQQR980EEffNBBH3zQQR980EEffNBBH3zQQR980EEffNBBH3zQQR980EEffNBBH3zQQR980EEffNBBH3zQQR980EEffNBBH3zQQR980EEffNBBH3zQQR980EEffNBBH3zQQR980EEffNBBH3zQQR980EEffNBBH3zQQR980EEffNBBH3zQQR980EEffNBBH3zQQR980EEffNBBH3zQQR980EEffNBBH3zQQR980EEffNBBH3zQQR980EEffNBBH3zQQR980EEffNBBH3zQQR980EEffNBBH3zQQR980EEffNBBH3zQQR980EEffNBBH3zQQR980EEffNBBH3zQQR980EEffNBBH3zQQR980EEffNBBH3zQQTQk1kE0JNZBNCTWQTQk1kE0JNZBNCTWQTQk1kE0JNZBNCTWQTQk1kE0JNZBNCTWQTQk1kE0JNZBNCTWQTQk1kE0JNZBNCTWQTQk1kE0JNZBNCTWQTQk1kE0JNZBNCTWQTQk1kE0JNZBNCTWQTQk1kE0JNZBNCTWQTQk1kE0JNZBNCTWQTQk1kE0JNZBNCTWQTQk1kE0JNZBNCTWQTQk1kE0JNZBNCTWQTQk1kE0JNZBNCTWQTQk1kE0JNZBNCTWQTQk1kE0JNZBNCTWQTQk1kE0JNZBNCTWQTQk1kE0JNZBNCTWQTQk1kE0JNZBNCTWQTQk1kE0JNZBNCTWQTQk1kE0JNZBNCTWQTQk1kE0JNZBNCTWQTQk1kE0JNZBNCTWQTQk1kE0JNZBNCTWQTQk1kE0JNZBNCTWQTQk1kE0JNZBNCTWQTQk1kE0JNZBNCTWQTQk1kE0JNZBNCTWQTQk1kE0JNZBNCTWQTQk1kE0JNZBNCTWQTQk1kE0JNZBNCTWQTQk1kE0JNZBNCTWQTQk1kFIzNtBSMzbQUjM20FIzNtBSMzbQUjM20FIzNtBSMzbQUjM20FIzNtBSMzbQUjM20FIzNtBSMzbQUjM20FIzNtBSMzbQUjM20FIzNtBSMzbQUjM20FIzNtBSMzbQUjM20FIzNtBSMzbQUjM20FIzNtBSMzbQUjM20FIzNtBSMzbQUjM20FIzNtBSMzbQUjM20FIzNtBSMzbQUjM20FIzNtBSMzbQUjM20FIzNtBSMzbQUjM20FIzNtBSMzbQUjM20FIzNtBSMzbQUjM20FIzNtBSMzbQUjM20FIzNtBSMzbQUjM20FIzNtBSMzbQUjM20FIzNtBSMzbQUjM20FIzNtBSMzbQUjM20FIzNtBSMzbQUjM20FIzNtBSMzbQUjM20FIzNtBSMzbQUjM20FIzNtBSMzbQUjM20FIzNtBSMzbQUjM20FIzNtBSMzbQUjM20FIzNtBSMzbQUjM20FIzNtBSMzbQUjM20FIzNtBSMzbQUjM20FIzNtBSMzbQUjM20FIzNtBSMzbQUjM20FIzNtBXXThQV104UFddOFBXXThQV104UFddOFBXXThQV104UFddOFBXXThQV104UFddOFBXXThQV104UFddOFBXXThQV104UFddOFBXXThQV104UFddOFBXXThQV104UFddOFBXXThQV104UFddOFBXXThQV104UFddOFBXXThQV104UFddOFBXXThQV104UFddOFBXXThQV104UFddOFBXXThQV104UFddOFBXXThQV104UFddOFBXXThQV104UFddOFBXXThQV104UFddOFBXXThQV104UFddOFBXXThQV104UFddOFBXXThQV104UFddOFBXXThQV104UFddOFBXXThQV104UFddOFBXXThQV104UFddOFBXXThQV104UFddOFBXXThQV104UFddOFBXXThQV104UFddOFBXXThQV104UFddOFBXXThQV104UFddOFBXXThQV104UFddOFBXXThQV104UFddOFBXXThQV104UFddOFBXXThQV104UFddOFBXXThQV104UFddOFBXXThQXIc50FyHOdBchznQXIc50FyHOdBchznQXIc50FyHOdBchznQXIc50FyHOdBchznQXIc50FyHOdBchznQXIc50FyHOdBchznQXIc50FyHOdBchznQXIc50FyHOdBchznQXIc50FyHOdBchznQXIc50FyHOdBchznQXIc50FyHOdBchznQXIc50FyHOdBchznQXIc50FyHOdBchznQXIc50FyHOdBchznQXIc50FyHOdBchznQXIc50FyHOdBchznQXIc50FyHOdBchznQXIc50FyHOdBchznQXIc50FyHOdBchznQXIc50FyHOdBchznQXIc50FyHOdBchznQXIc50FyHOdBchznQXIc50FyHOdBchznQXIc50FyHOdBchznQXIc50FyHOdBchznQXIc50FyHOdBchznQXIc50FyHOdBchznQXIc50FyHOdBchznQXIc50FyHOdBchznQXIc50FyHOdBchznQXIc50FyHOdBchznQXIc50FyHOdBchznQXIc50FyHOdBchznQXIc50GGxOxBhsTsQYbE7EGGxOxBhsTsQYbE7EGGxOxBhsTsQYbE7EGGxOxBhsTsQYbE7EGGxOxBhsTsQYbE7EGGxOxBhsTsQYbE7EGGxOxBhsTsQYbE7EGGxOxBhsTsQYbE7EGGxOxBhsTsQYbE7EGGxOxBhsTsQYbE7EGGxOxBhsTsQYbE7EGGxOxBhsTsQYbE7EGGxOxBhsTsQYbE7EGGxOxBhsTsQYbE7EGGxOxBhsTsQYbE7EGGxOxBhsTsQYbE7EGGxOxBhsTsQYbE7EGGxOxBhsTsQYbE7EGGxOxBhsTsQYbE7EGGxOxBhsTsQYbE7EGGxOxBhsTsQYbE7EGGxOxBhsTsQYbE7EGGxOxBhsTsQYbE7EGGxOxBhsTsQYbE7EGGxOxBhsTsQYbE7EGGxOxBhsTsQYbE7EGGxOxBhsTsQYbE7EGGxOxBhsTsQYbE7EGGxOxBhsTsQYbE7EGGxOxBhsTsQYbE7EGGxOxBhsTsQYbE7EGGxOxBhsTsQYbE7EGGxOxBhsTsQYbE7EGGxOxBm2zyQZts8kGbbPJBm2zyQZts8kGbbPJBm2zyQZts8kGbbPJBm2zyQZts8kGbbPJBm2zyQZts8kGbbPJBm2zyQZts8kGbbPJBm2zyQZts8kGbbPJBm2zyQZts8kGbbPJBm2zyQZts8kGbbPJBm2zyQZts8kGbbPJBm2zyQZts8kGbbPJBm2zyQZts8kGbbPJBm2zyQZts8kGbbPJBm2zyQZts8kGbbPJBm2zyQZts8kGbbPJBm2zyQZts8kGbbPJBm2zyQZts8kGbbPJBm2zyQZts8kGbbPJBm2zyQZts8kGbbPJBm2zyQZts8kGbbPJBm2zyQZts8kGbbPJBm2zyQZts8kGbbPJBm2zyQZts8kGbbPJBm2zyQZts8kGbbPJBm2zyQZts8kGbbPJBm2zyQZts8kGbbPJBm2zyQZts8kGbbPJBm2zyQZts8kGbbPJBm2zyQZts8kGbbPJBm2zyQZts8kGbbPJBm2zyQZts8kGbbPJBm2zyQZts8kGbbPJBm2zyQZts8kGbbPJBm2zyQbAU+EGwFPhBsBT4QbAU+EGwFPhBsBT4QbAU+EGwFPhBsBT4QbAU+EGwFPhBsBT4QbAU+EGwFPhBsBT4QbAU+EGwFPhBsBT4QbAU+EGwFPhBsBT4QbAU+EGwFPhBsBT4QbAU+EGwFPhBsBT4QbAU+EGwFPhBsBT4QbAU+EGwFPhBsBT4QbAU+EGwFPhBsBT4QbAU+EGwFPhBsBT4QbAU+EGwFPhBsBT4QbAU+EGwFPhBsBT4QbAU+EGwFPhBsBT4QbAU+EGwFPhBsBT4QbAU+EGwFPhBsBT4QbAU+EGwFPhBsBT4QbAU+EGwFPhBsBT4QbAU+EGwFPhBsBT4QbAU+EGwFPhBsBT4QbAU+EGwFPhBsBT4QbAU+EGwFPhBsBT4QbAU+EGwFPhBsBT4QbAU+EGwFPhBsBT4QbAU+EGwFPhBsBT4QbAU+EGwFPhBsBT4QbAU+EGwFPhBsBT4QbAU+EGwFPhBsBT4QbAU+EGwFPhBsBT4QbAU+EGwFPhBsBT4QbAU+EGwFPhBsBT4QbAU+EHEvP1BxLz9QcS8/UHEvP1BxLz9QcS8/UHEvP1BxLz9QcS8/UHEvP1BxLz9QcS8/UHEvP1BxLz9QcS8/UHEvP1BxLz9QcS8/UHEvP1BxLz9QcS8/UHEvP1BxLz9QcS8/UHEvP1BxLz9QcS8/UHEvP1BxLz9QcS8/UHEvP1BxLz9QcS8/UHEvP1BxLz9QcS8/UHEvP1BxLz9QcS8/UHEvP1BxLz9QcS8/UHEvP1BxLz9QcS8/UHEvP1BxLz9QcS8/UHEvP1BxLz9QcS8/UHEvP1BxLz9QcS8/UHEvP1BxLz9QcS8/UHEvP1BxLz9QcS8/UHEvP1BxLz9QcS8/UHEvP1BxLz9QcS8/UHEvP1BxLz9QcS8/UHEvP1BxLz9QcS8/UHEvP1BxLz9QcS8/UHEvP1BxLz9QcS8/UHEvP1BxLz9QcS8/UHEvP1BxLz9QcS8/UHEvP1BxLz9QcS8/UHEvP1BxLz9QcS8/UHEvP1BxLz9QcS8/UHEvP1BxLz9QcS8/UHEvP1BxLz9QcS8/UHEvP1BbbIBQm2yAUJtsgFCbbIBQm2yAUJtsgFCbbIBQm2yAUJtsgFCbbIBQm2yAUJtsgFCbbIBQm2yAUJtsgFCbbIBQm2yAUJtsgFCbbIBQm2yAUJtsgFCbbIBQm2yAUJtsgFCbbIBQm2yAUJtsgFCbbIBQm2yAUJtsgFCbbIBQm2yAUJtsgFCbbIBQm2yAUJtsgFCbbIBQm2yAUJtsgFCbbIBQm2yAUJtsgFCbbIBQm2yAUJtsgFCbbIBQm2yAUJtsgFCbbIBQm2yAUJtsgFCbbIBQm2yAUJtsgFCbbIBQm2yAUJtsgFCbbIBQm2yAUJtsgFCbbIBQm2yAUJtsgFCbbIBQm2yAUJtsgFCbbIBQm2yAUJtsgFCbbIBQm2yAUJtsgFCbbIBQm2yAUJtsgFCbbIBQm2yAUJtsgFCbbIBQm2yAUJtsgFCbbIBQm2yAUJtsgFCbbIBQm2yAUJtsgFCbbIBQm2yAUJtsgFCbbIBQm2yAUJtsgFCbbIBQm2yAUJtsgFCbbIBQm2yAUJtsgFCbbIBQneGBEJ3hgRCd4YEQneGBEJ3hgRCd4YEQneGBEJ3hgRCd4YEQneGBEJ3hgRCd4YEQneGBEJ3hgRCd4YEQneGBEJ3hgRCd4YEQneGBEJ3hgRCd4YEQneGBEJ3hgRCd4YEQneGBEJ3hgRCd4YEQneGBEJ3hgRCd4YEQneGBEJ3hgRCd4YEQneGBEJ3hgRCd4YEQneGBEJ3hgRCd4YEQneGBEJ3hgRCd4YEQneGBEJ3hgRCd4YEQneGBEJ3hgRCd4YEQneGBEJ3hgRCd4YEQneGBEJ3hgRCd4YEQneGBEJ3hgRCd4YEQneGBEJ3hgRCd4YEQneGBEJ3hgRCd4YEQneGBEJ3hgRCd4YEQneGBEJ3hgRCd4YEQneGBEJ3hgRCd4YEQneGBEJ3hgRCd4YEQneGBEJ3hgRCd4YEQneGBEJ3hgRCd4YEQneGBEJ3hgRCd4YEQneGBEJ3hgRCd4YEQneGBEJ3hgRCd4YEQneGBEJ3hgRCd4YEQneGBEJ3hgRCd4YEQneGBEJ3hgRCd4YEQneGBEKBWgdCgVoHQoFaB0KBWgdCgVoHQoFaB0KBWgdCgVoHQoFaB0KBWgdCgVoHQoFaB0KBWgdCgVoHQoFaB0KBWgdCgVoHQoFaB0KBWgdCgVoHQoFaB0KBWgdCgVoHQoFaB0KBWgdCgVoHQoFaB0KBWgdCgVoHQoFaB0KBWgdCgVoHQoFaB0KBWgdCgVoHQoFaB0KBWgdCgVoHQoFaB0KBWgdCgVoHQoFaB0KBWgdCgVoHQoFaB0KBWgdCgVoHQoFaB0KBWgdCgVoHQoFaB0KBWgdCgVoHQoFaB0KBWgdCgVoHQoFaB0KBWgdCgVoHQoFaB0KBWgdCgVoHQoFaB0KBWgdCgVoHQoFaB0KBWgdCgVoHQoFaB0KBWgdCgVoHQoFaB0KBWgdCgVoHQoFaB0KBWgdCgVoHQoFaB0KBWgdCgVoHQoFaB0KBWgdCgVoHQoFaB0KBWgdCgVoHQoFaB0KBWgdCgVoHQoFaB0KBWgdCgVoHQoFaB0KBWgdCgVoHQoFaB0KBWgdCgVoHQoFaB0KBWgdCjC4KQowuCkKMLgpCjC4KQowuCkKMLgpCjC4KQowuCkKMLgpCjC4KQowuCkKMLgpCjC4KQowuCkKMLgpCjC4KQowuCkKMLgpCjC4KQowuCkKMLgpCjC4KQowuCkKMLgpCjC4KQowuCkKMLgpCjC4KQowuCkKMLgpCjC4KQowuCkKMLgpCjC4KQowuCkKMLgpCjC4KQowuCkKMLgpCjC4KQowuCkKMLgpCjC4KQowuCkKMLgpCjC4KQowuCkKMLgpCjC4KQowuCkKMLgpCjC4KQowuCkKMLgpCjC4KQowuCkKMLgpCjC4KQowuCkKMLgpCjC4KQowuCkKMLgpCjC4KQowuCkKMLgpCjC4KQowuCkKMLgpCjC4KQowuCkKMLgpCjC4KQowuCkKMLgpCjC4KQowuCkKMLgpCjC4KQowuCkKMLgpCjC4KQowuCkKMLgpCjC4KQowuCkKMLgpCjC4KQowuCkKMLgpCjC4KQowuCkKMLgpCjC4KQowuCkKMLgpCjC4KQowuCkKMLgpCjC4KQpYCDUKWAg1ClgINQpYCDUKWAg1ClgINQpYCDUKWAg1ClgINQpYCDUKWAg1ClgINQpYCDUKWAg1ClgINQpYCDUKWAg1ClgINQpYCDUKWAg1ClgINQpYCDUKWAg1ClgINQpYCDUKWAg1ClgINQpYCDUKWAg1ClgINQpYCDUKWAg1ClgINQpYCDUKWAg1ClgINQpYCDUKWAg1ClgINQpYCDUKWAg1ClgINQpYCDUKWAg1ClgINQpYCDUKWAg1ClgINQpYCDUKWAg1ClgINQpYCDUKWAg1ClgINQpYCDUKWAg1ClgINQpYCDUKWAg1ClgINQpYCDUKWAg1ClgINQpYCDUKWAg1ClgINQpYCDUKWAg1ClgINQpYCDUKWAg1ClgINQpYCDUKWAg1ClgINQpYCDUKWAg1ClgINQpYCDUKWAg1ClgINQpYCDUKWAg1ClgINQpYCDUKWAg1ClgINQpYCDUKWAg1ClgINQpYCDUKWAg1ClgINQpYCDUKWAg1ClgINQpYCDUKWAg1ClgINQpYCDUKg1g9CoNYPQqDWD0Kg1g9CoNYPQqDWD0Kg1g9CoNYPQqDWD0Kg1g9CoNYPQqDWD0Kg1g9CoNYPQqDWD0Kg1g9CoNYPQqDWD0Kg1g9CoNYPQqDWD0Kg1g9CoNYPQqDWD0Kg1g9CoNYPQqDWD0Kg1g9CoNYPQqDWD0Kg1g9CoNYPQqDWD0Kg1g9CoNYPQqDWD0Kg1g9CoNYPQqDWD0Kg1g9CoNYPQqDWD0Kg1g9CoNYPQqDWD0Kg1g9CoNYPQqDWD0Kg1g9CoNYPQqDWD0Kg1g9CoNYPQqDWD0Kg1g9CoNYPQqDWD0Kg1g9CoNYPQqDWD0Kg1g9CoNYPQqDWD0Kg1g9CoNYPQqDWD0Kg1g9CoNYPQqDWD0Kg1g9CoNYPQqDWD0Kg1g9CoNYPQqDWD0Kg1g9CoNYPQqDWD0Kg1g9CoNYPQqDWD0Kg1g9CoNYPQqDWD0Kg1g9CoNYPQqDWD0Kg1g9CoNYPQqDWD0Kg1g9CoNYPQqDWD0Kg1g9CoNYPQqDWD0Kg1g9CoNYPQqDWD0Kg1g9Cq6oSQquqEkKrqhJCq6oSQquqEkKrqhJCq6oSQquqEkKrqhJCq6oSQquqEkKrqhJCq6oSQquqEkKrqhJCq6oSQquqEkKrqhJCq6oSQquqEkKrqhJCq6oSQquqEkKrqhJCq6oSQquqEkKrqhJCq6oSQquqEkKrqhJCq6oSQquqEkKrqhJCq6oSQquqEkKrqhJCq6oSQquqEkKrqhJCq6oSQquqEkKrqhJCq6oSQquqEkKrqhJCq6oSQquqEkKrqhJCq6oSQquqEkKrqhJCq6oSQquqEkKrqhJCq6oSQquqEkKrqhJCq6oSQquqEkKrqhJCq6oSQquqEkKrqhJCq6oSQquqEkKrqhJCq6oSQquqEkKrqhJCq6oSQquqEkKrqhJCq6oSQquqEkKrqhJCq6oSQquqEkKrqhJCq6oSQquqEkKrqhJCq6oSQquqEkKrqhJCq6oSQquqEkKrqhJCq6oSQquqEkKrqhJCq6oSQquqEkKrqhJCq6oSQquqEkKrqhJCq6oSQquqEkKrqhJCq6oSQrV+FUK1fhVCtX4VQrV+FUK1fhVCtX4VQrV+FUK1fhVCtX4VQrV+FUK1fhVCtX4VQrV+FUK1fhVCtX4VQrV+FUK1fhVCtX4VQrV+FUK1fhVCtX4VQrV+FUK1fhVCtX4VQrV+FUK1fhVCtX4VQrV+FUK1fhVCtX4VQrV+FUK1fhVCtX4VQrV+FUK1fhVCtX4VQrV+FUK1fhVCtX4VQrV+FUK1fhVCtX4VQrV+FUK1fhVCtX4VQrV+FUK1fhVCtX4VQrV+FUK1fhVCtX4VQrV+FUK1fhVCtX4VQrV+FUK1fhVCtX4VQrV+FUK1fhVCtX4VQrV+FUK1fhVCtX4VQrV+FUK1fhVCtX4VQrV+FUK1fhVCtX4VQrV+FUK1fhVCtX4VQrV+FUK1fhVCtX4VQrV+FUK1fhVCtX4VQrV+FUK1fhVCtX4VQrV+FUK1fhVCtX4VQrV+FUK1fhVCtX4VQrV+FUK1fhVCtX4VQrV+FUK1fhVCtX4VQrV+FUK1fhVCtX4VQrV+FUK1fhVCtX4VQrV+FUK/UhhCv1IYQr9SGEK/UhhCv1IYQr9SGEK/UhhCv1IYQr9SGEK/UhhCv1IYQr9SGEK/UhhCv1IYQr9SGEK/UhhCv1IYQr9SGEK/UhhCv1IYQr9SGEK/UhhCv1IYQr9SGEK/UhhCv1IYQr9SGEK/UhhCv1IYQr9SGEK/UhhCv1IYQr9SGEK/UhhCv1IYQr9SGEK/UhhCv1IYQr9SGEK/UhhCv1IYQr9SGEK/UhhCv1IYQr9SGEK/UhhCv1IYQr9SGEK/UhhCv1IYQr9SGEK/UhhCv1IYQr9SGEK/UhhCv1IYQr9SGEK/UhhCv1IYQr9SGEK/UhhCv1IYQr9SGEK/UhhCv1IYQr9SGEK/UhhCv1IYQr9SGEK/UhhCv1IYQr9SGEK/UhhCv1IYQr9SGEK/UhhCv1IYQr9SGEK/UhhCv1IYQr9SGEK/UhhCv1IYQr9SGEK/UhhCv1IYQr9SGEK/UhhCv1IYQr9SGEK/UhhCv1IYQr9SGEK/UhhCv1IYQr9SGEK/UhhCv1IYQr9SGEK/UhhCyiYbQsomG0LKJhtCyiYbQsomG0LKJhtCyiYbQsomG0LKJhtCyiYbQsomG0LKJhtCyiYbQsomG0LKJhtCyiYbQsomG0LKJhtCyiYbQsomG0LKJhtCyiYbQsomG0LKJhtCyiYbQsomG0LKJhtCyiYbQsomG0LKJhtCyiYbQsomG0LKJhtCyiYbQsomG0LKJhtCyiYbQsomG0LKJhtCyiYbQsomG0LKJhtCyiYbQsomG0LKJhtCyiYbQsomG0LKJhtCyiYbQsomG0LKJhtCyiYbQsomG0LKJhtCyiYbQsomG0LKJhtCyiYbQsomG0LKJhtCyiYbQsomG0LKJhtCyiYbQsomG0LKJhtCyiYbQsomG0LKJhtCyiYbQsomG0LKJhtCyiYbQsomG0LKJhtCyiYbQsomG0LKJhtCyiYbQsomG0LKJhtCyiYbQsomG0LKJhtCyiYbQsomG0LKJhtCyiYbQsomG0LKJhtCyiYbQsomG0LKJhtCyiYbQsomG0LKJhtCyiYbQsomG0LKJhtCyiYbQtT6HULU+h1C1PodQtT6HULU+h1C1PodQtT6HULU+h1C1PodQtT6HULU+h1C1PodQtT6HULU+h1C1PodQtT6HULU+h1C1PodQtT6HULU+h1C1PodQtT6HULU+h1C1PodQtT6HULU+h1C1PodQtT6HULU+h1C1PodQtT6HULU+h1C1PodQtT6HULU+h1C1PodQtT6HULU+h1C1PodQtT6HULU+h1C1PodQtT6HULU+h1C1PodQtT6HULU+h1C1PodQtT6HULU+h1C1PodQtT6HULU+h1C1PodQtT6HULU+h1C1PodQtT6HULU+h1C1PodQtT6HULU+h1C1PodQtT6HULU+h1C1PodQtT6HULU+h1C1PodQtT6HULU+h1C1PodQtT6HULU+h1C1PodQtT6HULU+h1C1PodQtT6HULU+h1C1PodQtT6HULU+h1C1PodQtT6HULU+h1C1PodQtT6HULU+h1C1PodQtT6HULU+h1C1PodQtT6HULU+h1C1PodQtT6HULU+h1C1PodQtT6HULeziBC3s4gQt7OIELeziBC3s4gQt7OIELeziBC3s4gQt7OIELeziBC3s4gQt7OIELeziBC3s4gQt7OIELeziBC3s4gQt7OIELeziBC3s4gQt7OIELeziBC3s4gQt7OIELeziBC3s4gQt7OIELeziBC3s4gQt7OIELeziBC3s4gQt7OIELeziBC3s4gQt7OIELeziBC3s4gQt7OIELeziBC3s4gQt7OIELeziBC3s4gQt7OIELeziBC3s4gQt7OIELeziBC3s4gQt7OIELeziBC3s4gQt7OIELeziBC3s4gQt7OIELeziBC3s4gQt7OIELeziBC3s4gQt7OIELeziBC3s4gQt7OIELeziBC3s4gQt7OIELeziBC3s4gQt7OIELeziBC3s4gQt7OIELeziBC3s4gQt7OIELeziBC3s4gQt7OIELeziBC3s4gQt7OIELeziBC3s4gQt7OIELeziBC3s4gQt7OIELeziBC3s4gQt7OIELeziBC3s4gQt7OIELeziBC3s4gQt7OIELeziBC6aIjQumiI0LpoiNC6aIjQumiI0LpoiNC6aIjQumiI0LpoiNC6aIjQumiI0LpoiNC6aIjQumiI0LpoiNC6aIjQumiI0LpoiNC6aIjQumiI0LpoiNC6aIjQumiI0LpoiNC6aIjQumiI0LpoiNC6aIjQumiI0LpoiNC6aIjQumiI0LpoiNC6aIjQumiI0LpoiNC6aIjQumiI0LpoiNC6aIjQumiI0LpoiNC6aIjQumiI0LpoiNC6aIjQumiI0LpoiNC6aIjQumiI0LpoiNC6aIjQumiI0LpoiNC6aIjQumiI0LpoiNC6aIjQumiI0LpoiNC6aIjQumiI0LpoiNC6aIjQumiI0LpoiNC6aIjQumiI0LpoiNC6aIjQumiI0LpoiNC6aIjQumiI0LpoiNC6aIjQumiI0LpoiNC6aIjQumiI0LpoiNC6aIjQumiI0LpoiNC6aIjQumiI0LpoiNC6aIjQumiI0LpoiNC6aIjQumiI0LpoiNC6aIjQumiI0LpoiNC6aIjQumiI0LpoiNC6aIjQvN2JkLzdiZC83YmQvN2JkLzdiZC83YmQvN2JkLzdiZC83YmQvN2JkLzdiZC83YmQvN2JkLzdiZC83YmQvN2JkLzdiZC83YmQvN2JkLzdiZC83YmQvN2JkLzdiZC83YmQvN2JkLzdiZC83YmQvN2JkLzdiZC83YmQvN2JkLzdiZC83YmQvN2JkLzdiZC83YmQvN2JkLzdiZC83YmQvN2JkLzdiZC83YmQvN2JkLzdiZC83YmQvN2JkLzdiZC83YmQvN2JkLzdiZC83YmQvN2JkLzdiZC83YmQvN2JkLzdiZC83YmQvN2JkLzdiZC83YmQvN2JkLzdiZC83YmQvN2JkLzdiZC83YmQvN2JkLzdiZC83YmQvN2JkLzdiZC83YmQvN2JkLzdiZC83YmQvN2JkLzdiZC83YmQvN2JkLzdiZC83YmQvN2JkLzdiZC83YmQvN2JkLzdiZC83YmQvN2JkLzdiZC83YmQvN2JkLzdiZC83YmQvN2JkLzdiZC83YmQvN2JkLzdiZC83YmQvN2JkL9SilC/UopQv1KKUL9SilC/UopQv1KKUL9SilC/UopQv1KKUL9SilC/UopQv1KKUL9SilC/UopQv1KKUL9SilC/UopQv1KKUL9SilC/UopQv1KKUL9SilC/UopQv1KKUL9SilC/UopQv1KKUL9SilC/UopQv1KKUL9SilC/UopQv1KKUL9SilC/UopQv1KKUL9SilC/UopQv1KKUL9SilC/UopQv1KKUL9SilC/UopQv1KKUL9SilC/UopQv1KKUL9SilC/UopQv1KKUL9SilC/UopQv1KKUL9SilC/UopQv1KKUL9SilC/UopQv1KKUL9SilC/UopQv1KKUL9SilC/UopQv1KKUL9SilC/UopQv1KKUL9SilC/UopQv1KKUL9SilC/UopQv1KKUL9SilC/UopQv1KKUL9SilC/UopQv1KKUL9SilC/UopQv1KKUL9SilC/UopQv1KKUL9SilC/UopQv1KKUL9SilC/UopQv1KKUL9SilC/UopQv1KKUL9SilC/UopQv1KKUL9SilCCB8sQggfLEIIHyxCCB8sQggfLEIIHyxCCB8sQggfLEIIHyxCCB8sQggfLEIIHyxCCB8sQggfLEIIHyxCCB8sQggfLEIIHyxCCB8sQggfLEIIHyxCCB8sQggfLEIIHyxCCB8sQggfLEIIHyxCCB8sQggfLEIIHyxCCB8sQggfLEIIHyxCCB8sQggfLEIIHyxCCB8sQggfLEIIHyxCCB8sQggfLEIIHyxCCB8sQggfLEIIHyxCCB8sQggfLEIIHyxCCB8sQggfLEIIHyxCCB8sQggfLEIIHyxCCB8sQggfLEIIHyxCCB8sQggfLEIIHyxCCB8sQggfLEIIHyxCCB8sQggfLEIIHyxCCB8sQggfLEIIHyxCCB8sQggfLEIIHyxCCB8sQggfLEIIHyxCCB8sQggfLEIIHyxCCB8sQggfLEIIHyxCCB8sQggfLEIIHyxCCB8sQggfLEIIHyxCCB8sQggfLEIIHyxCCB8sQggfLEIIHyxCCB8sQggfLEIIHyxCCB8sQggfLEIIHyxCCB8sQhLzLkIS8y5CEvMuQhLzLkIS8y5CEvMuQhLzLkIS8y5CEvMuQhLzLkIS8y5CEvMuQhLzLkIS8y5CEvMuQhLzLkIS8y5CEvMuQhLzLkIS8y5CEvMuQhLzLkIS8y5CEvMuQhLzLkIS8y5CEvMuQhLzLkIS8y5CEvMuQhLzLkIS8y5CEvMuQhLzLkIS8y5CEvMuQhLzLkIS8y5CEvMuQhLzLkIS8y5CEvMuQhLzLkIS8y5CEvMuQhLzLkIS8y5CEvMuQhLzLkIS8y5CEvMuQhLzLkIS8y5CEvMuQhLzLkIS8y5CEvMuQhLzLkIS8y5CEvMuQhLzLkIS8y5CEvMuQhLzLkIS8y5CEvMuQhLzLkIS8y5CEvMuQhLzLkIS8y5CEvMuQhLzLkIS8y5CEvMuQhLzLkIS8y5CEvMuQhLzLkIS8y5CEvMuQhLzLkIS8y5CEvMuQhLzLkIS8y5CEvMuQhLzLkIS8y5CEvMuQhLzLkIS8y5CEvMuQhLzLkIS8y5CEvMuQhLzLkIS8y5CEvMuQhLzLkIcxzFCHMcxQhzHMUIcxzFCHMcxQhzHMUIcxzFCHMcxQhzHMUIcxzFCHMcxQhzHMUIcxzFCHMcxQhzHMUIcxzFCHMcxQhzHMUIcxzFCHMcxQhzHMUIcxzFCHMcxQhzHMUIcxzFCHMcxQhzHMUIcxzFCHMcxQhzHMUIcxzFCHMcxQhzHMUIcxzFCHMcxQhzHMUIcxzFCHMcxQhzHMUIcxzFCHMcxQhzHMUIcxzFCHMcxQhzHMUIcxzFCHMcxQhzHMUIcxzFCHMcxQhzHMUIcxzFCHMcxQhzHMUIcxzFCHMcxQhzHMUIcxzFCHMcxQhzHMUIcxzFCHMcxQhzHMUIcxzFCHMcxQhzHMUIcxzFCHMcxQhzHMUIcxzFCHMcxQhzHMUIcxzFCHMcxQhzHMUIcxzFCHMcxQhzHMUIcxzFCHMcxQhzHMUIcxzFCHMcxQhzHMUIcxzFCHMcxQhzHMUIcxzFCHMcxQhzHMUIcxzFCHMcxQhzHMUIcxzFCHMcxQhzHMUIcxzFCHMcxQhzHMUIcxzFCJ5s0QiebNEInmzRCJ5s0QiebNEInmzRCJ5s0QiebNEInmzRCJ5s0QiebNEInmzRCJ5s0QiebNEInmzRCJ5s0QiebNEInmzRCJ5s0QiebNEInmzRCJ5s0QiebNEInmzRCJ5s0QiebNEInmzRCJ5s0QiebNEInmzRCJ5s0QiebNEInmzRCJ5s0QiebNEInmzRCJ5s0QiebNEInmzRCJ5s0QiebNEInmzRCJ5s0QiebNEInmzRCJ5s0QiebNEInmzRCJ5s0QiebNEInmzRCJ5s0QiebNEInmzRCJ5s0QiebNEInmzRCJ5s0QiebNEInmzRCJ5s0QiebNEInmzRCJ5s0QiebNEInmzRCJ5s0QiebNEInmzRCJ5s0QiebNEInmzRCJ5s0QiebNEInmzRCJ5s0QiebNEInmzRCJ5s0QiebNEInmzRCJ5s0QiebNEInmzRCJ5s0QiebNEInmzRCJ5s0QiebNEInmzRCJ5s0QiebNEInmzRCJ5s0QiebNEInmzRCJ5s0QiebNEInmzRCJ5s0QjFvN0IxbzdCMW83QjFvN0IxbzdCMW83QjFvN0IxbzdCMW83QjFvN0IxbzdCMW83QjFvN0IxbzdCMW83QjFvN0IxbzdCMW83QjFvN0IxbzdCMW83QjFvN0IxbzdCMW83QjFvN0IxbzdCMW83QjFvN0IxbzdCMW83QjFvN0IxbzdCMW83QjFvN0IxbzdCMW83QjFvN0IxbzdCMW83QjFvN0IxbzdCMW83QjFvN0IxbzdCMW83QjFvN0IxbzdCMW83QjFvN0IxbzdCMW83QjFvN0IxbzdCMW83QjFvN0IxbzdCMW83QjFvN0IxbzdCMW83QjFvN0IxbzdCMW83QjFvN0IxbzdCMW83QjFvN0IxbzdCMW83QjFvN0IxbzdCMW83QjFvN0IxbzdCMW83QjFvN0IxbzdCMW83QjFvN0IxbzdCMW83QjFvN0IxbzdCMW83QjFvN0IxbzdCMW83QjFvN0IxbzdCMW83QjFvN0IxbzdCMW83QjFvN0IxbzdCMW83QjFvN0IxbzdCMW83QjFvN0I7QzpCO0M6QjtDOkI7QzpCO0M6QjtDOkI7QzpCO0M6QjtDOkI7QzpCO0M6QjtDOkI7QzpCO0M6QjtDOkI7QzpCO0M6QjtDOkI7QzpCO0M6QjtDOkI7QzpCO0M6QjtDOkI7QzpCO0M6QjtDOkI7QzpCO0M6QjtDOkI7QzpCO0M6QjtDOkI7QzpCO0M6QjtDOkI7QzpCO0M6QjtDOkI7QzpCO0M6QjtDOkI7QzpCO0M6QjtDOkI7QzpCO0M6QjtDOkI7QzpCO0M6QjtDOkI7QzpCO0M6QjtDOkI7QzpCO0M6QjtDOkI7QzpCO0M6QjtDOkI7QzpCO0M6QjtDOkI7QzpCO0M6QjtDOkI7QzpCO0M6QjtDOkI7QzpCO0M6QjtDOkI7QzpCO0M6QjtDOkI7QzpCO0M6QjtDOkI7QzpCO0M6QjtDOkI7QzpCO0M6QjtDOkI7QzpCO0M6QjtDOkI7QzpCO0M6QjtDOkI7QzpCO0M6QjtDOkI7QzpCO0M6QjtDOkI7QzpCO0M6QjtDOkI7QzpCRhc9QkYXPUJGFz1CRhc9QkYXPUJGFz1CRhc9QkYXPUJGFz1CRhc9QkYXPUJGFz1CRhc9QkYXPUJGFz1CRhc9QkYXPUJGFz1CRhc9QkYXPUJGFz1CRhc9QkYXPUJGFz1CRhc9QkYXPUJGFz1CRhc9QkYXPUJGFz1CRhc9QkYXPUJGFz1CRhc9QkYXPUJGFz1CRhc9QkYXPUJGFz1CRhc9QkYXPUJGFz1CRhc9QkYXPUJGFz1CRhc9QkYXPUJGFz1CRhc9QkYXPUJGFz1CRhc9QkYXPUJGFz1CRhc9QkYXPUJGFz1CRhc9QkYXPUJGFz1CRhc9QkYXPUJGFz1CRhc9QkYXPUJGFz1CRhc9QkYXPUJGFz1CRhc9QkYXPUJGFz1CRhc9QkYXPUJGFz1CRhc9QkYXPUJGFz1CRhc9QkYXPUJGFz1CRhc9QkYXPUJGFz1CRhc9QkYXPUJGFz1CRhc9QkYXPUJGFz1CRhc9QkYXPUJGFz1CRhc9QkYXPUJGFz1CRhc9QkYXPUJGFz1CRhc9QlDrP0JQ6z9CUOs/QlDrP0JQ6z9CUOs/QlDrP0JQ6z9CUOs/QlDrP0JQ6z9CUOs/QlDrP0JQ6z9CUOs/QlDrP0JQ6z9CUOs/QlDrP0JQ6z9CUOs/QlDrP0JQ6z9CUOs/QlDrP0JQ6z9CUOs/QlDrP0JQ6z9CUOs/QlDrP0JQ6z9CUOs/QlDrP0JQ6z9CUOs/QlDrP0JQ6z9CUOs/QlDrP0JQ6z9CUOs/QlDrP0JQ6z9CUOs/QlDrP0JQ6z9CUOs/QlDrP0JQ6z9CUOs/QlDrP0JQ6z9CUOs/QlDrP0JQ6z9CUOs/QlDrP0JQ6z9CUOs/QlDrP0JQ6z9CUOs/QlDrP0JQ6z9CUOs/QlDrP0JQ6z9CUOs/QlDrP0JQ6z9CUOs/QlDrP0JQ6z9CUOs/QlDrP0JQ6z9CUOs/QlDrP0JQ6z9CUOs/QlDrP0JQ6z9CUOs/QlDrP0JQ6z9CUOs/QlDrP0JQ6z9CUOs/QlDrP0JQ6z9CUOs/QlDrP0JQ6z9CUOs/QlDrP0JQ6z9CUOs/QlDrP0Jav0JCWr9CQlq/QkJav0JCWr9CQlq/QkJav0JCWr9CQlq/QkJav0JCWr9CQlq/QkJav0JCWr9CQlq/QkJav0JCWr9CQlq/QkJav0JCWr9CQlq/QkJav0JCWr9CQlq/QkJav0JCWr9CQlq/QkJav0JCWr9CQlq/QkJav0JCWr9CQlq/QkJav0JCWr9CQlq/QkJav0JCWr9CQlq/QkJav0JCWr9CQlq/QkJav0JCWr9CQlq/QkJav0JCWr9CQlq/QkJav0JCWr9CQlq/QkJav0JCWr9CQlq/QkJav0JCWr9CQlq/QkJav0JCWr9CQlq/QkJav0JCWr9CQlq/QkJav0JCWr9CQlq/QkJav0JCWr9CQlq/QkJav0JCWr9CQlq/QkJav0JCWr9CQlq/QkJav0JCWr9CQlq/QkJav0JCWr9CQlq/QkJav0JCWr9CQlq/QkJav0JCWr9CQlq/QkJav0JCWr9CQlq/QkJav0JCWr9CQlq/QkJav0JCWr9CQlq/QkJav0JCWr9CQlq/QkJav0JCZZNFQmWTRUJlk0VCZZNFQmWTRUJlk0VCZZNFQmWTRUJlk0VCZZNFQmWTRUJlk0VCZZNFQmWTRUJlk0VCZZNFQmWTRUJlk0VCZZNFQmWTRUJlk0VCZZNFQmWTRUJlk0VCZZNFQmWTRUJlk0VCZZNFQmWTRUJlk0VCZZNFQmWTRUJlk0VCZZNFQmWTRUJlk0VCZZNFQmWTRUJlk0VCZZNFQmWTRUJlk0VCZZNFQmWTRUJlk0VCZZNFQmWTRUJlk0VCZZNFQmWTRUJlk0VCZZNFQmWTRUJlk0VCZZNFQmWTRUJlk0VCZZNFQmWTRUJlk0VCZZNFQmWTRUJlk0VCZZNFQmWTRUJlk0VCZZNFQmWTRUJlk0VCZZNFQmWTRUJlk0VCZZNFQmWTRUJlk0VCZZNFQmWTRUJlk0VCZZNFQmWTRUJlk0VCZZNFQmWTRUJlk0VCZZNFQmWTRUJlk0VCZZNFQmWTRUJlk0VCZZNFQmWTRUJlk0VCZZNFQmWTRUJlk0VCZZNFQmWTRUJlk0VCZZNFQm9nSEJvZ0hCb2dIQm9nSEJvZ0hCb2dIQm9nSEJvZ0hCb2dIQm9nSEJvZ0hCb2dIQm9nSEJvZ0hCb2dIQm9nSEJvZ0hCb2dIQm9nSEJvZ0hCb2dIQm9nSEJvZ0hCb2dIQm9nSEJvZ0hCb2dIQm9nSEJvZ0hCb2dIQm9nSEJvZ0hCb2dIQm9nSEJvZ0hCb2dIQm9nSEJvZ0hCb2dIQm9nSEJvZ0hCb2dIQm9nSEJvZ0hCb2dIQm9nSEJvZ0hCb2dIQm9nSEJvZ0hCb2dIQm9nSEJvZ0hCb2dIQm9nSEJvZ0hCb2dIQm9nSEJvZ0hCb2dIQm9nSEJvZ0hCb2dIQm9nSEJvZ0hCb2dIQm9nSEJvZ0hCb2dIQm9nSEJvZ0hCb2dIQm9nSEJvZ0hCb2dIQm9nSEJvZ0hCb2dIQm9nSEJvZ0hCb2dIQm9nSEJvZ0hCb2dIQm9nSEJvZ0hCb2dIQm9nSEJvZ0hCb2dIQm9nSEJvZ0hCb2dIQm9nSEJvZ0hCb2dIQm9nSEJvZ0hCb2dIQm9nSEJ6O0tCejtLQno7S0J6O0tCejtLQno7S0J6O0tCejtLQno7S0J6O0tCejtLQno7S0J6O0tCejtLQno7S0J6O0tCejtLQno7S0J6O0tCejtLQno7S0J6O0tCejtLQno7S0J6O0tCejtLQno7S0J6O0tCejtLQno7S0J6O0tCejtLQno7S0J6O0tCejtLQno7S0J6O0tCejtLQno7S0J6O0tCejtLQno7S0J6O0tCejtLQno7S0J6O0tCejtLQno7S0J6O0tCejtLQno7S0J6O0tCejtLQno7S0J6O0tCejtLQno7S0J6O0tCejtLQno7S0J6O0tCejtLQno7S0J6O0tCejtLQno7S0J6O0tCejtLQno7S0J6O0tCejtLQno7S0J6O0tCejtLQno7S0J6O0tCejtLQno7S0J6O0tCejtLQno7S0J6O0tCejtLQno7S0J6O0tCejtLQno7S0J6O0tCejtLQno7S0J6O0tCejtLQno7S0J6O0tCejtLQno7S0J6O0tCejtLQno7S0J6O0tChA9OQoQPTkKED05ChA9OQoQPTkKED05ChA9OQoQPTkKED05ChA9OQoQPTkKED05ChA9OQoQPTkKED05ChA9OQoQPTkKED05ChA9OQoQPTkKED05ChA9OQoQPTkKED05ChA9OQoQPTkKED05ChA9OQoQPTkKED05ChA9OQoQPTkKED05ChA9OQoQPTkKED05ChA9OQoQPTkKED05ChA9OQoQPTkKED05ChA9OQoQPTkKED05ChA9OQoQPTkKED05ChA9OQoQPTkKED05ChA9OQoQPTkKED05ChA9OQoQPTkKED05ChA9OQoQPTkKED05ChA9OQoQPTkKED05ChA9OQoQPTkKED05ChA9OQoQPTkKED05ChA9OQoQPTkKED05ChA9OQoQPTkKED05ChA9OQoQPTkKED05ChA9OQoQPTkKED05ChA9OQoQPTkKED05ChA9OQoQPTkKED05ChA9OQoQPTkKED05ChA9OQoQPTkKED05ChA9OQoQPTkKED05ChA9OQoQPTkKED05ChA9OQo7jUEKO41BCjuNQQo7jUEKO41BCjuNQQo7jUEKO41BCjuNQQo7jUEKO41BCjuNQQo7jUEKO41BCjuNQQo7jUEKO41BCjuNQQo7jUEKO41BCjuNQQo7jUEKO41BCjuNQQo7jUEKO41BCjuNQQo7jUEKO41BCjuNQQo7jUEKO41BCjuNQQo7jUEKO41BCjuNQQo7jUEKO41BCjuNQQo7jUEKO41BCjuNQQo7jUEKO41BCjuNQQo7jUEKO41BCjuNQQo7jUEKO41BCjuNQQo7jUEKO41BCjuNQQo7jUEKO41BCjuNQQo7jUEKO41BCjuNQQo7jUEKO41BCjuNQQo7jUEKO41BCjuNQQo7jUEKO41BCjuNQQo7jUEKO41BCjuNQQo7jUEKO41BCjuNQQo7jUEKO41BCjuNQQo7jUEKO41BCjuNQQo7jUEKO41BCjuNQQo7jUEKO41BCjuNQQo7jUEKO41BCjuNQQo7jUEKO41BCjuNQQo7jUEKO41BCjuNQQo7jUEKO41BCjuNQQo7jUEKZt1NCmbdTQpm3U0KZt1NCmbdTQpm3U0KZt1NCmbdTQpm3U0KZt1NCmbdTQpm3U0KZt1NCmbdTQpm3U0KZt1NCmbdTQpm3U0KZt1NCmbdTQpm3U0KZt1NCmbdTQpm3U0KZt1NCmbdTQpm3U0KZt1NCmbdTQpm3U0KZt1NCmbdTQpm3U0KZt1NCmbdTQpm3U0KZt1NCmbdTQpm3U0KZt1NCmbdTQpm3U0KZt1NCmbdTQpm3U0KZt1NCmbdTQpm3U0KZt1NCmbdTQpm3U0KZt1NCmbdTQpm3U0KZt1NCmbdTQpm3U0KZt1NCmbdTQpm3U0KZt1NCmbdTQpm3U0KZt1NCmbdTQpm3U0KZt1NCmbdTQpm3U0KZt1NCmbdTQpm3U0KZt1NCmbdTQpm3U0KZt1NCmbdTQpm3U0KZt1NCmbdTQpm3U0KZt1NCmbdTQpm3U0KZt1NCmbdTQpm3U0KZt1NCmbdTQpm3U0KZt1NCmbdTQpm3U0KZt1NCmbdTQpm3U0KZt1NCmbdTQpm3U0KZt1NCo4tWQqOLVkKji1ZCo4tWQqOLVkKji1ZCo4tWQqOLVkKji1ZCo4tWQqOLVkKji1ZCo4tWQqOLVkKji1ZCo4tWQqOLVkKji1ZCo4tWQqOLVkKji1ZCo4tWQqOLVkKji1ZCo4tWQqOLVkKji1ZCo4tWQqOLVkKji1ZCo4tWQqOLVkKji1ZCo4tWQqOLVkKji1ZCo4tWQqOLVkKji1ZCo4tWQqOLVkKji1ZCo4tWQqOLVkKji1ZCo4tWQqOLVkKji1ZCo4tWQqOLVkKji1ZCo4tWQqOLVkKji1ZCo4tWQqOLVkKji1ZCo4tWQqOLVkKji1ZCo4tWQqOLVkKji1ZCo4tWQqOLVkKji1ZCo4tWQqOLVkKji1ZCo4tWQqOLVkKji1ZCo4tWQqOLVkKji1ZCo4tWQqOLVkKji1ZCo4tWQqOLVkKji1ZCo4tWQqOLVkKji1ZCo4tWQqOLVkKji1ZCo4tWQqOLVkKji1ZCo4tWQqOLVkKji1ZCo4tWQqOLVkKji1ZCo4tWQqOLVkKji1ZCo4tWQq1fWUKtX1lCrV9ZQq1fWUKtX1lCrV9ZQq1fWUKtX1lCrV9ZQq1fWUKtX1lCrV9ZQq1fWUKtX1lCrV9ZQq1fWUKtX1lCrV9ZQq1fWUKtX1lCrV9ZQq1fWUKtX1lCrV9ZQq1fWUKtX1lCrV9ZQq1fWUKtX1lCrV9ZQq1fWUKtX1lCrV9ZQq1fWUKtX1lCrV9ZQq1fWUKtX1lCrV9ZQq1fWUKtX1lCrV9ZQq1fWUKtX1lCrV9ZQq1fWUKtX1lCrV9ZQq1fWUKtX1lCrV9ZQq1fWUKtX1lCrV9ZQq1fWUKtX1lCrV9ZQq1fWUKtX1lCrV9ZQq1fWUKtX1lCrV9ZQq1fWUKtX1lCrV9ZQq1fWUKtX1lCrV9ZQq1fWUKtX1lCrV9ZQq1fWUKtX1lCrV9ZQq1fWUKtX1lCrV9ZQq1fWUKtX1lCrV9ZQq1fWUKtX1lCrV9ZQq1fWUKtX1lCrV9ZQq1fWUKtX1lCrV9ZQq1fWUKtX1lCrV9ZQq1fWUKtX1lCrV9ZQq1fWUKtX1lCrV9ZQq1fWUK4M1xCuDNcQrgzXEK4M1xCuDNcQrgzXEK4M1xCuDNcQrgzXEK4M1xCuDNcQrgzXEK4M1xCuDNcQrgzXEK4M1xCuDNcQrgzXEK4M1xCuDNcQrgzXEK4M1xCuDNcQrgzXEK4M1xCuDNcQrgzXEK4M1xCuDNcQrgzXEK4M1xCuDNcQrgzXEK4M1xCuDNcQrgzXEK4M1xCuDNcQrgzXEK4M1xCuDNcQrgzXEK4M1xCuDNcQrgzXEK4M1xCuDNcQrgzXEK4M1xCuDNcQrgzXEK4M1xCuDNcQrgzXEK4M1xCuDNcQrgzXEK4M1xCuDNcQrgzXEK4M1xCuDNcQrgzXEK4M1xCuDNcQrgzXEK4M1xCuDNcQrgzXEK4M1xCuDNcQrgzXEK4M1xCuDNcQrgzXEK4M1xCuDNcQrgzXEK4M1xCuDNcQrgzXEK4M1xCuDNcQrgzXEK4M1xCuDNcQrgzXEK4M1xCuDNcQrgzXEK4M1xCuDNcQrgzXEK4M1xCuDNcQrgzXEK4M1xCuDNcQrgzXEK4M1xCwgdfQsIHX0LCB19CwgdfQsIHX0LCB19CwgdfQsIHX0LCB19CwgdfQsIHX0LCB19CwgdfQsIHX0LCB19CwgdfQsIHX0LCB19CwgdfQsIHX0LCB19CwgdfQsIHX0LCB19CwgdfQsIHX0LCB19CwgdfQsIHX0LCB19CwgdfQsIHX0LCB19CwgdfQsIHX0LCB19CwgdfQsIHX0LCB19CwgdfQsIHX0LCB19CwgdfQsIHX0LCB19CwgdfQsIHX0LCB19CwgdfQsIHX0LCB19CwgdfQsIHX0LCB19CwgdfQsIHX0LCB19CwgdfQsIHX0LCB19CwgdfQsIHX0LCB19CwgdfQsIHX0LCB19CwgdfQsIHX0LCB19CwgdfQsIHX0LCB19CwgdfQsIHX0LCB19CwgdfQsIHX0LCB19CwgdfQsIHX0LCB19CwgdfQsIHX0LCB19CwgdfQsIHX0LCB19CwgdfQsIHX0LCB19CwgdfQsIHX0LCB19CwgdfQsIHX0LCB19CwgdfQsIHX0LCB19CwgdfQszbYULM22FCzNthQszbYULM22FCzNthQszbYULM22FCzNthQszbYULM22FCzNthQszbYULM22FCzNthQszbYULM22FCzNthQszbYULM22FCzNthQszbYULM22FCzNthQszbYULM22FCzNthQszbYULM22FCzNthQszbYULM22FCzNthQszbYULM22FCzNthQszbYULM22FCzNthQszbYULM22FCzNthQszbYULM22FCzNthQszbYULM22FCzNthQszbYULM22FCzNthQszbYULM22FCzNthQszbYULM22FCzNthQszbYULM22FCzNthQszbYULM22FCzNthQszbYULM22FCzNthQszbYULM22FCzNthQszbYULM22FCzNthQszbYULM22FCzNthQszbYULM22FCzNthQszbYULM22FCzNthQszbYULM22FCzNthQszbYULM22FCzNthQszbYULM22FCzNthQszbYULM22FCzNthQszbYULM22FCzNthQszbYULM22FCzNthQszbYULXr2RC169kQtevZELXr2RC169kQtevZELXr2RC169kQtevZELXr2RC169kQtevZELXr2RC169kQtevZELXr2RC169kQtevZELXr2RC169kQtevZELXr2RC169kQtevZELXr2RC169kQtevZELXr2RC169kQtevZELXr2RC169kQtevZELXr2RC169kQtevZELXr2RC169kQtevZELXr2RC169kQtevZELXr2RC169kQtevZELXr2RC169kQtevZELXr2RC169kQtevZELXr2RC169kQtevZELXr2RC169kQtevZELXr2RC169kQtevZELXr2RC169kQtevZELXr2RC169kQtevZELXr2RC169kQtevZELXr2RC169kQtevZELXr2RC169kQtevZELXr2RC169kQtevZELXr2RC169kQtevZELXr2RC169kQtevZELXr2RC169kQtevZELXr2RC169kQtevZELXr2RC169kQtevZELXr2RC169kQtevZELXr2RC169kQtevZELXr2RC4YNnQuGDZ0Lhg2dC4YNnQuGDZ0Lhg2dC4YNnQuGDZ0Lhg2dC4YNnQuGDZ0Lhg2dC4YNnQuGDZ0Lhg2dC4YNnQuGDZ0Lhg2dC4YNnQuGDZ0Lhg2dC4YNnQuGDZ0Lhg2dC4YNnQuGDZ0Lhg2dC4YNnQuGDZ0Lhg2dC4YNnQuGDZ0Lhg2dC4YNnQuGDZ0Lhg2dC4YNnQuGDZ0Lhg2dC4YNnQuGDZ0Lhg2dC4YNnQuGDZ0Lhg2dC4YNnQuGDZ0Lhg2dC4YNnQuGDZ0Lhg2dC4YNnQuGDZ0Lhg2dC4YNnQuGDZ0Lhg2dC4YNnQuGDZ0Lhg2dC4YNnQuGDZ0Lhg2dC4YNnQuGDZ0Lhg2dC4YNnQuGDZ0Lhg2dC4YNnQuGDZ0Lhg2dC4YNnQuGDZ0Lhg2dC4YNnQuGDZ0Lhg2dC4YNnQuGDZ0Lhg2dC4YNnQuGDZ0Lhg2dC4YNnQuGDZ0Lhg2dC4YNnQuGDZ0Lhg2dC4YNnQuGDZ0Lhg2dC4YNnQuGDZ0Lhg2dC4YNnQuGDZ0Lhg2dC4YNnQutXakLrV2pC61dqQutXakLrV2pC61dqQutXakLrV2pC61dqQutXakLrV2pC61dqQutXakLrV2pC61dqQutXakLrV2pC61dqQutXakLrV2pC61dqQutXakLrV2pC61dqQutXakLrV2pC61dqQutXakLrV2pC61dqQutXakLrV2pC61dqQutXakLrV2pC61dqQutXakLrV2pC61dqQutXakLrV2pC61dqQutXakLrV2pC61dqQutXakLrV2pC61dqQutXakLrV2pC61dqQutXakLrV2pC61dqQutXakLrV2pC61dqQutXakLrV2pC61dqQutXakLrV2pC61dqQutXakLrV2pC61dqQutXakLrV2pC61dqQutXakLrV2pC61dqQutXakLrV2pC61dqQutXakLrV2pC61dqQutXakLrV2pC61dqQutXakLrV2pC61dqQutXakLrV2pC61dqQutXakLrV2pC61dqQutXakLrV2pC61dqQutXakLrV2pC61dqQutXakLrV2pC61dqQutXakL2K21C9ittQvYrbUL2K21C9ittQvYrbUL2K21C9ittQvYrbUL2K21C9ittQvYrbUL2K21C9ittQvYrbUL2K21C9ittQvYrbUL2K21C9ittQvYrbUL2K21C9ittQvYrbUL2K21C9ittQvYrbUL2K21C9ittQvYrbUL2K21C9ittQvYrbUL2K21C9ittQvYrbUL2K21C9ittQvYrbUL2K21C9ittQvYrbUL2K21C9ittQvYrbUL2K21C9ittQvYrbUL2K21C9ittQvYrbUL2K21C9ittQvYrbUL2K21C9ittQvYrbUL2K21C9ittQvYrbUL2K21C9ittQvYrbUL2K21C9ittQvYrbUL2K21C9ittQvYrbUL2K21C9ittQvYrbUL2K21C9ittQvYrbUL2K21C9ittQvYrbUL2K21C9ittQvYrbUL2K21C9ittQvYrbUL2K21C9ittQvYrbUL2K21C9ittQvYrbUL2K21C9ittQvYrbUL2K21C9ittQvYrbUL2K21C9ittQvYrbUL2K21CAABwQgAAcEIAAHBCAABwQgAAcEIAAHBCAABwQgAAcEIAAHBCAABwQgAAcEIAAHBCAABwQgAAcEIAAHBCAABwQgAAcEIAAHBCAABwQgAAcEIAAHBCAABwQgAAcEIAAHBCAABwQgAAcEIAAHBCAABwQgAAcEIAAHBCAABwQgAAcEIAAHBCAABwQgAAcEIAAHBCAABwQgAAcEIAAHBCAABwQgAAcEIAAHBCAABwQgAAcEIAAHBCAABwQgAAcEIAAHBCAABwQgAAcEIAAHBCAABwQgAAcEIAAHBCAABwQgAAcEIAAHBCAABwQgAAcEIAAHBCAABwQgAAcEIAAHBCAABwQgAAcEIAAHBCAABwQgAAcEIAAHBCAABwQgAAcEIAAHBCAABwQgAAcEIAAHBCAABwQgAAcEIAAHBCAABwQgAAcEIAAHBCAABwQgAAcEIAAHBCAABwQgAAcEIAAHBCAABwQgAAcEIAAHBCAABwQgAAcEIAAHBCAABwQgAAcEIAAHBCAABwQgAAcEIAAHBCAABwQg==",
          "dtype": "f4",
          "shape": "100, 100"
         },
         "y": {
          "bdata": "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",
          "dtype": "f4",
          "shape": "100, 100"
         },
         "z": {
          "bdata": "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",
          "dtype": "f4",
          "shape": "100, 100"
         }
        },
        {
         "line": {
          "color": "red",
          "width": 2
         },
         "marker": {
          "color": [
           2061.7080078125,
           2003.961669921875,
           1948.15283203125,
           1894.2147216796875,
           1842.084228515625,
           1791.69921875,
           1743.0003662109375,
           1695.9300537109375,
           1650.432861328125,
           1606.455322265625,
           1563.9454345703125,
           1522.8538818359375,
           1483.1322021484375,
           1444.7337646484375,
           1407.6138916015625,
           1371.729248046875,
           1337.0379638671875,
           1303.4998779296875,
           1271.075439453125,
           1239.7276611328125,
           1209.4195556640625,
           1180.1165771484375,
           1151.78466796875,
           1124.3909912109375,
           1097.9039306640625,
           1072.2930908203125,
           1047.5289306640625,
           1023.5829467773438,
           1000.427734375,
           978.0368041992188,
           956.3844604492188,
           935.4459228515625,
           915.1973266601562,
           895.6154174804688,
           876.677978515625,
           858.3636474609375,
           840.6514282226562,
           823.5211181640625,
           806.9534301757812,
           790.9295043945312,
           775.431396484375,
           760.44140625,
           745.9428100585938,
           731.9190673828125,
           718.3543701171875,
           705.2335815429688,
           692.5419311523438,
           680.2652587890625,
           668.3895874023438,
           656.9017944335938,
           645.7890014648438,
           635.038818359375,
           624.6390380859375,
           614.578369140625,
           604.8453979492188,
           595.429443359375,
           586.31982421875,
           577.506591796875,
           568.9799194335938,
           560.7305297851562,
           552.7489624023438,
           545.0266723632812,
           537.5549926757812,
           530.3258056640625,
           523.3308715820312,
           516.5628662109375,
           510.0140686035156,
           503.6772766113281,
           497.54571533203125,
           491.61248779296875,
           485.8711853027344,
           480.3155822753906,
           474.9394836425781,
           469.73699951171875,
           464.7025451660156,
           459.8305969238281,
           455.1158142089844,
           450.5531005859375,
           446.13751220703125,
           441.8641662597656,
           437.7285461425781,
           433.7260437011719,
           429.8523864746094,
           426.10333251953125,
           422.47491455078125,
           418.9630432128906,
           415.5640869140625,
           412.2743835449219,
           409.0903625488281,
           406.0084228515625,
           403.0254821777344,
           400.1382141113281,
           397.3434753417969,
           394.6383972167969,
           392.01995849609375,
           389.4854736328125,
           387.0321044921875,
           384.6572570800781,
           382.3584289550781,
           380.1332092285156,
           377.97906494140625,
           375.8938293457031,
           373.875244140625,
           371.92108154296875,
           370.0293884277344,
           368.197998046875,
           366.42523193359375,
           364.7089538574219,
           363.04742431640625,
           361.43878173828125,
           359.8814697265625,
           358.37384033203125,
           356.9142150878906,
           355.5010986328125,
           354.1329650878906,
           352.808349609375,
           351.5258483886719,
           350.2842712402344,
           349.0820617675781,
           347.9181213378906,
           346.7911682128906,
           345.70001220703125,
           344.6435546875,
           343.6206359863281,
           342.63018798828125,
           341.671142578125,
           340.74249267578125,
           339.84344482421875,
           338.9728088378906,
           338.1298522949219,
           337.3135681152344,
           336.52313232421875,
           335.7577819824219,
           335.0166320800781,
           334.29901123046875,
           333.6040954589844,
           332.9311828613281,
           332.279541015625,
           331.6484680175781,
           331.03741455078125,
           330.4456787109375,
           329.87261962890625,
           329.3177490234375,
           328.7803039550781,
           328.2599182128906,
           327.7559509277344,
           327.2679138183594,
           326.7952880859375,
           326.3375244140625,
           325.89422607421875,
           325.4649353027344,
           325.0491943359375,
           324.6465148925781,
           324.256591796875,
           323.8789367675781,
           323.51312255859375,
           323.158935546875,
           322.8158264160156,
           322.4836120605469,
           322.16180419921875,
           321.8501281738281,
           321.54827880859375,
           321.25592041015625,
           320.9727783203125,
           320.69854736328125,
           320.43292236328125,
           320.1756591796875,
           319.92645263671875,
           319.6851501464844,
           319.451416015625,
           319.2250061035156,
           319.0057067871094,
           318.7933044433594,
           318.58758544921875,
           318.3882751464844,
           318.1952819824219,
           318.00836181640625,
           317.8272705078125,
           317.6518859863281,
           317.4820251464844,
           317.3174743652344,
           317.15802001953125,
           317.0036315917969,
           316.8540954589844,
           316.709228515625,
           316.5688781738281,
           316.4329833984375,
           316.3013000488281,
           316.17376708984375,
           316.05023193359375,
           315.9305419921875,
           315.8146057128906,
           315.7023010253906,
           315.59356689453125,
           315.4881896972656,
           315.3861083984375,
           315.2872314453125,
           315.1914367675781,
           315.0986633300781,
           315.0087585449219,
           314.9217224121094,
           314.8373718261719,
           314.75567626953125,
           314.676513671875,
           314.59979248046875,
           314.5255432128906,
           314.4535827636719,
           314.3839111328125,
           314.3163146972656,
           314.2508850097656,
           314.18756103515625,
           314.12615966796875,
           314.0666809082031,
           314.0090637207031,
           313.9532470703125,
           313.8992004394531,
           313.8468017578125,
           313.7960510253906,
           313.74688720703125,
           313.6992492675781,
           313.653076171875,
           313.6083679199219,
           313.5650634765625,
           313.52313232421875,
           313.4824523925781,
           313.4430847167969,
           313.4049377441406,
           313.3679504394531,
           313.3321533203125,
           313.2974548339844,
           313.26385498046875,
           313.23126220703125,
           313.1997375488281,
           313.169189453125,
           313.1395568847656,
           313.1108703613281,
           313.08306884765625,
           313.0561218261719,
           313.0300598144531,
           313.0047912597656,
           312.98028564453125,
           312.95654296875,
           312.9335632324219,
           312.9112854003906,
           312.88970947265625,
           312.8688049316406,
           312.8485412597656,
           312.82891845703125,
           312.80987548828125,
           312.7914733886719,
           312.77362060546875,
           312.75634765625,
           312.7395935058594,
           312.72332763671875,
           312.7076416015625,
           312.6924133300781,
           312.6776123046875,
           312.663330078125,
           312.6494445800781,
           312.63604736328125,
           312.623046875,
           312.6104431152344,
           312.59820556640625,
           312.5863342285156,
           312.57489013671875,
           312.56378173828125,
           312.5530090332031,
           312.5426025390625,
           312.5325012207031,
           312.522705078125,
           312.5132141113281,
           312.5040283203125,
           312.4951171875,
           312.4864807128906,
           312.4781188964844,
           312.47003173828125,
           312.462158203125,
           312.4545593261719,
           312.44720458984375,
           312.4400329589844,
           312.4331359863281,
           312.4263916015625,
           312.419921875,
           312.4136047363281,
           312.4075012207031,
           312.401611328125,
           312.3959045410156,
           312.39031982421875,
           312.38494873046875,
           312.3797607421875,
           312.3747253417969,
           312.36981201171875,
           312.3651123046875,
           312.3604736328125,
           312.3560485839844,
           312.3517150878906,
           312.3475646972656,
           312.343505859375,
           312.339599609375,
           312.3358154296875,
           312.33209228515625,
           312.32855224609375,
           312.3250732421875,
           312.3217468261719,
           312.3184814453125,
           312.3153381347656,
           312.312255859375,
           312.309326171875,
           312.3064880371094,
           312.3036804199219,
           312.301025390625,
           312.2984313964844,
           312.2958679199219,
           312.2934265136719,
           312.29107666015625,
           312.2887878417969,
           312.28656005859375,
           312.284423828125,
           312.2823181152344,
           312.2803039550781,
           312.2783203125,
           312.27642822265625,
           312.27459716796875,
           312.2727966308594,
           312.2710876464844,
           312.2694091796875,
           312.2677917480469,
           312.26617431640625,
           312.2646789550781,
           312.2632141113281,
           312.2617492675781,
           312.2603759765625,
           312.259033203125,
           312.2577209472656,
           312.2564697265625,
           312.2552490234375,
           312.25408935546875,
           312.2529296875,
           312.2518005371094,
           312.2507019042969,
           312.24969482421875,
           312.2486572265625,
           312.2476806640625,
           312.24676513671875,
           312.2458190917969,
           312.24493408203125,
           312.2440490722656,
           312.2432556152344,
           312.242431640625,
           312.2416076660156,
           312.2408447265625,
           312.2401428222656,
           312.2394104003906,
           312.2387390136719,
           312.2380065917969,
           312.2373962402344,
           312.23675537109375,
           312.2361755371094,
           312.23553466796875,
           312.2350158691406,
           312.2344055175781,
           312.23388671875,
           312.2333679199219,
           312.23284912109375,
           312.23236083984375,
           312.2319030761719,
           312.2314453125,
           312.2309875488281,
           312.2305603027344,
           312.2301025390625,
           312.2297058105469,
           312.22930908203125,
           312.22894287109375,
           312.2286071777344,
           312.22821044921875,
           312.2279052734375,
           312.2275390625,
           312.2272033691406,
           312.2268981933594,
           312.2265625,
           312.22625732421875,
           312.22601318359375,
           312.2257080078125,
           312.2254638671875,
           312.2251892089844,
           312.2249755859375,
           312.22467041015625,
           312.2244567871094,
           312.2242126464844,
           312.2239990234375,
           312.2237854003906,
           312.22357177734375,
           312.223388671875,
           312.2231750488281,
           312.2229919433594,
           312.2227783203125,
           312.2226257324219,
           312.2224426269531,
           312.2222595214844,
           312.22210693359375,
           312.22198486328125,
           312.2218017578125,
           312.2216491699219,
           312.22149658203125,
           312.22137451171875,
           312.2212219238281,
           312.2210998535156,
           312.220947265625,
           312.2208557128906,
           312.2207336425781,
           312.22064208984375,
           312.2204895019531,
           312.22039794921875,
           312.22027587890625,
           312.22015380859375,
           312.2200927734375,
           312.2200012207031,
           312.21990966796875,
           312.2198486328125,
           312.2197570800781,
           312.2196350097656,
           312.21954345703125,
           312.219482421875,
           312.2193908691406,
           312.2193298339844,
           312.21923828125,
           312.21917724609375,
           312.2191162109375,
           312.21905517578125,
           312.218994140625,
           312.21893310546875,
           312.2188415527344,
           312.2188415527344,
           312.21875,
           312.21868896484375,
           312.2186584472656,
           312.2185974121094,
           312.21856689453125,
           312.2185363769531,
           312.21844482421875,
           312.2183837890625,
           312.2183837890625,
           312.2182922363281,
           312.21832275390625,
           312.21826171875,
           312.21820068359375,
           312.2181701660156,
           312.2181396484375,
           312.21807861328125,
           312.21807861328125,
           312.218017578125,
           312.2179870605469,
           312.21795654296875,
           312.21795654296875,
           312.2178955078125,
           312.2178649902344,
           312.2178649902344,
           312.2178649902344,
           312.2178039550781,
           312.2177429199219,
           312.2177429199219,
           312.21771240234375,
           312.2176818847656,
           312.2176818847656,
           312.2176818847656,
           312.2176513671875,
           312.2176208496094,
           312.21759033203125,
           312.21759033203125,
           312.217529296875,
           312.217529296875,
           312.217529296875,
           312.217529296875,
           312.21746826171875,
           312.21746826171875,
           312.2174987792969,
           312.2174377441406,
           312.21746826171875,
           312.2174072265625,
           312.2174072265625,
           312.2173767089844,
           312.2174072265625,
           312.21734619140625,
           312.2173767089844,
           312.2173767089844,
           312.21734619140625,
           312.2173156738281,
           312.2173156738281,
           312.21734619140625,
           312.2173156738281,
           312.21728515625,
           312.21728515625,
           312.2173156738281,
           312.2172546386719,
           312.2172546386719,
           312.21722412109375,
           312.21722412109375,
           312.21722412109375,
           312.21722412109375,
           312.2171936035156,
           312.2171936035156,
           312.2171936035156,
           312.2171936035156,
           312.2171936035156,
           312.2171936035156,
           312.2171630859375,
           312.2171630859375,
           312.2171630859375,
           312.2171630859375,
           312.2171630859375,
           312.2171630859375,
           312.2171630859375,
           312.2171630859375,
           312.2171325683594,
           312.2171630859375,
           312.2171325683594,
           312.21710205078125,
           312.21710205078125,
           312.21710205078125,
           312.21710205078125,
           312.21710205078125,
           312.21710205078125,
           312.21710205078125,
           312.21710205078125,
           312.21710205078125,
           312.21710205078125,
           312.2170715332031,
           312.21710205078125,
           312.2170715332031,
           312.21710205078125,
           312.21710205078125,
           312.2170715332031,
           312.21710205078125,
           312.2170715332031,
           312.2170715332031,
           312.2170715332031,
           312.217041015625,
           312.2170715332031,
           312.217041015625,
           312.217041015625,
           312.217041015625,
           312.217041015625,
           312.217041015625,
           312.217041015625,
           312.217041015625,
           312.2170715332031,
           312.2170715332031,
           312.217041015625,
           312.217041015625,
           312.217041015625,
           312.217041015625,
           312.217041015625,
           312.217041015625,
           312.217041015625,
           312.21697998046875,
           312.217041015625,
           312.217041015625,
           312.217041015625,
           312.217041015625,
           312.217041015625,
           312.2170104980469,
           312.217041015625,
           312.217041015625,
           312.217041015625,
           312.217041015625,
           312.21697998046875,
           312.217041015625,
           312.2170104980469,
           312.217041015625,
           312.2170104980469,
           312.2170104980469,
           312.217041015625,
           312.21697998046875,
           312.2170104980469,
           312.217041015625,
           312.217041015625,
           312.217041015625,
           312.217041015625,
           312.2170104980469,
           312.21697998046875,
           312.217041015625,
           312.21697998046875,
           312.2170104980469,
           312.217041015625,
           312.217041015625,
           312.217041015625,
           312.2170104980469,
           312.21697998046875,
           312.21697998046875,
           312.2170104980469,
           312.217041015625,
           312.21697998046875,
           312.21697998046875,
           312.21697998046875,
           312.217041015625,
           312.2170104980469,
           312.2170104980469,
           312.217041015625,
           312.21697998046875,
           312.2170104980469,
           312.2170104980469,
           312.217041015625,
           312.21697998046875,
           312.217041015625,
           312.217041015625,
           312.21697998046875,
           312.217041015625,
           312.2170104980469,
           312.21697998046875,
           312.2170104980469,
           312.21697998046875,
           312.2170104980469,
           312.21697998046875,
           312.21697998046875,
           312.21697998046875,
           312.2170104980469,
           312.21697998046875,
           312.21697998046875,
           312.21697998046875,
           312.21697998046875,
           312.21697998046875,
           312.21697998046875,
           312.2170104980469,
           312.21697998046875,
           312.21697998046875,
           312.21697998046875,
           312.21697998046875,
           312.21697998046875,
           312.217041015625,
           312.21697998046875,
           312.21697998046875,
           312.21697998046875,
           312.2170104980469,
           312.21697998046875,
           312.21697998046875,
           312.21697998046875,
           312.2170104980469,
           312.2170104980469,
           312.21697998046875,
           312.21697998046875,
           312.21697998046875,
           312.21697998046875,
           312.2170104980469,
           312.2170104980469,
           312.217041015625,
           312.21697998046875,
           312.2170104980469,
           312.21697998046875,
           312.21697998046875,
           312.21697998046875,
           312.21697998046875,
           312.21697998046875,
           312.21697998046875,
           312.21697998046875,
           312.2170104980469,
           312.21697998046875,
           312.21697998046875,
           312.21697998046875,
           312.21697998046875,
           312.21697998046875,
           312.21697998046875,
           312.21697998046875,
           312.2170104980469,
           312.21697998046875,
           312.21697998046875,
           312.21697998046875,
           312.21697998046875,
           312.2170104980469,
           312.2169494628906,
           312.21697998046875,
           312.21697998046875,
           312.21697998046875,
           312.2170104980469,
           312.21697998046875,
           312.21697998046875,
           312.21697998046875,
           312.2170104980469,
           312.21697998046875,
           312.21697998046875,
           312.21697998046875,
           312.2170104980469,
           312.2170104980469,
           312.21697998046875,
           312.21697998046875,
           312.2170104980469,
           312.21697998046875,
           312.21697998046875,
           312.21697998046875,
           312.21697998046875,
           312.217041015625,
           312.21697998046875,
           312.21697998046875,
           312.21697998046875,
           312.21697998046875,
           312.2170104980469,
           312.21697998046875,
           312.21697998046875,
           312.21697998046875,
           312.2170104980469,
           312.21697998046875,
           312.21697998046875,
           312.217041015625,
           312.217041015625,
           312.217041015625,
           312.21697998046875,
           312.2170104980469,
           312.21697998046875,
           312.21697998046875,
           312.21697998046875,
           312.21697998046875,
           312.21697998046875,
           312.21697998046875,
           312.21697998046875,
           312.21697998046875,
           312.2170104980469,
           312.2170104980469,
           312.21697998046875,
           312.21697998046875,
           312.21697998046875,
           312.21697998046875,
           312.2170104980469,
           312.21697998046875,
           312.21697998046875,
           312.21697998046875,
           312.21697998046875,
           312.21697998046875,
           312.2170104980469,
           312.21697998046875,
           312.21697998046875,
           312.21697998046875,
           312.21697998046875,
           312.21697998046875,
           312.21697998046875,
           312.21697998046875,
           312.21697998046875,
           312.21697998046875,
           312.21697998046875,
           312.2170104980469,
           312.2170104980469,
           312.2170104980469,
           312.2170104980469,
           312.2170104980469,
           312.21697998046875,
           312.21697998046875,
           312.21697998046875,
           312.2170104980469,
           312.2170104980469,
           312.21697998046875,
           312.21697998046875,
           312.21697998046875,
           312.2170104980469,
           312.21697998046875,
           312.21697998046875,
           312.21697998046875,
           312.21697998046875,
           312.21697998046875,
           312.2170104980469,
           312.21697998046875,
           312.217041015625,
           312.21697998046875,
           312.2170104980469,
           312.21697998046875,
           312.21697998046875,
           312.21697998046875,
           312.2170104980469,
           312.21697998046875,
           312.21697998046875,
           312.21697998046875,
           312.21697998046875,
           312.21697998046875,
           312.21697998046875,
           312.21697998046875,
           312.21697998046875,
           312.21697998046875,
           312.21697998046875,
           312.21697998046875,
           312.21697998046875,
           312.21697998046875,
           312.21697998046875,
           312.21697998046875,
           312.21697998046875,
           312.21697998046875,
           312.21697998046875,
           312.21697998046875,
           312.21697998046875,
           312.21697998046875,
           312.21697998046875,
           312.2170104980469,
           312.21697998046875,
           312.21697998046875,
           312.21697998046875,
           312.21697998046875,
           312.21697998046875,
           312.21697998046875,
           312.21697998046875,
           312.21697998046875,
           312.21697998046875,
           312.21697998046875,
           312.21697998046875,
           312.2170104980469,
           312.2170104980469,
           312.21697998046875,
           312.21697998046875,
           312.21697998046875,
           312.21697998046875,
           312.21697998046875,
           312.21697998046875,
           312.21697998046875,
           312.21697998046875,
           312.21697998046875,
           312.21697998046875,
           312.21697998046875,
           312.21697998046875,
           312.2170104980469,
           312.21697998046875,
           312.2170104980469,
           312.2170104980469,
           312.21697998046875,
           312.21697998046875,
           312.21697998046875,
           312.21697998046875,
           312.21697998046875,
           312.21697998046875,
           312.21697998046875,
           312.21697998046875,
           312.21697998046875,
           312.21697998046875,
           312.21697998046875,
           312.21697998046875,
           312.21697998046875,
           312.21697998046875,
           312.21697998046875,
           312.21697998046875,
           312.21697998046875,
           312.21697998046875,
           312.21697998046875,
           312.21697998046875,
           312.21697998046875,
           312.21697998046875,
           312.21697998046875,
           312.21697998046875,
           312.2170104980469,
           312.2170104980469,
           312.21697998046875,
           312.21697998046875,
           312.21697998046875,
           312.21697998046875,
           312.21697998046875,
           312.21697998046875,
           312.21697998046875,
           312.21697998046875,
           312.21697998046875,
           312.21697998046875,
           312.21697998046875,
           312.21697998046875,
           312.21697998046875,
           312.21697998046875,
           312.21697998046875,
           312.21697998046875,
           312.21697998046875,
           312.21697998046875,
           312.21697998046875,
           312.21697998046875,
           312.21697998046875,
           312.21697998046875,
           312.21697998046875,
           312.21697998046875,
           312.21697998046875,
           312.21697998046875,
           312.21697998046875,
           312.21697998046875,
           312.21697998046875,
           312.21697998046875,
           312.2170104980469,
           312.2170104980469,
           312.21697998046875,
           312.21697998046875,
           312.21697998046875,
           312.21697998046875,
           312.21697998046875,
           312.21697998046875,
           312.21697998046875,
           312.21697998046875,
           312.21697998046875,
           312.21697998046875,
           312.21697998046875,
           312.21697998046875,
           312.21697998046875,
           312.21697998046875,
           312.21697998046875,
           312.2170104980469,
           312.21697998046875,
           312.21697998046875,
           312.21697998046875,
           312.21697998046875,
           312.21697998046875,
           312.21697998046875,
           312.21697998046875,
           312.21697998046875,
           312.21697998046875,
           312.21697998046875,
           312.2170104980469,
           312.2170104980469,
           312.2170104980469,
           312.2170104980469,
           312.2170104980469,
           312.2170104980469,
           312.2170104980469,
           312.2170104980469,
           312.2170104980469,
           312.2170104980469,
           312.2170104980469,
           312.2170104980469,
           312.2170104980469,
           312.2170104980469,
           312.2170104980469,
           312.2170104980469,
           312.2170104980469,
           312.2170104980469,
           312.2170104980469,
           312.2170104980469,
           312.2170104980469,
           312.2170104980469,
           312.2170104980469,
           312.2170104980469,
           312.2170104980469,
           312.2170104980469,
           312.2170104980469,
           312.2170104980469,
           312.2170104980469,
           312.2170104980469,
           312.2170104980469,
           312.2170104980469,
           312.2170104980469,
           312.2170104980469,
           312.2170104980469,
           312.2170104980469,
           312.2170104980469,
           312.2170104980469,
           312.2170104980469,
           312.2170104980469,
           312.2170104980469,
           312.2170104980469,
           312.2170104980469,
           312.2170104980469,
           312.2170104980469,
           312.2170104980469,
           312.2170104980469,
           312.2170104980469,
           312.2170104980469,
           312.2170104980469,
           312.2170104980469,
           312.2170104980469,
           312.2170104980469,
           312.2170104980469,
           312.2170104980469,
           312.2170104980469,
           312.2170104980469,
           312.2170104980469,
           312.2170104980469,
           312.2170104980469,
           312.2170104980469,
           312.2170104980469,
           312.2170104980469,
           312.2170104980469,
           312.2170104980469,
           312.2170104980469,
           312.2170104980469,
           312.2170104980469,
           312.2170104980469,
           312.2170104980469,
           312.2170104980469,
           312.2170104980469,
           312.2170104980469,
           312.2170104980469,
           312.2170104980469,
           312.2170104980469,
           312.2170104980469,
           312.2170104980469,
           312.2170104980469,
           312.2170104980469,
           312.2170104980469,
           312.2170104980469,
           312.2170104980469,
           312.2170104980469,
           312.2170104980469,
           312.2170104980469,
           312.2170104980469,
           312.2170104980469,
           312.2170104980469,
           312.2170104980469,
           312.2170104980469,
           312.2170104980469,
           312.2170104980469,
           312.2170104980469,
           312.2170104980469,
           312.2170104980469,
           312.2170104980469,
           312.2170104980469,
           312.2170104980469
          ],
          "colorscale": [
           [
            0,
            "rgb(255,245,240)"
           ],
           [
            0.125,
            "rgb(254,224,210)"
           ],
           [
            0.25,
            "rgb(252,187,161)"
           ],
           [
            0.375,
            "rgb(252,146,114)"
           ],
           [
            0.5,
            "rgb(251,106,74)"
           ],
           [
            0.625,
            "rgb(239,59,44)"
           ],
           [
            0.75,
            "rgb(203,24,29)"
           ],
           [
            0.875,
            "rgb(165,15,21)"
           ],
           [
            1,
            "rgb(103,0,13)"
           ]
          ],
          "size": 4
         },
         "mode": "lines+markers",
         "name": "Training path",
         "type": "scatter3d",
         "x": [
          1.7451417446136475,
          2.4927992820739746,
          3.227957010269165,
          3.9508278369903564,
          4.661620140075684,
          5.360539436340332,
          6.047787666320801,
          6.723563194274902,
          7.388060569763184,
          8.041471481323242,
          8.68398380279541,
          9.31578254699707,
          9.93704891204834,
          10.547962188720703,
          11.148697853088379,
          11.73942756652832,
          12.320321083068848,
          12.891545295715332,
          13.453263282775879,
          14.005636215209961,
          14.548822402954102,
          15.082977294921875,
          15.608253479003906,
          16.124799728393555,
          16.63276481628418,
          17.132293701171875,
          17.6235294342041,
          18.106611251831055,
          18.581674575805664,
          19.048856735229492,
          19.508291244506836,
          19.960107803344727,
          20.404434204101562,
          20.841398239135742,
          21.271121978759766,
          21.693727493286133,
          22.109336853027344,
          22.518064498901367,
          22.920028686523438,
          23.31534194946289,
          23.704116821289062,
          24.086462020874023,
          24.462486267089844,
          24.83229637145996,
          25.195995330810547,
          25.553686141967773,
          25.90546989440918,
          26.251445770263672,
          26.59170913696289,
          26.92635726928711,
          27.25548553466797,
          27.579185485839844,
          27.897546768188477,
          28.21065902709961,
          28.518611907958984,
          28.821491241455078,
          29.119380950927734,
          29.412364959716797,
          29.700523376464844,
          29.98394012451172,
          30.262691497802734,
          30.53685760498047,
          30.8065128326416,
          31.071735382080078,
          31.332595825195312,
          31.589170455932617,
          31.841527938842773,
          32.08974075317383,
          32.33387756347656,
          32.574005126953125,
          32.81018829345703,
          33.04249572753906,
          33.270992279052734,
          33.4957389831543,
          33.716800689697266,
          33.93423843383789,
          34.148109436035156,
          34.35847473144531,
          34.56539535522461,
          34.768924713134766,
          34.969120025634766,
          35.166038513183594,
          35.35973358154297,
          35.55025863647461,
          35.737667083740234,
          35.9220085144043,
          36.10333251953125,
          36.28169250488281,
          36.45713806152344,
          36.62971496582031,
          36.79947280883789,
          36.96645736694336,
          37.130714416503906,
          37.29228973388672,
          37.45122528076172,
          37.607566833496094,
          37.761356353759766,
          37.912635803222656,
          38.06144714355469,
          38.20783233642578,
          38.351829528808594,
          38.49348068237305,
          38.6328239440918,
          38.7698974609375,
          38.90473556518555,
          39.037376403808594,
          39.1678581237793,
          39.29621505737305,
          39.4224853515625,
          39.54669952392578,
          39.66889190673828,
          39.78909683227539,
          39.907344818115234,
          40.0236701965332,
          40.13810729980469,
          40.25068283081055,
          40.361427307128906,
          40.470375061035156,
          40.577552795410156,
          40.682987213134766,
          40.786712646484375,
          40.88875198364258,
          40.9891357421875,
          41.087890625,
          41.18504333496094,
          41.28062057495117,
          41.3746452331543,
          41.46714782714844,
          41.55814743041992,
          41.647674560546875,
          41.735748291015625,
          41.82239532470703,
          41.90763854980469,
          41.99150085449219,
          42.074005126953125,
          42.155174255371094,
          42.23503112792969,
          42.313594818115234,
          42.39088439941406,
          42.46692657470703,
          42.5417366027832,
          42.61533737182617,
          42.687747955322266,
          42.75898742675781,
          42.82907485961914,
          42.89802932739258,
          42.96586990356445,
          43.032615661621094,
          43.09828186035156,
          43.16288757324219,
          43.2264518737793,
          43.28899002075195,
          43.35051727294922,
          43.41105270385742,
          43.470611572265625,
          43.52920913696289,
          43.58686065673828,
          43.64358139038086,
          43.69938659667969,
          43.754295349121094,
          43.808319091796875,
          43.86146926879883,
          43.91376495361328,
          43.96521759033203,
          44.01584243774414,
          44.065650939941406,
          44.11465835571289,
          44.16287612915039,
          44.2103157043457,
          44.25699234008789,
          44.30291748046875,
          44.34810256958008,
          44.39256286621094,
          44.43630599975586,
          44.479347229003906,
          44.52169418334961,
          44.56336212158203,
          44.6043586730957,
          44.64469909667969,
          44.684391021728516,
          44.723445892333984,
          44.761871337890625,
          44.799678802490234,
          44.83687973022461,
          44.87348175048828,
          44.90949630737305,
          44.9449348449707,
          44.97980499267578,
          45.01411437988281,
          45.047874450683594,
          45.081092834472656,
          45.11377716064453,
          45.145938873291016,
          45.177581787109375,
          45.208717346191406,
          45.239356994628906,
          45.26950454711914,
          45.29916763305664,
          45.32835388183594,
          45.35707473754883,
          45.38533401489258,
          45.413143157958984,
          45.44050598144531,
          45.467430114746094,
          45.49392318725586,
          45.51999282836914,
          45.5456428527832,
          45.570884704589844,
          45.59572219848633,
          45.62016296386719,
          45.64421081542969,
          45.66787338256836,
          45.691158294677734,
          45.71406936645508,
          45.73661422729492,
          45.7588005065918,
          45.78063201904297,
          45.80211639404297,
          45.82325744628906,
          45.844058990478516,
          45.86452865600586,
          45.88467025756836,
          45.90449142456055,
          45.92399597167969,
          45.94318771362305,
          45.962074279785156,
          45.98065948486328,
          45.99894714355469,
          46.01694107055664,
          46.03464889526367,
          46.05207443237305,
          46.06922149658203,
          46.08609390258789,
          46.102699279785156,
          46.119041442871094,
          46.1351203918457,
          46.150943756103516,
          46.1665153503418,
          46.18183898925781,
          46.19691848754883,
          46.21175765991211,
          46.22636032104492,
          46.24073028564453,
          46.2548713684082,
          46.2687873840332,
          46.2824821472168,
          46.295955657958984,
          46.3092155456543,
          46.322265625,
          46.335105895996094,
          46.34774398803711,
          46.36017990112305,
          46.37241744995117,
          46.38446044921875,
          46.39631271362305,
          46.40797424316406,
          46.41945266723633,
          46.430747985839844,
          46.441864013671875,
          46.45280075073242,
          46.463565826416016,
          46.474159240722656,
          46.48458480834961,
          46.494842529296875,
          46.504940032958984,
          46.51487731933594,
          46.524654388427734,
          46.53427505493164,
          46.54374313354492,
          46.553062438964844,
          46.562232971191406,
          46.571258544921875,
          46.58013916015625,
          46.5888786315918,
          46.59748077392578,
          46.6059455871582,
          46.61427688598633,
          46.622474670410156,
          46.63054275512695,
          46.638484954833984,
          46.64630126953125,
          46.65399169921875,
          46.66156005859375,
          46.669010162353516,
          46.67634201049805,
          46.683555603027344,
          46.69065475463867,
          46.6976432800293,
          46.70452117919922,
          46.71128845214844,
          46.71794891357422,
          46.72450256347656,
          46.730953216552734,
          46.737300872802734,
          46.74354934692383,
          46.749698638916016,
          46.7557487487793,
          46.76170349121094,
          46.76756286621094,
          46.77333068847656,
          46.77900695800781,
          46.78459548950195,
          46.79009246826172,
          46.79550552368164,
          46.80083084106445,
          46.80607223510742,
          46.81122970581055,
          46.816307067871094,
          46.82130432128906,
          46.82622146606445,
          46.83106231689453,
          46.8358268737793,
          46.84051513671875,
          46.84512710571289,
          46.849666595458984,
          46.85413360595703,
          46.8585319519043,
          46.86286163330078,
          46.867122650146484,
          46.871315002441406,
          46.87544250488281,
          46.87950134277344,
          46.88349914550781,
          46.88743209838867,
          46.89130401611328,
          46.89511489868164,
          46.89886474609375,
          46.90255355834961,
          46.906185150146484,
          46.909759521484375,
          46.91327667236328,
          46.91674041748047,
          46.92014694213867,
          46.923500061035156,
          46.92679977416992,
          46.930049896240234,
          46.93324661254883,
          46.93639373779297,
          46.939491271972656,
          46.94253921508789,
          46.94554138183594,
          46.94849395751953,
          46.95140075683594,
          46.954261779785156,
          46.95707702636719,
          46.95984649658203,
          46.96257400512695,
          46.96525955200195,
          46.96790313720703,
          46.97050476074219,
          46.97306442260742,
          46.975582122802734,
          46.97806167602539,
          46.98050308227539,
          46.982906341552734,
          46.98527145385742,
          46.98759841918945,
          46.98988723754883,
          46.99214172363281,
          46.99435806274414,
          46.99654006958008,
          46.998687744140625,
          47.00080108642578,
          47.00288391113281,
          47.00493240356445,
          47.00695037841797,
          47.008934020996094,
          47.010887145996094,
          47.01280975341797,
          47.01470184326172,
          47.016563415527344,
          47.018394470214844,
          47.020198822021484,
          47.02197265625,
          47.023719787597656,
          47.02544021606445,
          47.02713394165039,
          47.02880096435547,
          47.03044128417969,
          47.03205490112305,
          47.03364562988281,
          47.03520965576172,
          47.03675079345703,
          47.038265228271484,
          47.039756774902344,
          47.04122543334961,
          47.04267120361328,
          47.04409408569336,
          47.045494079589844,
          47.046871185302734,
          47.04822540283203,
          47.049560546875,
          47.050872802734375,
          47.05216598510742,
          47.05344009399414,
          47.054691314697266,
          47.05592346191406,
          47.05713653564453,
          47.05833053588867,
          47.059505462646484,
          47.06066131591797,
          47.06180191040039,
          47.062923431396484,
          47.06402587890625,
          47.06511306762695,
          47.06618118286133,
          47.06723403930664,
          47.068267822265625,
          47.06928634643555,
          47.070289611816406,
          47.0712776184082,
          47.07225036621094,
          47.07320785522461,
          47.07415008544922,
          47.075077056884766,
          47.07598876953125,
          47.07688522338867,
          47.0777702331543,
          47.07863998413086,
          47.07949447631836,
          47.08033752441406,
          47.0811653137207,
          47.08198165893555,
          47.082786560058594,
          47.08357620239258,
          47.084354400634766,
          47.085121154785156,
          47.08587646484375,
          47.08662033081055,
          47.08735275268555,
          47.08807373046875,
          47.088783264160156,
          47.089481353759766,
          47.09016799926758,
          47.090843200683594,
          47.09150695800781,
          47.092159271240234,
          47.092803955078125,
          47.09343719482422,
          47.094058990478516,
          47.09467315673828,
          47.09527587890625,
          47.09587097167969,
          47.09645462036133,
          47.09703063964844,
          47.097599029541016,
          47.0981559753418,
          47.09870529174805,
          47.099246978759766,
          47.09978103637695,
          47.100303649902344,
          47.1008186340332,
          47.10132598876953,
          47.10182571411133,
          47.102317810058594,
          47.10280227661133,
          47.10327911376953,
          47.1037483215332,
          47.104209899902344,
          47.10466384887695,
          47.10511016845703,
          47.10554885864258,
          47.10598373413086,
          47.10641098022461,
          47.10683059692383,
          47.107242584228516,
          47.10765075683594,
          47.10805130004883,
          47.10844421386719,
          47.10883331298828,
          47.109214782714844,
          47.10959243774414,
          47.109962463378906,
          47.110328674316406,
          47.110687255859375,
          47.11104202270508,
          47.11138916015625,
          47.111732482910156,
          47.11206817626953,
          47.11240005493164,
          47.11272430419922,
          47.11304473876953,
          47.11336135864258,
          47.11367416381836,
          47.11397933959961,
          47.114280700683594,
          47.11457824707031,
          47.114871978759766,
          47.11515808105469,
          47.115440368652344,
          47.115718841552734,
          47.11599349975586,
          47.11626434326172,
          47.11653137207031,
          47.11679458618164,
          47.11705017089844,
          47.11730194091797,
          47.117549896240234,
          47.117794036865234,
          47.11803436279297,
          47.11827087402344,
          47.11850357055664,
          47.11873245239258,
          47.11895751953125,
          47.11918258666992,
          47.11940383911133,
          47.11962127685547,
          47.119834899902344,
          47.12004470825195,
          47.1202507019043,
          47.120452880859375,
          47.12065124511719,
          47.120849609375,
          47.12104415893555,
          47.12123489379883,
          47.121421813964844,
          47.121604919433594,
          47.121788024902344,
          47.12196731567383,
          47.12214279174805,
          47.122314453125,
          47.12248611450195,
          47.12265396118164,
          47.12281799316406,
          47.122982025146484,
          47.12314224243164,
          47.12329864501953,
          47.12345504760742,
          47.12360763549805,
          47.123756408691406,
          47.123905181884766,
          47.12405014038086,
          47.12419509887695,
          47.12433624267578,
          47.124473571777344,
          47.124610900878906,
          47.1247444152832,
          47.1248779296875,
          47.12500762939453,
          47.12513732910156,
          47.12526321411133,
          47.125389099121094,
          47.125511169433594,
          47.125633239746094,
          47.12575149536133,
          47.12586975097656,
          47.12598419189453,
          47.1260986328125,
          47.1262092590332,
          47.126319885253906,
          47.126426696777344,
          47.12653350830078,
          47.12663650512695,
          47.126739501953125,
          47.1268424987793,
          47.1269416809082,
          47.12704086303711,
          47.12713623046875,
          47.12723159790039,
          47.12732696533203,
          47.127418518066406,
          47.12751007080078,
          47.12759780883789,
          47.127685546875,
          47.12777328491211,
          47.12785720825195,
          47.1279411315918,
          47.12802505493164,
          47.12810516357422,
          47.1281852722168,
          47.128265380859375,
          47.12834167480469,
          47.12841796875,
          47.12849426269531,
          47.12856674194336,
          47.128639221191406,
          47.12871170043945,
          47.1287841796875,
          47.12885284423828,
          47.12892150878906,
          47.128990173339844,
          47.12905502319336,
          47.129119873046875,
          47.12918472290039,
          47.129249572753906,
          47.129310607910156,
          47.129371643066406,
          47.129432678222656,
          47.129493713378906,
          47.12955093383789,
          47.129608154296875,
          47.12966537475586,
          47.129722595214844,
          47.12977600097656,
          47.12982940673828,
          47.1298828125,
          47.12993621826172,
          47.12998962402344,
          47.13003921508789,
          47.130088806152344,
          47.1301383972168,
          47.13018798828125,
          47.13023376464844,
          47.130279541015625,
          47.13032531738281,
          47.13037109375,
          47.13041687011719,
          47.130462646484375,
          47.1305046081543,
          47.13054656982422,
          47.13058853149414,
          47.13063049316406,
          47.130672454833984,
          47.130714416503906,
          47.13075256347656,
          47.13079071044922,
          47.130828857421875,
          47.13086700439453,
          47.13090515136719,
          47.130943298339844,
          47.130977630615234,
          47.131011962890625,
          47.131046295166016,
          47.131080627441406,
          47.1311149597168,
          47.13114929199219,
          47.13118362426758,
          47.1312141418457,
          47.13124465942383,
          47.13127517700195,
          47.13130569458008,
          47.1313362121582,
          47.13136672973633,
          47.13139724731445,
          47.13142776489258,
          47.13145446777344,
          47.1314811706543,
          47.131507873535156,
          47.131534576416016,
          47.131561279296875,
          47.131587982177734,
          47.131614685058594,
          47.13164138793945,
          47.13166809082031,
          47.131690979003906,
          47.1317138671875,
          47.131736755371094,
          47.13175964355469,
          47.13178253173828,
          47.131805419921875,
          47.13182830810547,
          47.13185119628906,
          47.131874084472656,
          47.13189697265625,
          47.13191604614258,
          47.131935119628906,
          47.131954193115234,
          47.13197326660156,
          47.13199234008789,
          47.13201141357422,
          47.13203048706055,
          47.132049560546875,
          47.1320686340332,
          47.13208770751953,
          47.13210678100586,
          47.13212585449219,
          47.132144927978516,
          47.13216018676758,
          47.13217544555664,
          47.1321907043457,
          47.132205963134766,
          47.13222122192383,
          47.13223648071289,
          47.13225173950195,
          47.132266998291016,
          47.13228225708008,
          47.13229751586914,
          47.1323127746582,
          47.132328033447266,
          47.13234329223633,
          47.13235855102539,
          47.13237380981445,
          47.132389068603516,
          47.13240051269531,
          47.13241195678711,
          47.132423400878906,
          47.1324348449707,
          47.1324462890625,
          47.1324577331543,
          47.132469177246094,
          47.13248062133789,
          47.13249206542969,
          47.132503509521484,
          47.13251495361328,
          47.13252639770508,
          47.132537841796875,
          47.13254928588867,
          47.13256072998047,
          47.132572174072266,
          47.13258361816406,
          47.13259506225586,
          47.132606506347656,
          47.13261795043945,
          47.13262939453125,
          47.13263702392578,
          47.13264465332031,
          47.132652282714844,
          47.132659912109375,
          47.132667541503906,
          47.13267517089844,
          47.13268280029297,
          47.1326904296875,
          47.13269805908203,
          47.13270568847656,
          47.132713317871094,
          47.132720947265625,
          47.132728576660156,
          47.13273620605469,
          47.13274383544922,
          47.13275146484375,
          47.13275909423828,
          47.13276672363281,
          47.132774353027344,
          47.132781982421875,
          47.132789611816406,
          47.13279724121094,
          47.13280487060547,
          47.1328125,
          47.13282012939453,
          47.13282775878906,
          47.132835388183594,
          47.132843017578125,
          47.132850646972656,
          47.13285827636719,
          47.13286590576172,
          47.13287353515625,
          47.132877349853516,
          47.13288116455078,
          47.13288497924805,
          47.13288879394531,
          47.13289260864258,
          47.132896423339844,
          47.13290023803711,
          47.132904052734375,
          47.13290786743164,
          47.132911682128906,
          47.13291549682617,
          47.13291931152344,
          47.1329231262207,
          47.13292694091797,
          47.132930755615234,
          47.1329345703125,
          47.132938385009766,
          47.13294219970703,
          47.1329460144043,
          47.13294982910156,
          47.13295364379883,
          47.132957458496094,
          47.13296127319336,
          47.132965087890625,
          47.13296890258789,
          47.132972717285156,
          47.13297653198242,
          47.13298034667969,
          47.13298416137695,
          47.13298797607422,
          47.132991790771484,
          47.13299560546875,
          47.132999420166016,
          47.13300323486328,
          47.13300704956055,
          47.13301086425781,
          47.13301467895508,
          47.133018493652344,
          47.13302230834961,
          47.133026123046875,
          47.13302993774414,
          47.133033752441406,
          47.13303756713867,
          47.13304138183594,
          47.1330451965332,
          47.13304901123047,
          47.133052825927734,
          47.133056640625,
          47.133060455322266,
          47.13306427001953,
          47.1330680847168,
          47.13307189941406,
          47.13307571411133,
          47.133079528808594,
          47.13308334350586,
          47.133087158203125,
          47.13309097290039,
          47.133094787597656,
          47.13309860229492,
          47.13310241699219,
          47.13310623168945,
          47.13311004638672,
          47.133113861083984,
          47.13311767578125,
          47.13311767578125,
          47.13311767578125,
          47.13311767578125,
          47.13311767578125,
          47.13311767578125,
          47.13311767578125,
          47.133121490478516,
          47.133121490478516,
          47.133121490478516,
          47.133121490478516,
          47.133121490478516,
          47.133121490478516,
          47.133121490478516,
          47.133121490478516,
          47.133121490478516,
          47.133121490478516,
          47.133121490478516,
          47.133121490478516,
          47.133121490478516,
          47.133121490478516,
          47.133121490478516,
          47.133121490478516,
          47.133121490478516,
          47.133121490478516,
          47.133121490478516,
          47.133121490478516,
          47.133121490478516,
          47.133121490478516,
          47.133121490478516,
          47.133121490478516,
          47.133121490478516,
          47.133121490478516,
          47.133121490478516,
          47.133121490478516,
          47.133121490478516,
          47.133121490478516,
          47.133121490478516,
          47.133121490478516,
          47.133121490478516,
          47.133121490478516,
          47.133121490478516,
          47.133121490478516,
          47.133121490478516,
          47.133121490478516,
          47.133121490478516,
          47.133121490478516,
          47.133121490478516,
          47.133121490478516,
          47.133121490478516,
          47.133121490478516,
          47.133121490478516,
          47.133121490478516,
          47.133121490478516,
          47.133121490478516,
          47.133121490478516,
          47.133121490478516,
          47.133121490478516,
          47.133121490478516,
          47.133121490478516,
          47.133121490478516,
          47.133121490478516,
          47.133121490478516,
          47.133121490478516,
          47.133121490478516,
          47.133121490478516,
          47.133121490478516,
          47.13312530517578,
          47.13312530517578,
          47.13312530517578,
          47.13312530517578,
          47.13312530517578,
          47.13312530517578,
          47.13312530517578,
          47.13312530517578,
          47.13312530517578,
          47.13312530517578,
          47.13312530517578,
          47.13312530517578,
          47.13312530517578,
          47.13312530517578,
          47.13312530517578,
          47.13312530517578,
          47.13312530517578,
          47.13312530517578,
          47.13312530517578,
          47.13312530517578,
          47.13312530517578,
          47.13312530517578,
          47.13312530517578,
          47.13312530517578,
          47.13312530517578,
          47.13312530517578,
          47.13312530517578,
          47.13312530517578,
          47.13312530517578,
          47.13312530517578,
          47.13312530517578,
          47.13312530517578,
          47.13312530517578,
          47.13312530517578,
          47.13312530517578,
          47.13312530517578,
          47.13312530517578,
          47.13312530517578,
          47.13312530517578,
          47.13312530517578,
          47.13312530517578,
          47.13312530517578,
          47.13312530517578,
          47.13312530517578,
          47.13312530517578,
          47.13312530517578,
          47.13312530517578,
          47.13312530517578,
          47.13312530517578,
          47.13312530517578,
          47.13312530517578,
          47.13312530517578,
          47.13312530517578,
          47.13312530517578,
          47.13312530517578,
          47.13312530517578,
          47.13312530517578,
          47.13312530517578,
          47.13312530517578,
          47.13312530517578,
          47.13312530517578,
          47.13312530517578,
          47.13312530517578,
          47.13312530517578,
          47.13312530517578,
          47.13312530517578,
          47.13312530517578,
          47.13312530517578,
          47.13312530517578,
          47.13312530517578,
          47.13312530517578,
          47.13312530517578,
          47.13312530517578,
          47.13312530517578,
          47.13312530517578,
          47.13312530517578,
          47.13312530517578,
          47.13312530517578,
          47.13312530517578,
          47.13312530517578,
          47.13312530517578,
          47.13312530517578,
          47.13312530517578,
          47.13312530517578,
          47.13312530517578,
          47.13312530517578,
          47.13312530517578,
          47.13312530517578,
          47.13312530517578,
          47.13312530517578,
          47.13312530517578,
          47.13312530517578,
          47.13312530517578,
          47.13312530517578,
          47.13312530517578,
          47.13312530517578,
          47.13312530517578,
          47.13312530517578,
          47.13312530517578,
          47.13312530517578,
          47.13312530517578,
          47.13312530517578,
          47.13312530517578,
          47.13312530517578,
          47.13312530517578,
          47.13312530517578,
          47.13312530517578,
          47.13312530517578,
          47.13312530517578,
          47.13312530517578,
          47.13312530517578,
          47.13312530517578,
          47.13312530517578,
          47.13312530517578,
          47.13312530517578,
          47.13312530517578,
          47.13312530517578,
          47.13312530517578,
          47.13312530517578,
          47.13312530517578,
          47.13312530517578,
          47.13312530517578,
          47.13312530517578,
          47.13312530517578,
          47.13312530517578,
          47.13312530517578,
          47.13312530517578,
          47.13312530517578,
          47.13312530517578,
          47.13312530517578,
          47.13312530517578,
          47.13312530517578,
          47.13312530517578,
          47.13312530517578
         ],
         "y": [
          0.7223231196403503,
          0.6602133512496948,
          0.6008986234664917,
          0.5442970395088196,
          0.4903288781642914,
          0.43891632556915283,
          0.3899836242198944,
          0.3434569239616394,
          0.2992643117904663,
          0.2573356628417969,
          0.2176026850938797,
          0.17999881505966187,
          0.14445923268795013,
          0.11092077195644379,
          0.07932190597057343,
          0.0496026948094368,
          0.021704774349927902,
          -0.004428725689649582,
          -0.028853144496679306,
          -0.051622435450553894,
          -0.07278910279273987,
          -0.09240427613258362,
          -0.11051774024963379,
          -0.12717798352241516,
          -0.14243216812610626,
          -0.1563262641429901,
          -0.16890500485897064,
          -0.1802119016647339,
          -0.19028933346271515,
          -0.199178546667099,
          -0.20691965520381927,
          -0.21355174481868744,
          -0.2191127985715866,
          -0.22363980114459991,
          -0.2271687239408493,
          -0.22973455488681793,
          -0.23137134313583374,
          -0.23211221396923065,
          -0.23198935389518738,
          -0.23103411495685577,
          -0.22927694022655487,
          -0.22674743831157684,
          -0.2234744429588318,
          -0.21948592364788055,
          -0.2148090898990631,
          -0.20947042107582092,
          -0.20349563658237457,
          -0.19690972566604614,
          -0.18973694741725922,
          -0.18200092017650604,
          -0.17372459173202515,
          -0.16493019461631775,
          -0.1556393951177597,
          -0.14587318897247314,
          -0.13565199077129364,
          -0.1249956339597702,
          -0.1139233261346817,
          -0.10245377570390701,
          -0.09060510993003845,
          -0.07839493453502655,
          -0.06584031879901886,
          -0.05295784771442413,
          -0.03976360708475113,
          -0.026273192837834358,
          -0.012501748278737068,
          0.0015360591933131218,
          0.015825994312763214,
          0.03035426139831543,
          0.04510749503970146,
          0.060072705149650574,
          0.07523733377456665,
          0.09058921784162521,
          0.10611654818058014,
          0.12180789560079575,
          0.1376522183418274,
          0.1536387801170349,
          0.16975721716880798,
          0.18599747121334076,
          0.20234984159469604,
          0.21880491077899933,
          0.23535360395908356,
          0.251987099647522,
          0.26869693398475647,
          0.28547483682632446,
          0.3023129105567932,
          0.3192034363746643,
          0.3361390233039856,
          0.35311248898506165,
          0.3701169490814209,
          0.3871456980705261,
          0.4041922986507416,
          0.4212505519390106,
          0.4383144676685333,
          0.4553782343864441,
          0.4724363088607788,
          0.4894833266735077,
          0.5065141320228577,
          0.5235236883163452,
          0.5405072569847107,
          0.5574602484703064,
          0.5743781924247742,
          0.591256856918335,
          0.608092188835144,
          0.6248801946640015,
          0.6416171193122864,
          0.6582993865013123,
          0.6749234795570374,
          0.6914860606193542,
          0.7079839706420898,
          0.7244141697883606,
          0.7407737970352173,
          0.7570599913597107,
          0.7732701301574707,
          0.789401650428772,
          0.8054521679878235,
          0.821419358253479,
          0.8373010158538818,
          0.8530949950218201,
          0.8687993884086609,
          0.8844122886657715,
          0.8999319076538086,
          0.9153565764427185,
          0.9306846857070923,
          0.9459147453308105,
          0.9610452651977539,
          0.9760749936103821,
          0.99100261926651,
          1.0058269500732422,
          1.0205469131469727,
          1.0351614952087402,
          1.0496697425842285,
          1.064070701599121,
          1.0783636569976807,
          1.0925477743148804,
          1.1066224575042725,
          1.1205869913101196,
          1.1344407796859741,
          1.1481833457946777,
          1.1618142127990723,
          1.175333023071289,
          1.1887394189834595,
          1.2020330429077148,
          1.215213656425476,
          1.228281021118164,
          1.2412350177764893,
          1.254075527191162,
          1.266802430152893,
          1.2794156074523926,
          1.2919151782989502,
          1.304301142692566,
          1.3165736198425293,
          1.3287326097488403,
          1.3407783508300781,
          1.3527109622955322,
          1.3645306825637817,
          1.3762376308441162,
          1.3878321647644043,
          1.399314522743225,
          1.4106850624084473,
          1.4219441413879395,
          1.4330919981002808,
          1.4441291093826294,
          1.455055832862854,
          1.4658727645874023,
          1.4765801429748535,
          1.4871785640716553,
          1.4976683855056763,
          1.5080502033233643,
          1.518324613571167,
          1.5284919738769531,
          1.53855299949646,
          1.5485081672668457,
          1.558358073234558,
          1.568103313446045,
          1.577744483947754,
          1.5872822999954224,
          1.5967172384262085,
          1.6060500144958496,
          1.615281343460083,
          1.6244118213653564,
          1.6334420442581177,
          1.6423728466033936,
          1.6512048244476318,
          1.6599386930465698,
          1.6685751676559448,
          1.6771149635314941,
          1.6855586767196655,
          1.6939071416854858,
          1.7021610736846924,
          1.7103211879730225,
          1.7183881998062134,
          1.7263628244400024,
          1.7342458963394165,
          1.7420381307601929,
          1.7497402429580688,
          1.7573529481887817,
          1.7648769617080688,
          1.772313117980957,
          1.7796622514724731,
          1.786924958229065,
          1.7941020727157593,
          1.8011943101882935,
          1.8082025051116943,
          1.8151273727416992,
          1.8219696283340454,
          1.8287301063537598,
          1.8354095220565796,
          1.8420085906982422,
          1.8485281467437744,
          1.8549689054489136,
          1.861331582069397,
          1.867616891860962,
          1.8738256692886353,
          1.8799586296081543,
          1.8860164880752563,
          1.8920000791549683,
          1.8979101181030273,
          1.9037472009658813,
          1.9095121622085571,
          1.9152058362960815,
          1.9208288192749023,
          1.9263818264007568,
          1.9318655729293823,
          1.9372808933258057,
          1.9426283836364746,
          1.9479087591171265,
          1.9531227350234985,
          1.9582710266113281,
          1.9633543491363525,
          1.968373417854309,
          1.9733288288116455,
          1.9782214164733887,
          1.9830516576766968,
          1.9878203868865967,
          1.9925282001495361,
          1.9971758127212524,
          2.0017638206481934,
          2.0062930583953857,
          2.0107638835906982,
          2.0151772499084473,
          2.019533634185791,
          2.023833751678467,
          2.028078079223633,
          2.0322675704956055,
          2.036402463912964,
          2.0404837131500244,
          2.0445117950439453,
          2.0484871864318848,
          2.05241060256958,
          2.0562827587127686,
          2.0601041316986084,
          2.063875198364258,
          2.067596673965454,
          2.0712692737579346,
          2.0748932361602783,
          2.0784695148468018,
          2.081998348236084,
          2.0854804515838623,
          2.088916540145874,
          2.0923068523406982,
          2.0956521034240723,
          2.0989527702331543,
          2.1022095680236816,
          2.1054227352142334,
          2.108592987060547,
          2.1117208003997803,
          2.114806652069092,
          2.1178510189056396,
          2.120854616165161,
          2.1238176822662354,
          2.1267409324645996,
          2.129624843597412,
          2.132469654083252,
          2.1352760791778564,
          2.138044595718384,
          2.140775680541992,
          2.1434695720672607,
          2.1461269855499268,
          2.1487481594085693,
          2.151333808898926,
          2.153884172439575,
          2.156399726867676,
          2.1588809490203857,
          2.1613283157348633,
          2.1637420654296875,
          2.1661229133605957,
          2.168471097946167,
          2.1707870960235596,
          2.1730711460113525,
          2.175323963165283,
          2.1775457859039307,
          2.179736852645874,
          2.1818978786468506,
          2.1840291023254395,
          2.1861307621002197,
          2.1882033348083496,
          2.1902472972869873,
          2.192262887954712,
          2.1942505836486816,
          2.1962106227874756,
          2.198143482208252,
          2.20004940032959,
          2.2019288539886475,
          2.203782320022583,
          2.2056097984313965,
          2.207411766052246,
          2.20918869972229,
          2.2109408378601074,
          2.2126684188842773,
          2.214371681213379,
          2.2160511016845703,
          2.2177071571350098,
          2.2193398475646973,
          2.220949649810791,
          2.22253680229187,
          2.2241017818450928,
          2.225644588470459,
          2.227165699005127,
          2.228665351867676,
          2.2301440238952637,
          2.2316017150878906,
          2.233038902282715,
          2.2344558238983154,
          2.2358527183532715,
          2.237229824066162,
          2.2385873794555664,
          2.2399256229400635,
          2.2412450313568115,
          2.2425456047058105,
          2.2438278198242188,
          2.245091676712036,
          2.246337652206421,
          2.247565746307373,
          2.248776435852051,
          2.249969959259033,
          2.2511463165283203,
          2.2523059844970703,
          2.2534492015838623,
          2.2545759677886963,
          2.2556867599487305,
          2.256781578063965,
          2.2578606605529785,
          2.2589242458343506,
          2.2599728107452393,
          2.2610063552856445,
          2.2620248794555664,
          2.263028860092163,
          2.2640185356140137,
          2.264993906021118,
          2.2659552097320557,
          2.2669026851654053,
          2.267836570739746,
          2.2687571048736572,
          2.2696642875671387,
          2.2705583572387695,
          2.271439552307129,
          2.272308111190796,
          2.2731640338897705,
          2.274007558822632,
          2.274838924407959,
          2.275658369064331,
          2.276465892791748,
          2.277261734008789,
          2.278046131134033,
          2.2788190841674805,
          2.27958083152771,
          2.280331611633301,
          2.281071424484253,
          2.2818005084991455,
          2.2825191020965576,
          2.2832272052764893,
          2.2839250564575195,
          2.2846126556396484,
          2.285290241241455,
          2.2859580516815186,
          2.286616086959839,
          2.287264585494995,
          2.2879035472869873,
          2.2885332107543945,
          2.289153575897217,
          2.289764881134033,
          2.290367364883423,
          2.2909610271453857,
          2.291546106338501,
          2.2921226024627686,
          2.2926905155181885,
          2.29325008392334,
          2.2938015460968018,
          2.294344902038574,
          2.2948803901672363,
          2.295408010482788,
          2.2959280014038086,
          2.296440362930298,
          2.296945095062256,
          2.2974424362182617,
          2.2979323863983154,
          2.298415184020996,
          2.2988908290863037,
          2.2993595600128174,
          2.299821376800537,
          2.300276517868042,
          2.300724744796753,
          2.301166534423828,
          2.3016018867492676,
          2.3020308017730713,
          2.3024532794952393,
          2.3028695583343506,
          2.3032796382904053,
          2.3036837577819824,
          2.304081916809082,
          2.304474115371704,
          2.3048605918884277,
          2.305241346359253,
          2.3056163787841797,
          2.305985927581787,
          2.306349992752075,
          2.306708574295044,
          2.3070619106292725,
          2.3074100017547607,
          2.307753086090088,
          2.308090925216675,
          2.3084237575531006,
          2.3087518215179443,
          2.309074878692627,
          2.3093931674957275,
          2.309706687927246,
          2.3100156784057617,
          2.3103201389312744,
          2.310620069503784,
          2.310915470123291,
          2.311206579208374,
          2.311493158340454,
          2.3117756843566895,
          2.312053918838501,
          2.3123281002044678,
          2.3125979900360107,
          2.312864065170288,
          2.3131260871887207,
          2.3133842945098877,
          2.31363844871521,
          2.3138890266418457,
          2.314135789871216,
          2.3143787384033203,
          2.3146181106567383,
          2.3148539066314697,
          2.3150861263275146,
          2.315315008163452,
          2.3155405521392822,
          2.315762519836426,
          2.315981149673462,
          2.3161966800689697,
          2.31640887260437,
          2.316617965698242,
          2.316823959350586,
          2.3170268535614014,
          2.3172266483306885,
          2.3174235820770264,
          2.317617416381836,
          2.3178083896636963,
          2.3179965019226074,
          2.3181817531585693,
          2.318364381790161,
          2.3185441493988037,
          2.318721294403076,
          2.3188958168029785,
          2.3190677165985107,
          2.319236993789673,
          2.319403648376465,
          2.319567918777466,
          2.3197295665740967,
          2.3198888301849365,
          2.3200457096099854,
          2.320200204849243,
          2.320352554321289,
          2.320502519607544,
          2.320650339126587,
          2.320795774459839,
          2.320939064025879,
          2.321080207824707,
          2.3212192058563232,
          2.3213560581207275,
          2.321491003036499,
          2.3216238021850586,
          2.3217546939849854,
          2.3218836784362793,
          2.3220105171203613,
          2.3221354484558105,
          2.322258472442627,
          2.3223798274993896,
          2.3224992752075195,
          2.3226168155670166,
          2.32273268699646,
          2.3228468894958496,
          2.3229594230651855,
          2.3230700492858887,
          2.323179006576538,
          2.323286294937134,
          2.323392152786255,
          2.3234963417053223,
          2.323598861694336,
          2.323699951171875,
          2.3237993717193604,
          2.323897361755371,
          2.3239939212799072,
          2.3240890502929688,
          2.3241827487945557,
          2.324275016784668,
          2.3243658542633057,
          2.3244552612304688,
          2.3245434761047363,
          2.3246302604675293,
          2.3247156143188477,
          2.3247997760772705,
          2.324882745742798,
          2.3249642848968506,
          2.325044631958008,
          2.3251237869262695,
          2.3252017498016357,
          2.3252785205841064,
          2.3253540992736816,
          2.3254284858703613,
          2.3255019187927246,
          2.3255741596221924,
          2.3256452083587646,
          2.3257153034210205,
          2.325784206390381,
          2.325852155685425,
          2.3259191513061523,
          2.3259849548339844,
          2.3260498046875,
          2.326113700866699,
          2.326176643371582,
          2.3262386322021484,
          2.3262996673583984,
          2.326359748840332,
          2.326418876647949,
          2.326477289199829,
          2.3265347480773926,
          2.3265912532806396,
          2.3266470432281494,
          2.3267018795013428,
          2.326756000518799,
          2.3268091678619385,
          2.326861619949341,
          2.3269131183624268,
          2.3269639015197754,
          2.3270139694213867,
          2.3270633220672607,
          2.3271117210388184,
          2.3271594047546387,
          2.3272063732147217,
          2.3272526264190674,
          2.327298164367676,
          2.327342987060547,
          2.3273873329162598,
          2.3274309635162354,
          2.3274738788604736,
          2.3275160789489746,
          2.3275578022003174,
          2.327598810195923,
          2.327639102935791,
          2.327678918838501,
          2.3277180194854736,
          2.327756643295288,
          2.3277945518493652,
          2.327831983566284,
          2.327868700027466,
          2.3279049396514893,
          2.3279407024383545,
          2.3279757499694824,
          2.328010320663452,
          2.3280444145202637,
          2.328078031539917,
          2.328111171722412,
          2.32814359664917,
          2.3281755447387695,
          2.328207015991211,
          2.328238010406494,
          2.328268527984619,
          2.328298568725586,
          2.3283281326293945,
          2.328357458114624,
          2.3283863067626953,
          2.3284146785736084,
          2.3284425735473633,
          2.32846999168396,
          2.3284969329833984,
          2.328523635864258,
          2.328549861907959,
          2.328575611114502,
          2.328601121902466,
          2.3286261558532715,
          2.328650712966919,
          2.3286750316619873,
          2.3286988735198975,
          2.3287224769592285,
          2.3287456035614014,
          2.328768491744995,
          2.3287909030914307,
          2.328813076019287,
          2.3288347721099854,
          2.3288562297821045,
          2.3288774490356445,
          2.3288981914520264,
          2.328918695449829,
          2.3289389610290527,
          2.328958749771118,
          2.3289783000946045,
          2.3289976119995117,
          2.32901668548584,
          2.3290352821350098,
          2.3290536403656006,
          2.3290717601776123,
          2.329089641571045,
          2.3291072845458984,
          2.329124689102173,
          2.329141616821289,
          2.329158306121826,
          2.329174757003784,
          2.329190969467163,
          2.329206943511963,
          2.3292226791381836,
          2.329238176345825,
          2.3292534351348877,
          2.329268455505371,
          2.3292832374572754,
          2.3292977809906006,
          2.3293120861053467,
          2.3293261528015137,
          2.3293402194976807,
          2.3293540477752686,
          2.3293676376342773,
          2.329380989074707,
          2.3293941020965576,
          2.329406976699829,
          2.3294196128845215,
          2.3294320106506348,
          2.329444408416748,
          2.3294565677642822,
          2.3294684886932373,
          2.3294801712036133,
          2.3294918537139893,
          2.329503297805786,
          2.329514503479004,
          2.3295254707336426,
          2.3295364379882812,
          2.329547166824341,
          2.3295576572418213,
          2.3295679092407227,
          2.329578161239624,
          2.3295881748199463,
          2.3295981884002686,
          2.3296079635620117,
          2.329617500305176,
          2.32962703704834,
          2.329636335372925,
          2.3296456336975098,
          2.3296546936035156,
          2.3296635150909424,
          2.329672336578369,
          2.329680919647217,
          2.3296895027160645,
          2.329697847366333,
          2.3297061920166016,
          2.329714298248291,
          2.3297221660614014,
          2.3297300338745117,
          2.329737663269043,
          2.329745292663574,
          2.3297526836395264,
          2.3297600746154785,
          2.3297672271728516,
          2.3297743797302246,
          2.3297815322875977,
          2.3297884464263916,
          2.3297953605651855,
          2.3298020362854004,
          2.3298087120056152,
          2.329815149307251,
          2.3298215866088867,
          2.3298280239105225,
          2.329834222793579,
          2.3298404216766357,
          2.3298463821411133,
          2.329852342605591,
          2.3298583030700684,
          2.329864025115967,
          2.3298697471618652,
          2.3298752307891846,
          2.329880714416504,
          2.3298861980438232,
          2.3298914432525635,
          2.3298966884613037,
          2.329901933670044,
          2.329906940460205,
          2.329911947250366,
          2.3299169540405273,
          2.3299217224121094,
          2.3299264907836914,
          2.3299312591552734,
          2.3299357891082764,
          2.3299403190612793,
          2.3299448490142822,
          2.329949140548706,
          2.32995343208313,
          2.3299577236175537,
          2.3299620151519775,
          2.3299660682678223,
          2.329970121383667,
          2.3299741744995117,
          2.3299782276153564,
          2.329982042312622,
          2.3299858570098877,
          2.3299896717071533,
          2.329993486404419,
          2.3299970626831055,
          2.330000638961792,
          2.3300042152404785,
          2.330007791519165,
          2.3300111293792725,
          2.33001446723938,
          2.3300178050994873,
          2.3300211429595947,
          2.330024242401123,
          2.3300273418426514,
          2.3300304412841797,
          2.330033540725708,
          2.3300366401672363,
          2.3300397396087646,
          2.330042600631714,
          2.330045461654663,
          2.3300483226776123,
          2.3300511837005615,
          2.3300540447235107,
          2.330056667327881,
          2.330059289932251,
          2.330061912536621,
          2.330064535140991,
          2.3300671577453613,
          2.3300697803497314,
          2.3300721645355225,
          2.3300745487213135,
          2.3300769329071045,
          2.3300793170928955,
          2.3300817012786865,
          2.3300840854644775,
          2.3300862312316895,
          2.3300883769989014,
          2.3300905227661133,
          2.330092668533325,
          2.330094814300537,
          2.330096960067749,
          2.330099105834961,
          2.3301010131835938,
          2.3301029205322266,
          2.3301048278808594,
          2.330106735229492,
          2.330108642578125,
          2.330110549926758,
          2.3301124572753906,
          2.3301143646240234,
          2.330116033554077,
          2.330117702484131,
          2.3301193714141846,
          2.3301210403442383,
          2.330122709274292,
          2.3301243782043457,
          2.3301260471343994,
          2.330127716064453,
          2.330129384994507,
          2.3301308155059814,
          2.330132246017456,
          2.3301336765289307,
          2.3301351070404053,
          2.33013653755188,
          2.3301379680633545,
          2.330139398574829,
          2.3301408290863037,
          2.3301422595977783,
          2.330143690109253,
          2.3301451206207275,
          2.330146312713623,
          2.3301475048065186,
          2.330148696899414,
          2.3301498889923096,
          2.330151081085205,
          2.3301522731781006,
          2.330153465270996,
          2.3301546573638916,
          2.330155849456787,
          2.3301570415496826,
          2.330158233642578,
          2.3301594257354736,
          2.330160617828369,
          2.3301618099212646,
          2.33016300201416,
          2.3301639556884766,
          2.330164909362793,
          2.3301658630371094,
          2.330166816711426,
          2.330167770385742,
          2.3301687240600586,
          2.330169677734375,
          2.3301706314086914,
          2.330171585083008,
          2.330172538757324,
          2.3301734924316406,
          2.330174446105957,
          2.3301753997802734,
          2.33017635345459,
          2.330177068710327,
          2.3301777839660645,
          2.3301784992218018,
          2.330179214477539,
          2.3301799297332764,
          2.3301806449890137,
          2.330181360244751,
          2.3301820755004883,
          2.3301827907562256,
          2.330183506011963,
          2.3301842212677,
          2.3301849365234375,
          2.330185651779175,
          2.330186367034912,
          2.3301870822906494,
          2.3301877975463867,
          2.330188512802124,
          2.3301892280578613,
          2.3301897048950195,
          2.3301901817321777,
          2.330190658569336,
          2.330191135406494,
          2.3301916122436523,
          2.3301920890808105,
          2.3301925659179688,
          2.330193042755127,
          2.330193519592285,
          2.3301939964294434,
          2.3301944732666016,
          2.3301949501037598,
          2.330195426940918,
          2.330195903778076,
          2.3301963806152344,
          2.3301968574523926,
          2.330197334289551,
          2.330197811126709,
          2.330198287963867,
          2.3301987648010254,
          2.3301992416381836,
          2.330199718475342,
          2.3302001953125,
          2.330200672149658,
          2.3302009105682373,
          2.3302011489868164,
          2.3302013874053955,
          2.3302016258239746,
          2.3302018642425537,
          2.330202102661133,
          2.330202341079712,
          2.330202579498291,
          2.33020281791687,
          2.330203056335449,
          2.3302032947540283,
          2.3302035331726074,
          2.3302037715911865,
          2.3302040100097656,
          2.3302042484283447,
          2.330204486846924,
          2.330204725265503,
          2.330204963684082,
          2.330205202102661,
          2.3302054405212402,
          2.3302056789398193,
          2.3302059173583984,
          2.3302061557769775,
          2.3302063941955566,
          2.3302066326141357,
          2.330206871032715,
          2.330207109451294,
          2.330207347869873,
          2.330207586288452,
          2.3302078247070312,
          2.3302080631256104,
          2.3302083015441895,
          2.3302085399627686,
          2.3302087783813477,
          2.3302090167999268,
          2.330209255218506,
          2.330209493637085,
          2.330209732055664,
          2.330209970474243,
          2.3302102088928223,
          2.3302104473114014,
          2.3302106857299805,
          2.3302109241485596,
          2.3302111625671387,
          2.3302114009857178,
          2.330211639404297,
          2.330211877822876,
          2.330212116241455,
          2.330212354660034,
          2.330212354660034,
          2.330212354660034,
          2.330212354660034,
          2.330212354660034,
          2.330212354660034,
          2.330212354660034,
          2.330212354660034,
          2.330212354660034,
          2.330212354660034,
          2.330212354660034,
          2.330212354660034,
          2.330212354660034,
          2.330212354660034,
          2.330212354660034,
          2.330212354660034,
          2.330212354660034,
          2.330212354660034,
          2.330212354660034,
          2.330212354660034,
          2.330212354660034,
          2.330212354660034,
          2.330212354660034,
          2.330212354660034,
          2.330212354660034,
          2.330212354660034,
          2.330212354660034,
          2.330212354660034,
          2.330212354660034,
          2.330212354660034,
          2.330212354660034,
          2.330212354660034,
          2.330212354660034,
          2.330212354660034,
          2.330212354660034,
          2.330212354660034,
          2.330212354660034,
          2.330212354660034,
          2.330212354660034,
          2.330212354660034,
          2.330212354660034,
          2.330212354660034,
          2.330212354660034,
          2.330212354660034,
          2.330212354660034,
          2.330212354660034,
          2.330212354660034,
          2.330212354660034,
          2.330212354660034,
          2.330212354660034,
          2.330212354660034,
          2.330212354660034,
          2.330212354660034,
          2.330212354660034,
          2.330212354660034,
          2.330212354660034,
          2.330212354660034,
          2.330212354660034,
          2.330212354660034,
          2.330212354660034,
          2.330212354660034,
          2.330212354660034,
          2.330212354660034,
          2.330212354660034,
          2.330212354660034,
          2.330212354660034,
          2.330212354660034,
          2.330212354660034,
          2.330212354660034,
          2.330212354660034,
          2.330212354660034,
          2.330212354660034,
          2.330212354660034,
          2.330212354660034,
          2.330212354660034,
          2.330212354660034,
          2.330212354660034,
          2.330212354660034,
          2.330212354660034,
          2.330212354660034,
          2.330212354660034,
          2.330212354660034,
          2.330212354660034,
          2.330212354660034,
          2.330212354660034,
          2.330212354660034,
          2.330212354660034,
          2.330212354660034,
          2.330212354660034,
          2.330212354660034,
          2.330212354660034,
          2.330212354660034,
          2.330212354660034,
          2.330212354660034,
          2.330212354660034,
          2.330212354660034,
          2.330212354660034,
          2.330212354660034,
          2.330212354660034,
          2.330212354660034
         ],
         "z": [
          2061.7080078125,
          2003.961669921875,
          1948.15283203125,
          1894.2147216796875,
          1842.084228515625,
          1791.69921875,
          1743.0003662109375,
          1695.9300537109375,
          1650.432861328125,
          1606.455322265625,
          1563.9454345703125,
          1522.8538818359375,
          1483.1322021484375,
          1444.7337646484375,
          1407.6138916015625,
          1371.729248046875,
          1337.0379638671875,
          1303.4998779296875,
          1271.075439453125,
          1239.7276611328125,
          1209.4195556640625,
          1180.1165771484375,
          1151.78466796875,
          1124.3909912109375,
          1097.9039306640625,
          1072.2930908203125,
          1047.5289306640625,
          1023.5829467773438,
          1000.427734375,
          978.0368041992188,
          956.3844604492188,
          935.4459228515625,
          915.1973266601562,
          895.6154174804688,
          876.677978515625,
          858.3636474609375,
          840.6514282226562,
          823.5211181640625,
          806.9534301757812,
          790.9295043945312,
          775.431396484375,
          760.44140625,
          745.9428100585938,
          731.9190673828125,
          718.3543701171875,
          705.2335815429688,
          692.5419311523438,
          680.2652587890625,
          668.3895874023438,
          656.9017944335938,
          645.7890014648438,
          635.038818359375,
          624.6390380859375,
          614.578369140625,
          604.8453979492188,
          595.429443359375,
          586.31982421875,
          577.506591796875,
          568.9799194335938,
          560.7305297851562,
          552.7489624023438,
          545.0266723632812,
          537.5549926757812,
          530.3258056640625,
          523.3308715820312,
          516.5628662109375,
          510.0140686035156,
          503.6772766113281,
          497.54571533203125,
          491.61248779296875,
          485.8711853027344,
          480.3155822753906,
          474.9394836425781,
          469.73699951171875,
          464.7025451660156,
          459.8305969238281,
          455.1158142089844,
          450.5531005859375,
          446.13751220703125,
          441.8641662597656,
          437.7285461425781,
          433.7260437011719,
          429.8523864746094,
          426.10333251953125,
          422.47491455078125,
          418.9630432128906,
          415.5640869140625,
          412.2743835449219,
          409.0903625488281,
          406.0084228515625,
          403.0254821777344,
          400.1382141113281,
          397.3434753417969,
          394.6383972167969,
          392.01995849609375,
          389.4854736328125,
          387.0321044921875,
          384.6572570800781,
          382.3584289550781,
          380.1332092285156,
          377.97906494140625,
          375.8938293457031,
          373.875244140625,
          371.92108154296875,
          370.0293884277344,
          368.197998046875,
          366.42523193359375,
          364.7089538574219,
          363.04742431640625,
          361.43878173828125,
          359.8814697265625,
          358.37384033203125,
          356.9142150878906,
          355.5010986328125,
          354.1329650878906,
          352.808349609375,
          351.5258483886719,
          350.2842712402344,
          349.0820617675781,
          347.9181213378906,
          346.7911682128906,
          345.70001220703125,
          344.6435546875,
          343.6206359863281,
          342.63018798828125,
          341.671142578125,
          340.74249267578125,
          339.84344482421875,
          338.9728088378906,
          338.1298522949219,
          337.3135681152344,
          336.52313232421875,
          335.7577819824219,
          335.0166320800781,
          334.29901123046875,
          333.6040954589844,
          332.9311828613281,
          332.279541015625,
          331.6484680175781,
          331.03741455078125,
          330.4456787109375,
          329.87261962890625,
          329.3177490234375,
          328.7803039550781,
          328.2599182128906,
          327.7559509277344,
          327.2679138183594,
          326.7952880859375,
          326.3375244140625,
          325.89422607421875,
          325.4649353027344,
          325.0491943359375,
          324.6465148925781,
          324.256591796875,
          323.8789367675781,
          323.51312255859375,
          323.158935546875,
          322.8158264160156,
          322.4836120605469,
          322.16180419921875,
          321.8501281738281,
          321.54827880859375,
          321.25592041015625,
          320.9727783203125,
          320.69854736328125,
          320.43292236328125,
          320.1756591796875,
          319.92645263671875,
          319.6851501464844,
          319.451416015625,
          319.2250061035156,
          319.0057067871094,
          318.7933044433594,
          318.58758544921875,
          318.3882751464844,
          318.1952819824219,
          318.00836181640625,
          317.8272705078125,
          317.6518859863281,
          317.4820251464844,
          317.3174743652344,
          317.15802001953125,
          317.0036315917969,
          316.8540954589844,
          316.709228515625,
          316.5688781738281,
          316.4329833984375,
          316.3013000488281,
          316.17376708984375,
          316.05023193359375,
          315.9305419921875,
          315.8146057128906,
          315.7023010253906,
          315.59356689453125,
          315.4881896972656,
          315.3861083984375,
          315.2872314453125,
          315.1914367675781,
          315.0986633300781,
          315.0087585449219,
          314.9217224121094,
          314.8373718261719,
          314.75567626953125,
          314.676513671875,
          314.59979248046875,
          314.5255432128906,
          314.4535827636719,
          314.3839111328125,
          314.3163146972656,
          314.2508850097656,
          314.18756103515625,
          314.12615966796875,
          314.0666809082031,
          314.0090637207031,
          313.9532470703125,
          313.8992004394531,
          313.8468017578125,
          313.7960510253906,
          313.74688720703125,
          313.6992492675781,
          313.653076171875,
          313.6083679199219,
          313.5650634765625,
          313.52313232421875,
          313.4824523925781,
          313.4430847167969,
          313.4049377441406,
          313.3679504394531,
          313.3321533203125,
          313.2974548339844,
          313.26385498046875,
          313.23126220703125,
          313.1997375488281,
          313.169189453125,
          313.1395568847656,
          313.1108703613281,
          313.08306884765625,
          313.0561218261719,
          313.0300598144531,
          313.0047912597656,
          312.98028564453125,
          312.95654296875,
          312.9335632324219,
          312.9112854003906,
          312.88970947265625,
          312.8688049316406,
          312.8485412597656,
          312.82891845703125,
          312.80987548828125,
          312.7914733886719,
          312.77362060546875,
          312.75634765625,
          312.7395935058594,
          312.72332763671875,
          312.7076416015625,
          312.6924133300781,
          312.6776123046875,
          312.663330078125,
          312.6494445800781,
          312.63604736328125,
          312.623046875,
          312.6104431152344,
          312.59820556640625,
          312.5863342285156,
          312.57489013671875,
          312.56378173828125,
          312.5530090332031,
          312.5426025390625,
          312.5325012207031,
          312.522705078125,
          312.5132141113281,
          312.5040283203125,
          312.4951171875,
          312.4864807128906,
          312.4781188964844,
          312.47003173828125,
          312.462158203125,
          312.4545593261719,
          312.44720458984375,
          312.4400329589844,
          312.4331359863281,
          312.4263916015625,
          312.419921875,
          312.4136047363281,
          312.4075012207031,
          312.401611328125,
          312.3959045410156,
          312.39031982421875,
          312.38494873046875,
          312.3797607421875,
          312.3747253417969,
          312.36981201171875,
          312.3651123046875,
          312.3604736328125,
          312.3560485839844,
          312.3517150878906,
          312.3475646972656,
          312.343505859375,
          312.339599609375,
          312.3358154296875,
          312.33209228515625,
          312.32855224609375,
          312.3250732421875,
          312.3217468261719,
          312.3184814453125,
          312.3153381347656,
          312.312255859375,
          312.309326171875,
          312.3064880371094,
          312.3036804199219,
          312.301025390625,
          312.2984313964844,
          312.2958679199219,
          312.2934265136719,
          312.29107666015625,
          312.2887878417969,
          312.28656005859375,
          312.284423828125,
          312.2823181152344,
          312.2803039550781,
          312.2783203125,
          312.27642822265625,
          312.27459716796875,
          312.2727966308594,
          312.2710876464844,
          312.2694091796875,
          312.2677917480469,
          312.26617431640625,
          312.2646789550781,
          312.2632141113281,
          312.2617492675781,
          312.2603759765625,
          312.259033203125,
          312.2577209472656,
          312.2564697265625,
          312.2552490234375,
          312.25408935546875,
          312.2529296875,
          312.2518005371094,
          312.2507019042969,
          312.24969482421875,
          312.2486572265625,
          312.2476806640625,
          312.24676513671875,
          312.2458190917969,
          312.24493408203125,
          312.2440490722656,
          312.2432556152344,
          312.242431640625,
          312.2416076660156,
          312.2408447265625,
          312.2401428222656,
          312.2394104003906,
          312.2387390136719,
          312.2380065917969,
          312.2373962402344,
          312.23675537109375,
          312.2361755371094,
          312.23553466796875,
          312.2350158691406,
          312.2344055175781,
          312.23388671875,
          312.2333679199219,
          312.23284912109375,
          312.23236083984375,
          312.2319030761719,
          312.2314453125,
          312.2309875488281,
          312.2305603027344,
          312.2301025390625,
          312.2297058105469,
          312.22930908203125,
          312.22894287109375,
          312.2286071777344,
          312.22821044921875,
          312.2279052734375,
          312.2275390625,
          312.2272033691406,
          312.2268981933594,
          312.2265625,
          312.22625732421875,
          312.22601318359375,
          312.2257080078125,
          312.2254638671875,
          312.2251892089844,
          312.2249755859375,
          312.22467041015625,
          312.2244567871094,
          312.2242126464844,
          312.2239990234375,
          312.2237854003906,
          312.22357177734375,
          312.223388671875,
          312.2231750488281,
          312.2229919433594,
          312.2227783203125,
          312.2226257324219,
          312.2224426269531,
          312.2222595214844,
          312.22210693359375,
          312.22198486328125,
          312.2218017578125,
          312.2216491699219,
          312.22149658203125,
          312.22137451171875,
          312.2212219238281,
          312.2210998535156,
          312.220947265625,
          312.2208557128906,
          312.2207336425781,
          312.22064208984375,
          312.2204895019531,
          312.22039794921875,
          312.22027587890625,
          312.22015380859375,
          312.2200927734375,
          312.2200012207031,
          312.21990966796875,
          312.2198486328125,
          312.2197570800781,
          312.2196350097656,
          312.21954345703125,
          312.219482421875,
          312.2193908691406,
          312.2193298339844,
          312.21923828125,
          312.21917724609375,
          312.2191162109375,
          312.21905517578125,
          312.218994140625,
          312.21893310546875,
          312.2188415527344,
          312.2188415527344,
          312.21875,
          312.21868896484375,
          312.2186584472656,
          312.2185974121094,
          312.21856689453125,
          312.2185363769531,
          312.21844482421875,
          312.2183837890625,
          312.2183837890625,
          312.2182922363281,
          312.21832275390625,
          312.21826171875,
          312.21820068359375,
          312.2181701660156,
          312.2181396484375,
          312.21807861328125,
          312.21807861328125,
          312.218017578125,
          312.2179870605469,
          312.21795654296875,
          312.21795654296875,
          312.2178955078125,
          312.2178649902344,
          312.2178649902344,
          312.2178649902344,
          312.2178039550781,
          312.2177429199219,
          312.2177429199219,
          312.21771240234375,
          312.2176818847656,
          312.2176818847656,
          312.2176818847656,
          312.2176513671875,
          312.2176208496094,
          312.21759033203125,
          312.21759033203125,
          312.217529296875,
          312.217529296875,
          312.217529296875,
          312.217529296875,
          312.21746826171875,
          312.21746826171875,
          312.2174987792969,
          312.2174377441406,
          312.21746826171875,
          312.2174072265625,
          312.2174072265625,
          312.2173767089844,
          312.2174072265625,
          312.21734619140625,
          312.2173767089844,
          312.2173767089844,
          312.21734619140625,
          312.2173156738281,
          312.2173156738281,
          312.21734619140625,
          312.2173156738281,
          312.21728515625,
          312.21728515625,
          312.2173156738281,
          312.2172546386719,
          312.2172546386719,
          312.21722412109375,
          312.21722412109375,
          312.21722412109375,
          312.21722412109375,
          312.2171936035156,
          312.2171936035156,
          312.2171936035156,
          312.2171936035156,
          312.2171936035156,
          312.2171936035156,
          312.2171630859375,
          312.2171630859375,
          312.2171630859375,
          312.2171630859375,
          312.2171630859375,
          312.2171630859375,
          312.2171630859375,
          312.2171630859375,
          312.2171325683594,
          312.2171630859375,
          312.2171325683594,
          312.21710205078125,
          312.21710205078125,
          312.21710205078125,
          312.21710205078125,
          312.21710205078125,
          312.21710205078125,
          312.21710205078125,
          312.21710205078125,
          312.21710205078125,
          312.21710205078125,
          312.2170715332031,
          312.21710205078125,
          312.2170715332031,
          312.21710205078125,
          312.21710205078125,
          312.2170715332031,
          312.21710205078125,
          312.2170715332031,
          312.2170715332031,
          312.2170715332031,
          312.217041015625,
          312.2170715332031,
          312.217041015625,
          312.217041015625,
          312.217041015625,
          312.217041015625,
          312.217041015625,
          312.217041015625,
          312.217041015625,
          312.2170715332031,
          312.2170715332031,
          312.217041015625,
          312.217041015625,
          312.217041015625,
          312.217041015625,
          312.217041015625,
          312.217041015625,
          312.217041015625,
          312.21697998046875,
          312.217041015625,
          312.217041015625,
          312.217041015625,
          312.217041015625,
          312.217041015625,
          312.2170104980469,
          312.217041015625,
          312.217041015625,
          312.217041015625,
          312.217041015625,
          312.21697998046875,
          312.217041015625,
          312.2170104980469,
          312.217041015625,
          312.2170104980469,
          312.2170104980469,
          312.217041015625,
          312.21697998046875,
          312.2170104980469,
          312.217041015625,
          312.217041015625,
          312.217041015625,
          312.217041015625,
          312.2170104980469,
          312.21697998046875,
          312.217041015625,
          312.21697998046875,
          312.2170104980469,
          312.217041015625,
          312.217041015625,
          312.217041015625,
          312.2170104980469,
          312.21697998046875,
          312.21697998046875,
          312.2170104980469,
          312.217041015625,
          312.21697998046875,
          312.21697998046875,
          312.21697998046875,
          312.217041015625,
          312.2170104980469,
          312.2170104980469,
          312.217041015625,
          312.21697998046875,
          312.2170104980469,
          312.2170104980469,
          312.217041015625,
          312.21697998046875,
          312.217041015625,
          312.217041015625,
          312.21697998046875,
          312.217041015625,
          312.2170104980469,
          312.21697998046875,
          312.2170104980469,
          312.21697998046875,
          312.2170104980469,
          312.21697998046875,
          312.21697998046875,
          312.21697998046875,
          312.2170104980469,
          312.21697998046875,
          312.21697998046875,
          312.21697998046875,
          312.21697998046875,
          312.21697998046875,
          312.21697998046875,
          312.2170104980469,
          312.21697998046875,
          312.21697998046875,
          312.21697998046875,
          312.21697998046875,
          312.21697998046875,
          312.217041015625,
          312.21697998046875,
          312.21697998046875,
          312.21697998046875,
          312.2170104980469,
          312.21697998046875,
          312.21697998046875,
          312.21697998046875,
          312.2170104980469,
          312.2170104980469,
          312.21697998046875,
          312.21697998046875,
          312.21697998046875,
          312.21697998046875,
          312.2170104980469,
          312.2170104980469,
          312.217041015625,
          312.21697998046875,
          312.2170104980469,
          312.21697998046875,
          312.21697998046875,
          312.21697998046875,
          312.21697998046875,
          312.21697998046875,
          312.21697998046875,
          312.21697998046875,
          312.2170104980469,
          312.21697998046875,
          312.21697998046875,
          312.21697998046875,
          312.21697998046875,
          312.21697998046875,
          312.21697998046875,
          312.21697998046875,
          312.2170104980469,
          312.21697998046875,
          312.21697998046875,
          312.21697998046875,
          312.21697998046875,
          312.2170104980469,
          312.2169494628906,
          312.21697998046875,
          312.21697998046875,
          312.21697998046875,
          312.2170104980469,
          312.21697998046875,
          312.21697998046875,
          312.21697998046875,
          312.2170104980469,
          312.21697998046875,
          312.21697998046875,
          312.21697998046875,
          312.2170104980469,
          312.2170104980469,
          312.21697998046875,
          312.21697998046875,
          312.2170104980469,
          312.21697998046875,
          312.21697998046875,
          312.21697998046875,
          312.21697998046875,
          312.217041015625,
          312.21697998046875,
          312.21697998046875,
          312.21697998046875,
          312.21697998046875,
          312.2170104980469,
          312.21697998046875,
          312.21697998046875,
          312.21697998046875,
          312.2170104980469,
          312.21697998046875,
          312.21697998046875,
          312.217041015625,
          312.217041015625,
          312.217041015625,
          312.21697998046875,
          312.2170104980469,
          312.21697998046875,
          312.21697998046875,
          312.21697998046875,
          312.21697998046875,
          312.21697998046875,
          312.21697998046875,
          312.21697998046875,
          312.21697998046875,
          312.2170104980469,
          312.2170104980469,
          312.21697998046875,
          312.21697998046875,
          312.21697998046875,
          312.21697998046875,
          312.2170104980469,
          312.21697998046875,
          312.21697998046875,
          312.21697998046875,
          312.21697998046875,
          312.21697998046875,
          312.2170104980469,
          312.21697998046875,
          312.21697998046875,
          312.21697998046875,
          312.21697998046875,
          312.21697998046875,
          312.21697998046875,
          312.21697998046875,
          312.21697998046875,
          312.21697998046875,
          312.21697998046875,
          312.2170104980469,
          312.2170104980469,
          312.2170104980469,
          312.2170104980469,
          312.2170104980469,
          312.21697998046875,
          312.21697998046875,
          312.21697998046875,
          312.2170104980469,
          312.2170104980469,
          312.21697998046875,
          312.21697998046875,
          312.21697998046875,
          312.2170104980469,
          312.21697998046875,
          312.21697998046875,
          312.21697998046875,
          312.21697998046875,
          312.21697998046875,
          312.2170104980469,
          312.21697998046875,
          312.217041015625,
          312.21697998046875,
          312.2170104980469,
          312.21697998046875,
          312.21697998046875,
          312.21697998046875,
          312.2170104980469,
          312.21697998046875,
          312.21697998046875,
          312.21697998046875,
          312.21697998046875,
          312.21697998046875,
          312.21697998046875,
          312.21697998046875,
          312.21697998046875,
          312.21697998046875,
          312.21697998046875,
          312.21697998046875,
          312.21697998046875,
          312.21697998046875,
          312.21697998046875,
          312.21697998046875,
          312.21697998046875,
          312.21697998046875,
          312.21697998046875,
          312.21697998046875,
          312.21697998046875,
          312.21697998046875,
          312.21697998046875,
          312.2170104980469,
          312.21697998046875,
          312.21697998046875,
          312.21697998046875,
          312.21697998046875,
          312.21697998046875,
          312.21697998046875,
          312.21697998046875,
          312.21697998046875,
          312.21697998046875,
          312.21697998046875,
          312.21697998046875,
          312.2170104980469,
          312.2170104980469,
          312.21697998046875,
          312.21697998046875,
          312.21697998046875,
          312.21697998046875,
          312.21697998046875,
          312.21697998046875,
          312.21697998046875,
          312.21697998046875,
          312.21697998046875,
          312.21697998046875,
          312.21697998046875,
          312.21697998046875,
          312.2170104980469,
          312.21697998046875,
          312.2170104980469,
          312.2170104980469,
          312.21697998046875,
          312.21697998046875,
          312.21697998046875,
          312.21697998046875,
          312.21697998046875,
          312.21697998046875,
          312.21697998046875,
          312.21697998046875,
          312.21697998046875,
          312.21697998046875,
          312.21697998046875,
          312.21697998046875,
          312.21697998046875,
          312.21697998046875,
          312.21697998046875,
          312.21697998046875,
          312.21697998046875,
          312.21697998046875,
          312.21697998046875,
          312.21697998046875,
          312.21697998046875,
          312.21697998046875,
          312.21697998046875,
          312.21697998046875,
          312.2170104980469,
          312.2170104980469,
          312.21697998046875,
          312.21697998046875,
          312.21697998046875,
          312.21697998046875,
          312.21697998046875,
          312.21697998046875,
          312.21697998046875,
          312.21697998046875,
          312.21697998046875,
          312.21697998046875,
          312.21697998046875,
          312.21697998046875,
          312.21697998046875,
          312.21697998046875,
          312.21697998046875,
          312.21697998046875,
          312.21697998046875,
          312.21697998046875,
          312.21697998046875,
          312.21697998046875,
          312.21697998046875,
          312.21697998046875,
          312.21697998046875,
          312.21697998046875,
          312.21697998046875,
          312.21697998046875,
          312.21697998046875,
          312.21697998046875,
          312.21697998046875,
          312.21697998046875,
          312.2170104980469,
          312.2170104980469,
          312.21697998046875,
          312.21697998046875,
          312.21697998046875,
          312.21697998046875,
          312.21697998046875,
          312.21697998046875,
          312.21697998046875,
          312.21697998046875,
          312.21697998046875,
          312.21697998046875,
          312.21697998046875,
          312.21697998046875,
          312.21697998046875,
          312.21697998046875,
          312.21697998046875,
          312.2170104980469,
          312.21697998046875,
          312.21697998046875,
          312.21697998046875,
          312.21697998046875,
          312.21697998046875,
          312.21697998046875,
          312.21697998046875,
          312.21697998046875,
          312.21697998046875,
          312.21697998046875,
          312.2170104980469,
          312.2170104980469,
          312.2170104980469,
          312.2170104980469,
          312.2170104980469,
          312.2170104980469,
          312.2170104980469,
          312.2170104980469,
          312.2170104980469,
          312.2170104980469,
          312.2170104980469,
          312.2170104980469,
          312.2170104980469,
          312.2170104980469,
          312.2170104980469,
          312.2170104980469,
          312.2170104980469,
          312.2170104980469,
          312.2170104980469,
          312.2170104980469,
          312.2170104980469,
          312.2170104980469,
          312.2170104980469,
          312.2170104980469,
          312.2170104980469,
          312.2170104980469,
          312.2170104980469,
          312.2170104980469,
          312.2170104980469,
          312.2170104980469,
          312.2170104980469,
          312.2170104980469,
          312.2170104980469,
          312.2170104980469,
          312.2170104980469,
          312.2170104980469,
          312.2170104980469,
          312.2170104980469,
          312.2170104980469,
          312.2170104980469,
          312.2170104980469,
          312.2170104980469,
          312.2170104980469,
          312.2170104980469,
          312.2170104980469,
          312.2170104980469,
          312.2170104980469,
          312.2170104980469,
          312.2170104980469,
          312.2170104980469,
          312.2170104980469,
          312.2170104980469,
          312.2170104980469,
          312.2170104980469,
          312.2170104980469,
          312.2170104980469,
          312.2170104980469,
          312.2170104980469,
          312.2170104980469,
          312.2170104980469,
          312.2170104980469,
          312.2170104980469,
          312.2170104980469,
          312.2170104980469,
          312.2170104980469,
          312.2170104980469,
          312.2170104980469,
          312.2170104980469,
          312.2170104980469,
          312.2170104980469,
          312.2170104980469,
          312.2170104980469,
          312.2170104980469,
          312.2170104980469,
          312.2170104980469,
          312.2170104980469,
          312.2170104980469,
          312.2170104980469,
          312.2170104980469,
          312.2170104980469,
          312.2170104980469,
          312.2170104980469,
          312.2170104980469,
          312.2170104980469,
          312.2170104980469,
          312.2170104980469,
          312.2170104980469,
          312.2170104980469,
          312.2170104980469,
          312.2170104980469,
          312.2170104980469,
          312.2170104980469,
          312.2170104980469,
          312.2170104980469,
          312.2170104980469,
          312.2170104980469,
          312.2170104980469,
          312.2170104980469,
          312.2170104980469
         ]
        }
       ],
       "layout": {
        "margin": {
         "b": 0,
         "l": 0,
         "r": 0,
         "t": 30
        },
        "scene": {
         "camera": {
          "eye": {
           "x": 1.5,
           "y": 1.5,
           "z": 0.8
          }
         },
         "xaxis": {
          "title": {
           "text": "Weights"
          }
         },
         "yaxis": {
          "title": {
           "text": "Biases"
          }
         },
         "zaxis": {
          "title": {
           "text": "Loss"
          }
         }
        },
        "template": {
         "data": {
          "bar": [
           {
            "error_x": {
             "color": "#2a3f5f"
            },
            "error_y": {
             "color": "#2a3f5f"
            },
            "marker": {
             "line": {
              "color": "#E5ECF6",
              "width": 0.5
             },
             "pattern": {
              "fillmode": "overlay",
              "size": 10,
              "solidity": 0.2
             }
            },
            "type": "bar"
           }
          ],
          "barpolar": [
           {
            "marker": {
             "line": {
              "color": "#E5ECF6",
              "width": 0.5
             },
             "pattern": {
              "fillmode": "overlay",
              "size": 10,
              "solidity": 0.2
             }
            },
            "type": "barpolar"
           }
          ],
          "carpet": [
           {
            "aaxis": {
             "endlinecolor": "#2a3f5f",
             "gridcolor": "white",
             "linecolor": "white",
             "minorgridcolor": "white",
             "startlinecolor": "#2a3f5f"
            },
            "baxis": {
             "endlinecolor": "#2a3f5f",
             "gridcolor": "white",
             "linecolor": "white",
             "minorgridcolor": "white",
             "startlinecolor": "#2a3f5f"
            },
            "type": "carpet"
           }
          ],
          "choropleth": [
           {
            "colorbar": {
             "outlinewidth": 0,
             "ticks": ""
            },
            "type": "choropleth"
           }
          ],
          "contour": [
           {
            "colorbar": {
             "outlinewidth": 0,
             "ticks": ""
            },
            "colorscale": [
             [
              0,
              "#0d0887"
             ],
             [
              0.1111111111111111,
              "#46039f"
             ],
             [
              0.2222222222222222,
              "#7201a8"
             ],
             [
              0.3333333333333333,
              "#9c179e"
             ],
             [
              0.4444444444444444,
              "#bd3786"
             ],
             [
              0.5555555555555556,
              "#d8576b"
             ],
             [
              0.6666666666666666,
              "#ed7953"
             ],
             [
              0.7777777777777778,
              "#fb9f3a"
             ],
             [
              0.8888888888888888,
              "#fdca26"
             ],
             [
              1,
              "#f0f921"
             ]
            ],
            "type": "contour"
           }
          ],
          "contourcarpet": [
           {
            "colorbar": {
             "outlinewidth": 0,
             "ticks": ""
            },
            "type": "contourcarpet"
           }
          ],
          "heatmap": [
           {
            "colorbar": {
             "outlinewidth": 0,
             "ticks": ""
            },
            "colorscale": [
             [
              0,
              "#0d0887"
             ],
             [
              0.1111111111111111,
              "#46039f"
             ],
             [
              0.2222222222222222,
              "#7201a8"
             ],
             [
              0.3333333333333333,
              "#9c179e"
             ],
             [
              0.4444444444444444,
              "#bd3786"
             ],
             [
              0.5555555555555556,
              "#d8576b"
             ],
             [
              0.6666666666666666,
              "#ed7953"
             ],
             [
              0.7777777777777778,
              "#fb9f3a"
             ],
             [
              0.8888888888888888,
              "#fdca26"
             ],
             [
              1,
              "#f0f921"
             ]
            ],
            "type": "heatmap"
           }
          ],
          "histogram": [
           {
            "marker": {
             "pattern": {
              "fillmode": "overlay",
              "size": 10,
              "solidity": 0.2
             }
            },
            "type": "histogram"
           }
          ],
          "histogram2d": [
           {
            "colorbar": {
             "outlinewidth": 0,
             "ticks": ""
            },
            "colorscale": [
             [
              0,
              "#0d0887"
             ],
             [
              0.1111111111111111,
              "#46039f"
             ],
             [
              0.2222222222222222,
              "#7201a8"
             ],
             [
              0.3333333333333333,
              "#9c179e"
             ],
             [
              0.4444444444444444,
              "#bd3786"
             ],
             [
              0.5555555555555556,
              "#d8576b"
             ],
             [
              0.6666666666666666,
              "#ed7953"
             ],
             [
              0.7777777777777778,
              "#fb9f3a"
             ],
             [
              0.8888888888888888,
              "#fdca26"
             ],
             [
              1,
              "#f0f921"
             ]
            ],
            "type": "histogram2d"
           }
          ],
          "histogram2dcontour": [
           {
            "colorbar": {
             "outlinewidth": 0,
             "ticks": ""
            },
            "colorscale": [
             [
              0,
              "#0d0887"
             ],
             [
              0.1111111111111111,
              "#46039f"
             ],
             [
              0.2222222222222222,
              "#7201a8"
             ],
             [
              0.3333333333333333,
              "#9c179e"
             ],
             [
              0.4444444444444444,
              "#bd3786"
             ],
             [
              0.5555555555555556,
              "#d8576b"
             ],
             [
              0.6666666666666666,
              "#ed7953"
             ],
             [
              0.7777777777777778,
              "#fb9f3a"
             ],
             [
              0.8888888888888888,
              "#fdca26"
             ],
             [
              1,
              "#f0f921"
             ]
            ],
            "type": "histogram2dcontour"
           }
          ],
          "mesh3d": [
           {
            "colorbar": {
             "outlinewidth": 0,
             "ticks": ""
            },
            "type": "mesh3d"
           }
          ],
          "parcoords": [
           {
            "line": {
             "colorbar": {
              "outlinewidth": 0,
              "ticks": ""
             }
            },
            "type": "parcoords"
           }
          ],
          "pie": [
           {
            "automargin": true,
            "type": "pie"
           }
          ],
          "scatter": [
           {
            "fillpattern": {
             "fillmode": "overlay",
             "size": 10,
             "solidity": 0.2
            },
            "type": "scatter"
           }
          ],
          "scatter3d": [
           {
            "line": {
             "colorbar": {
              "outlinewidth": 0,
              "ticks": ""
             }
            },
            "marker": {
             "colorbar": {
              "outlinewidth": 0,
              "ticks": ""
             }
            },
            "type": "scatter3d"
           }
          ],
          "scattercarpet": [
           {
            "marker": {
             "colorbar": {
              "outlinewidth": 0,
              "ticks": ""
             }
            },
            "type": "scattercarpet"
           }
          ],
          "scattergeo": [
           {
            "marker": {
             "colorbar": {
              "outlinewidth": 0,
              "ticks": ""
             }
            },
            "type": "scattergeo"
           }
          ],
          "scattergl": [
           {
            "marker": {
             "colorbar": {
              "outlinewidth": 0,
              "ticks": ""
             }
            },
            "type": "scattergl"
           }
          ],
          "scattermap": [
           {
            "marker": {
             "colorbar": {
              "outlinewidth": 0,
              "ticks": ""
             }
            },
            "type": "scattermap"
           }
          ],
          "scattermapbox": [
           {
            "marker": {
             "colorbar": {
              "outlinewidth": 0,
              "ticks": ""
             }
            },
            "type": "scattermapbox"
           }
          ],
          "scatterpolar": [
           {
            "marker": {
             "colorbar": {
              "outlinewidth": 0,
              "ticks": ""
             }
            },
            "type": "scatterpolar"
           }
          ],
          "scatterpolargl": [
           {
            "marker": {
             "colorbar": {
              "outlinewidth": 0,
              "ticks": ""
             }
            },
            "type": "scatterpolargl"
           }
          ],
          "scatterternary": [
           {
            "marker": {
             "colorbar": {
              "outlinewidth": 0,
              "ticks": ""
             }
            },
            "type": "scatterternary"
           }
          ],
          "surface": [
           {
            "colorbar": {
             "outlinewidth": 0,
             "ticks": ""
            },
            "colorscale": [
             [
              0,
              "#0d0887"
             ],
             [
              0.1111111111111111,
              "#46039f"
             ],
             [
              0.2222222222222222,
              "#7201a8"
             ],
             [
              0.3333333333333333,
              "#9c179e"
             ],
             [
              0.4444444444444444,
              "#bd3786"
             ],
             [
              0.5555555555555556,
              "#d8576b"
             ],
             [
              0.6666666666666666,
              "#ed7953"
             ],
             [
              0.7777777777777778,
              "#fb9f3a"
             ],
             [
              0.8888888888888888,
              "#fdca26"
             ],
             [
              1,
              "#f0f921"
             ]
            ],
            "type": "surface"
           }
          ],
          "table": [
           {
            "cells": {
             "fill": {
              "color": "#EBF0F8"
             },
             "line": {
              "color": "white"
             }
            },
            "header": {
             "fill": {
              "color": "#C8D4E3"
             },
             "line": {
              "color": "white"
             }
            },
            "type": "table"
           }
          ]
         },
         "layout": {
          "annotationdefaults": {
           "arrowcolor": "#2a3f5f",
           "arrowhead": 0,
           "arrowwidth": 1
          },
          "autotypenumbers": "strict",
          "coloraxis": {
           "colorbar": {
            "outlinewidth": 0,
            "ticks": ""
           }
          },
          "colorscale": {
           "diverging": [
            [
             0,
             "#8e0152"
            ],
            [
             0.1,
             "#c51b7d"
            ],
            [
             0.2,
             "#de77ae"
            ],
            [
             0.3,
             "#f1b6da"
            ],
            [
             0.4,
             "#fde0ef"
            ],
            [
             0.5,
             "#f7f7f7"
            ],
            [
             0.6,
             "#e6f5d0"
            ],
            [
             0.7,
             "#b8e186"
            ],
            [
             0.8,
             "#7fbc41"
            ],
            [
             0.9,
             "#4d9221"
            ],
            [
             1,
             "#276419"
            ]
           ],
           "sequential": [
            [
             0,
             "#0d0887"
            ],
            [
             0.1111111111111111,
             "#46039f"
            ],
            [
             0.2222222222222222,
             "#7201a8"
            ],
            [
             0.3333333333333333,
             "#9c179e"
            ],
            [
             0.4444444444444444,
             "#bd3786"
            ],
            [
             0.5555555555555556,
             "#d8576b"
            ],
            [
             0.6666666666666666,
             "#ed7953"
            ],
            [
             0.7777777777777778,
             "#fb9f3a"
            ],
            [
             0.8888888888888888,
             "#fdca26"
            ],
            [
             1,
             "#f0f921"
            ]
           ],
           "sequentialminus": [
            [
             0,
             "#0d0887"
            ],
            [
             0.1111111111111111,
             "#46039f"
            ],
            [
             0.2222222222222222,
             "#7201a8"
            ],
            [
             0.3333333333333333,
             "#9c179e"
            ],
            [
             0.4444444444444444,
             "#bd3786"
            ],
            [
             0.5555555555555556,
             "#d8576b"
            ],
            [
             0.6666666666666666,
             "#ed7953"
            ],
            [
             0.7777777777777778,
             "#fb9f3a"
            ],
            [
             0.8888888888888888,
             "#fdca26"
            ],
            [
             1,
             "#f0f921"
            ]
           ]
          },
          "colorway": [
           "#636efa",
           "#EF553B",
           "#00cc96",
           "#ab63fa",
           "#FFA15A",
           "#19d3f3",
           "#FF6692",
           "#B6E880",
           "#FF97FF",
           "#FECB52"
          ],
          "font": {
           "color": "#2a3f5f"
          },
          "geo": {
           "bgcolor": "white",
           "lakecolor": "white",
           "landcolor": "#E5ECF6",
           "showlakes": true,
           "showland": true,
           "subunitcolor": "white"
          },
          "hoverlabel": {
           "align": "left"
          },
          "hovermode": "closest",
          "mapbox": {
           "style": "light"
          },
          "paper_bgcolor": "white",
          "plot_bgcolor": "#E5ECF6",
          "polar": {
           "angularaxis": {
            "gridcolor": "white",
            "linecolor": "white",
            "ticks": ""
           },
           "bgcolor": "#E5ECF6",
           "radialaxis": {
            "gridcolor": "white",
            "linecolor": "white",
            "ticks": ""
           }
          },
          "scene": {
           "xaxis": {
            "backgroundcolor": "#E5ECF6",
            "gridcolor": "white",
            "gridwidth": 2,
            "linecolor": "white",
            "showbackground": true,
            "ticks": "",
            "zerolinecolor": "white"
           },
           "yaxis": {
            "backgroundcolor": "#E5ECF6",
            "gridcolor": "white",
            "gridwidth": 2,
            "linecolor": "white",
            "showbackground": true,
            "ticks": "",
            "zerolinecolor": "white"
           },
           "zaxis": {
            "backgroundcolor": "#E5ECF6",
            "gridcolor": "white",
            "gridwidth": 2,
            "linecolor": "white",
            "showbackground": true,
            "ticks": "",
            "zerolinecolor": "white"
           }
          },
          "shapedefaults": {
           "line": {
            "color": "#2a3f5f"
           }
          },
          "ternary": {
           "aaxis": {
            "gridcolor": "white",
            "linecolor": "white",
            "ticks": ""
           },
           "baxis": {
            "gridcolor": "white",
            "linecolor": "white",
            "ticks": ""
           },
           "bgcolor": "#E5ECF6",
           "caxis": {
            "gridcolor": "white",
            "linecolor": "white",
            "ticks": ""
           }
          },
          "title": {
           "x": 0.05
          },
          "xaxis": {
           "automargin": true,
           "gridcolor": "white",
           "linecolor": "white",
           "ticks": "",
           "title": {
            "standoff": 15
           },
           "zerolinecolor": "white",
           "zerolinewidth": 2
          },
          "yaxis": {
           "automargin": true,
           "gridcolor": "white",
           "linecolor": "white",
           "ticks": "",
           "title": {
            "standoff": 15
           },
           "zerolinecolor": "white",
           "zerolinewidth": 2
          }
         }
        },
        "title": {
         "text": "Loss Surface"
        }
       }
      }
     },
     "metadata": {},
     "output_type": "display_data"
    }
   ],
   "source": [
    "figure = plot_linear_samples(dataset.features, dataset.targets)\n",
    "figure = plot_line(model.transformation.weight.item(), model.transformation.bias.item(), figure)\n",
    "figure.show()\n",
    "\n",
    "\n",
    "figure = plot_loss_surface(dataset.features, dataset.targets) \n",
    "figure = plot_training_history(history, figure) \n",
    "figure.show()"
   ]
  },
  {
   "cell_type": "code",
   "execution_count": 10,
   "id": "ead47b24",
   "metadata": {},
   "outputs": [
    {
     "data": {
      "application/vnd.plotly.v1+json": {
       "config": {
        "plotlyServerURL": "https://plot.ly"
       },
       "data": [
        {
         "marker": {
          "color": "blue",
          "opacity": 0.7,
          "size": 8
         },
         "mode": "markers",
         "name": "Samples",
         "type": "scatter",
         "x": {
          "bdata": "YGhuP7xFsj0SY4e/B+WgPlNW9b7rziU/FUXtvjflCj/Rlhw/xHOAPzRoUj9i3sQ/JQw9P6vxYL5w+U6/E+27PXjW+r9/ZQM/y/eDP+epJ8BRUf4+mNDGPSF07r7LV2o/PkbIP2Gauz91wxm/U74SvXIJGr9MHZm/dde2Pn5bwD4JqYU+XZ4Hv0R0aL/+lUk+fheZvlsouT5OklI/4liVvtgIuT7DSi2/pPLCP1utBL/nxW++ZsLIvkMqmr6RJiW/EVKoPlfgVT5Vw6e+yY6nO5nBb76iK70/gSnFvr3urz5cm6k+Yx0+vpw3cL6oaP6/Vu6lPucxZ75inI2/wLkzv3VUu78e+Xc/HMrcv17m9L8T8g+/mnZEP7EBUD9exrS/NUC9v5tEnL/21la/pSPKP1O9eT/1xHc+FJ2XPqtcC79Nq+G/YivjPSt7Lz4AAqq/yE+HPwLZ7L3yXvC+dyNdvHOkgb8olQ2+wlOTv0aZrT86TIo9JnMAv9jY6750F+0/Jl62v7ZHOL8LepO9FlGevg==",
          "dtype": "f4"
         },
         "y": {
          "bdata": "sr96QqIcvsF/fs3BdPf9QKCbd8E3YBBCQy0jwisrLcFSUatBlGO2Qb3lFEJfIrNCWzQmQu5KcEGIgHfCtjqrQRo4ssJpbpVBY79jQWFo/cJIK01BluTIP80qHcK9mJdBxz2oQszyh0IsGUJAXNHfQDTqKsJCiZTC41LNQQ9zLUJ6LiM/dS+qwZ2VRcIR7IHBBFXfwRNtkj2b7ohC/rt6QXXg80Et+wrCxAFxQhkQnsGNM6/AtWuRQCiYfMFyJUbCaxAFQtZqDkEfmO4/aKZmQbPgSMI2wehChtYKQoHhDELhcNFBuSwTQbYn/sCqgq/CrjgjQuglGcFfuyrCNGoZwvXch8Ld9FxCA16qwnsHscJQIrvBc3NwQlWcW0Icw4bC+vWKwkXzBcK7qxDBUDo8Qp0fgkL8WEJBMiPFwF/rGMLEP3zCJ76gQWJAMsE21SnC1P1cQn2t8kA5vZ/BoekmweziAsJa3TjBHCmAwuQ5pkIuUZFBbBOtwVbm0sFDtZ1Cze6kwoMHP8Kl8jpBkf/xwQ==",
          "dtype": "f4"
         }
        },
        {
         "line": {
          "color": "red",
          "width": 3
         },
         "mode": "lines",
         "name": "y = 47.13x + 2.33",
         "type": "scatter",
         "x": {
          "bdata": "AACAwArUesAVqHXAH3xwwClQa8A0JGbAPvhgwEjMW8BToFbAXXRRwGdITMByHEfAfPBBwIbEPMCRmDfAm2wywKZALcCwFCjAuugiwMW8HcDPkBjA2WQTwOQ4DsDuDAnA+OADwAVq/b8aEvO/L7rov0Ni3r9YCtS/bbLJv4Fav7+WArW/q6qqv79SoL/U+pW/6aKLv/1Kgb8k5m2/TjZZv3eGRL+g1i+/yiYbv/N2Br85juO+jC66vt7OkL5i3k6+ED74vbZ+Jb22fiU9ED74PWLeTj7ezpA+jC66PjmO4z7zdgY/yiYbP6DWLz93hkQ/TjZZPyTmbT/9SoE/6aKLP9T6lT+/UqA/q6qqP5YCtT+BWr8/bbLJP1gK1D9DYt4/L7roPxoS8z8Fav0/+OADQO4MCUDkOA5A2WQTQM+QGEDFvB1AuugiQLAUKECmQC1Am2wyQJGYN0CGxDxAfPBBQHIcR0BnSExAXXRRQFOgVkBIzFtAPvhgQDQkZkApUGtAH3xwQBWodUAK1HpAAACAQA==",
          "dtype": "f4"
         },
         "y": {
          "bdata": "5jM6w9xkNsPSlTLDyMYuw773KsO0KCfDqlkjw6CKH8OWuxvDjOwXw4EdFMN4ThDDbn8Mw2OwCMNa4QTDUBIBw4yG+sJ46PLCY0rrwlCs48I7DtzCJ3DUwhTSzML/M8XC65W9wtf3tcLDWa7Cr7umwpsdn8KHf5fCc+GPwl9DiMJLpYDCbg5ywkXSYsIdllPC9VlEwswdNcKl4SXCfaUWwlVpB8JYWvDBCuLRwblps8Fp8ZTBMvJswZABMMHhIebAQIFYwAQK2j7igYdAkbEAQTKiPUHSknpBucGbQQk6ukFZsthBqir3QXzRCkKlDRpCzUkpQvWFOEIcwkdCRf5WQm06ZkKVdnVCX1mCQnP3iUKHlZFCmzOZQq/RoELDb6hC1w2wQuurt0L/Sb9CE+jGQieGzkI8JNZCT8LdQmNg5UJ4/uxCi5z0QqA6/EJa7AFDZLsFQ26KCUN3WQ1DgigRQ4z3FEOVxhhDoJUcQ6pkIEO0MyRDvgIoQ8jRK0PSoC9D3G8zQ+Y+N0PwDTtD+tw+Qw==",
          "dtype": "f4"
         }
        },
        {
         "marker": {
          "color": "green",
          "size": 10
         },
         "mode": "markers",
         "name": "Intercept (0, 2.33)",
         "type": "scatter",
         "x": [
          0
         ],
         "y": [
          2.330231189727783
         ]
        }
       ],
       "layout": {
        "showlegend": true,
        "template": {
         "data": {
          "bar": [
           {
            "error_x": {
             "color": "#2a3f5f"
            },
            "error_y": {
             "color": "#2a3f5f"
            },
            "marker": {
             "line": {
              "color": "#E5ECF6",
              "width": 0.5
             },
             "pattern": {
              "fillmode": "overlay",
              "size": 10,
              "solidity": 0.2
             }
            },
            "type": "bar"
           }
          ],
          "barpolar": [
           {
            "marker": {
             "line": {
              "color": "#E5ECF6",
              "width": 0.5
             },
             "pattern": {
              "fillmode": "overlay",
              "size": 10,
              "solidity": 0.2
             }
            },
            "type": "barpolar"
           }
          ],
          "carpet": [
           {
            "aaxis": {
             "endlinecolor": "#2a3f5f",
             "gridcolor": "white",
             "linecolor": "white",
             "minorgridcolor": "white",
             "startlinecolor": "#2a3f5f"
            },
            "baxis": {
             "endlinecolor": "#2a3f5f",
             "gridcolor": "white",
             "linecolor": "white",
             "minorgridcolor": "white",
             "startlinecolor": "#2a3f5f"
            },
            "type": "carpet"
           }
          ],
          "choropleth": [
           {
            "colorbar": {
             "outlinewidth": 0,
             "ticks": ""
            },
            "type": "choropleth"
           }
          ],
          "contour": [
           {
            "colorbar": {
             "outlinewidth": 0,
             "ticks": ""
            },
            "colorscale": [
             [
              0,
              "#0d0887"
             ],
             [
              0.1111111111111111,
              "#46039f"
             ],
             [
              0.2222222222222222,
              "#7201a8"
             ],
             [
              0.3333333333333333,
              "#9c179e"
             ],
             [
              0.4444444444444444,
              "#bd3786"
             ],
             [
              0.5555555555555556,
              "#d8576b"
             ],
             [
              0.6666666666666666,
              "#ed7953"
             ],
             [
              0.7777777777777778,
              "#fb9f3a"
             ],
             [
              0.8888888888888888,
              "#fdca26"
             ],
             [
              1,
              "#f0f921"
             ]
            ],
            "type": "contour"
           }
          ],
          "contourcarpet": [
           {
            "colorbar": {
             "outlinewidth": 0,
             "ticks": ""
            },
            "type": "contourcarpet"
           }
          ],
          "heatmap": [
           {
            "colorbar": {
             "outlinewidth": 0,
             "ticks": ""
            },
            "colorscale": [
             [
              0,
              "#0d0887"
             ],
             [
              0.1111111111111111,
              "#46039f"
             ],
             [
              0.2222222222222222,
              "#7201a8"
             ],
             [
              0.3333333333333333,
              "#9c179e"
             ],
             [
              0.4444444444444444,
              "#bd3786"
             ],
             [
              0.5555555555555556,
              "#d8576b"
             ],
             [
              0.6666666666666666,
              "#ed7953"
             ],
             [
              0.7777777777777778,
              "#fb9f3a"
             ],
             [
              0.8888888888888888,
              "#fdca26"
             ],
             [
              1,
              "#f0f921"
             ]
            ],
            "type": "heatmap"
           }
          ],
          "histogram": [
           {
            "marker": {
             "pattern": {
              "fillmode": "overlay",
              "size": 10,
              "solidity": 0.2
             }
            },
            "type": "histogram"
           }
          ],
          "histogram2d": [
           {
            "colorbar": {
             "outlinewidth": 0,
             "ticks": ""
            },
            "colorscale": [
             [
              0,
              "#0d0887"
             ],
             [
              0.1111111111111111,
              "#46039f"
             ],
             [
              0.2222222222222222,
              "#7201a8"
             ],
             [
              0.3333333333333333,
              "#9c179e"
             ],
             [
              0.4444444444444444,
              "#bd3786"
             ],
             [
              0.5555555555555556,
              "#d8576b"
             ],
             [
              0.6666666666666666,
              "#ed7953"
             ],
             [
              0.7777777777777778,
              "#fb9f3a"
             ],
             [
              0.8888888888888888,
              "#fdca26"
             ],
             [
              1,
              "#f0f921"
             ]
            ],
            "type": "histogram2d"
           }
          ],
          "histogram2dcontour": [
           {
            "colorbar": {
             "outlinewidth": 0,
             "ticks": ""
            },
            "colorscale": [
             [
              0,
              "#0d0887"
             ],
             [
              0.1111111111111111,
              "#46039f"
             ],
             [
              0.2222222222222222,
              "#7201a8"
             ],
             [
              0.3333333333333333,
              "#9c179e"
             ],
             [
              0.4444444444444444,
              "#bd3786"
             ],
             [
              0.5555555555555556,
              "#d8576b"
             ],
             [
              0.6666666666666666,
              "#ed7953"
             ],
             [
              0.7777777777777778,
              "#fb9f3a"
             ],
             [
              0.8888888888888888,
              "#fdca26"
             ],
             [
              1,
              "#f0f921"
             ]
            ],
            "type": "histogram2dcontour"
           }
          ],
          "mesh3d": [
           {
            "colorbar": {
             "outlinewidth": 0,
             "ticks": ""
            },
            "type": "mesh3d"
           }
          ],
          "parcoords": [
           {
            "line": {
             "colorbar": {
              "outlinewidth": 0,
              "ticks": ""
             }
            },
            "type": "parcoords"
           }
          ],
          "pie": [
           {
            "automargin": true,
            "type": "pie"
           }
          ],
          "scatter": [
           {
            "fillpattern": {
             "fillmode": "overlay",
             "size": 10,
             "solidity": 0.2
            },
            "type": "scatter"
           }
          ],
          "scatter3d": [
           {
            "line": {
             "colorbar": {
              "outlinewidth": 0,
              "ticks": ""
             }
            },
            "marker": {
             "colorbar": {
              "outlinewidth": 0,
              "ticks": ""
             }
            },
            "type": "scatter3d"
           }
          ],
          "scattercarpet": [
           {
            "marker": {
             "colorbar": {
              "outlinewidth": 0,
              "ticks": ""
             }
            },
            "type": "scattercarpet"
           }
          ],
          "scattergeo": [
           {
            "marker": {
             "colorbar": {
              "outlinewidth": 0,
              "ticks": ""
             }
            },
            "type": "scattergeo"
           }
          ],
          "scattergl": [
           {
            "marker": {
             "colorbar": {
              "outlinewidth": 0,
              "ticks": ""
             }
            },
            "type": "scattergl"
           }
          ],
          "scattermap": [
           {
            "marker": {
             "colorbar": {
              "outlinewidth": 0,
              "ticks": ""
             }
            },
            "type": "scattermap"
           }
          ],
          "scattermapbox": [
           {
            "marker": {
             "colorbar": {
              "outlinewidth": 0,
              "ticks": ""
             }
            },
            "type": "scattermapbox"
           }
          ],
          "scatterpolar": [
           {
            "marker": {
             "colorbar": {
              "outlinewidth": 0,
              "ticks": ""
             }
            },
            "type": "scatterpolar"
           }
          ],
          "scatterpolargl": [
           {
            "marker": {
             "colorbar": {
              "outlinewidth": 0,
              "ticks": ""
             }
            },
            "type": "scatterpolargl"
           }
          ],
          "scatterternary": [
           {
            "marker": {
             "colorbar": {
              "outlinewidth": 0,
              "ticks": ""
             }
            },
            "type": "scatterternary"
           }
          ],
          "surface": [
           {
            "colorbar": {
             "outlinewidth": 0,
             "ticks": ""
            },
            "colorscale": [
             [
              0,
              "#0d0887"
             ],
             [
              0.1111111111111111,
              "#46039f"
             ],
             [
              0.2222222222222222,
              "#7201a8"
             ],
             [
              0.3333333333333333,
              "#9c179e"
             ],
             [
              0.4444444444444444,
              "#bd3786"
             ],
             [
              0.5555555555555556,
              "#d8576b"
             ],
             [
              0.6666666666666666,
              "#ed7953"
             ],
             [
              0.7777777777777778,
              "#fb9f3a"
             ],
             [
              0.8888888888888888,
              "#fdca26"
             ],
             [
              1,
              "#f0f921"
             ]
            ],
            "type": "surface"
           }
          ],
          "table": [
           {
            "cells": {
             "fill": {
              "color": "#EBF0F8"
             },
             "line": {
              "color": "white"
             }
            },
            "header": {
             "fill": {
              "color": "#C8D4E3"
             },
             "line": {
              "color": "white"
             }
            },
            "type": "table"
           }
          ]
         },
         "layout": {
          "annotationdefaults": {
           "arrowcolor": "#2a3f5f",
           "arrowhead": 0,
           "arrowwidth": 1
          },
          "autotypenumbers": "strict",
          "coloraxis": {
           "colorbar": {
            "outlinewidth": 0,
            "ticks": ""
           }
          },
          "colorscale": {
           "diverging": [
            [
             0,
             "#8e0152"
            ],
            [
             0.1,
             "#c51b7d"
            ],
            [
             0.2,
             "#de77ae"
            ],
            [
             0.3,
             "#f1b6da"
            ],
            [
             0.4,
             "#fde0ef"
            ],
            [
             0.5,
             "#f7f7f7"
            ],
            [
             0.6,
             "#e6f5d0"
            ],
            [
             0.7,
             "#b8e186"
            ],
            [
             0.8,
             "#7fbc41"
            ],
            [
             0.9,
             "#4d9221"
            ],
            [
             1,
             "#276419"
            ]
           ],
           "sequential": [
            [
             0,
             "#0d0887"
            ],
            [
             0.1111111111111111,
             "#46039f"
            ],
            [
             0.2222222222222222,
             "#7201a8"
            ],
            [
             0.3333333333333333,
             "#9c179e"
            ],
            [
             0.4444444444444444,
             "#bd3786"
            ],
            [
             0.5555555555555556,
             "#d8576b"
            ],
            [
             0.6666666666666666,
             "#ed7953"
            ],
            [
             0.7777777777777778,
             "#fb9f3a"
            ],
            [
             0.8888888888888888,
             "#fdca26"
            ],
            [
             1,
             "#f0f921"
            ]
           ],
           "sequentialminus": [
            [
             0,
             "#0d0887"
            ],
            [
             0.1111111111111111,
             "#46039f"
            ],
            [
             0.2222222222222222,
             "#7201a8"
            ],
            [
             0.3333333333333333,
             "#9c179e"
            ],
            [
             0.4444444444444444,
             "#bd3786"
            ],
            [
             0.5555555555555556,
             "#d8576b"
            ],
            [
             0.6666666666666666,
             "#ed7953"
            ],
            [
             0.7777777777777778,
             "#fb9f3a"
            ],
            [
             0.8888888888888888,
             "#fdca26"
            ],
            [
             1,
             "#f0f921"
            ]
           ]
          },
          "colorway": [
           "#636efa",
           "#EF553B",
           "#00cc96",
           "#ab63fa",
           "#FFA15A",
           "#19d3f3",
           "#FF6692",
           "#B6E880",
           "#FF97FF",
           "#FECB52"
          ],
          "font": {
           "color": "#2a3f5f"
          },
          "geo": {
           "bgcolor": "white",
           "lakecolor": "white",
           "landcolor": "#E5ECF6",
           "showlakes": true,
           "showland": true,
           "subunitcolor": "white"
          },
          "hoverlabel": {
           "align": "left"
          },
          "hovermode": "closest",
          "mapbox": {
           "style": "light"
          },
          "paper_bgcolor": "white",
          "plot_bgcolor": "#E5ECF6",
          "polar": {
           "angularaxis": {
            "gridcolor": "white",
            "linecolor": "white",
            "ticks": ""
           },
           "bgcolor": "#E5ECF6",
           "radialaxis": {
            "gridcolor": "white",
            "linecolor": "white",
            "ticks": ""
           }
          },
          "scene": {
           "xaxis": {
            "backgroundcolor": "#E5ECF6",
            "gridcolor": "white",
            "gridwidth": 2,
            "linecolor": "white",
            "showbackground": true,
            "ticks": "",
            "zerolinecolor": "white"
           },
           "yaxis": {
            "backgroundcolor": "#E5ECF6",
            "gridcolor": "white",
            "gridwidth": 2,
            "linecolor": "white",
            "showbackground": true,
            "ticks": "",
            "zerolinecolor": "white"
           },
           "zaxis": {
            "backgroundcolor": "#E5ECF6",
            "gridcolor": "white",
            "gridwidth": 2,
            "linecolor": "white",
            "showbackground": true,
            "ticks": "",
            "zerolinecolor": "white"
           }
          },
          "shapedefaults": {
           "line": {
            "color": "#2a3f5f"
           }
          },
          "ternary": {
           "aaxis": {
            "gridcolor": "white",
            "linecolor": "white",
            "ticks": ""
           },
           "baxis": {
            "gridcolor": "white",
            "linecolor": "white",
            "ticks": ""
           },
           "bgcolor": "#E5ECF6",
           "caxis": {
            "gridcolor": "white",
            "linecolor": "white",
            "ticks": ""
           }
          },
          "title": {
           "x": 0.05
          },
          "xaxis": {
           "automargin": true,
           "gridcolor": "white",
           "linecolor": "white",
           "ticks": "",
           "title": {
            "standoff": 15
           },
           "zerolinecolor": "white",
           "zerolinewidth": 2
          },
          "yaxis": {
           "automargin": true,
           "gridcolor": "white",
           "linecolor": "white",
           "ticks": "",
           "title": {
            "standoff": 15
           },
           "zerolinecolor": "white",
           "zerolinewidth": 2
          }
         }
        },
        "title": {
         "text": "Linear Function: y = 47.13x + 2.33"
        },
        "xaxis": {
         "title": {
          "text": "X"
         }
        },
        "yaxis": {
         "title": {
          "text": "Y"
         }
        }
       }
      }
     },
     "metadata": {},
     "output_type": "display_data"
    }
   ],
   "source": [
    "from torch.linalg import pinv\n",
    "from torch import cat, ones\n",
    " \n",
    "dataset = Hyperplane(1, 100, noise=20)\n",
    "model = Neuron(1) \n",
    "features  = cat([dataset.features , ones(dataset.features .shape[0], 1)], dim=1)\n",
    "parameters = pinv(features) @ dataset.targets \n",
    "model.transformation.weight.data = parameters[0] \n",
    "model.transformation.bias.data = parameters[1]  \n",
    "figure = plot_linear_samples(dataset.features, dataset.targets)\n",
    "figure = plot_line(model.transformation.weight.item(), model.transformation.bias.item(), figure)\n",
    "figure.show()"
   ]
  }
 ],
 "metadata": {
  "kernelspec": {
   "display_name": "torch",
   "language": "python",
   "name": "python3"
  },
  "language_info": {
   "codemirror_mode": {
    "name": "ipython",
    "version": 3
   },
   "file_extension": ".py",
   "mimetype": "text/x-python",
   "name": "python",
   "nbconvert_exporter": "python",
   "pygments_lexer": "ipython3",
   "version": "3.13.5"
  }
 },
 "nbformat": 4,
 "nbformat_minor": 5
}
